{
 "cells": [
  {
   "cell_type": "code",
   "execution_count": 1,
   "id": "f543f7e8",
   "metadata": {},
   "outputs": [],
   "source": [
    "#importamos librerías\n",
    "import numpy as np\n",
    "import pandas as pd\n",
    "\n",
    "import seaborn as sns\n",
    "import matplotlib.pyplot as plt\n",
    "\n",
    "import src.funciones_limpiar as fl"
   ]
  },
  {
   "cell_type": "code",
   "execution_count": 2,
   "id": "651a5cd8",
   "metadata": {},
   "outputs": [
    {
     "data": {
      "text/plain": [
       "3"
      ]
     },
     "execution_count": 2,
     "metadata": {},
     "output_type": "execute_result"
    }
   ],
   "source": [
    "fl.suma(1,2) #ejemplo para entender el scr de las funciones"
   ]
  },
  {
   "cell_type": "code",
   "execution_count": 3,
   "id": "a8b6b7f2",
   "metadata": {},
   "outputs": [],
   "source": [
    "#abrimos el CSV\n",
    "df = pd.read_csv(\"data/attacks.csv\",encoding = \"ISO-8859-1\")"
   ]
  },
  {
   "cell_type": "code",
   "execution_count": 4,
   "id": "05ed0c3a",
   "metadata": {},
   "outputs": [
    {
     "name": "stdout",
     "output_type": "stream",
     "text": [
      "<class 'pandas.core.frame.DataFrame'>\n",
      "RangeIndex: 25723 entries, 0 to 25722\n",
      "Data columns (total 24 columns):\n",
      " #   Column                  Non-Null Count  Dtype  \n",
      "---  ------                  --------------  -----  \n",
      " 0   Case Number             8702 non-null   object \n",
      " 1   Date                    6302 non-null   object \n",
      " 2   Year                    6300 non-null   float64\n",
      " 3   Type                    6298 non-null   object \n",
      " 4   Country                 6252 non-null   object \n",
      " 5   Area                    5847 non-null   object \n",
      " 6   Location                5762 non-null   object \n",
      " 7   Activity                5758 non-null   object \n",
      " 8   Name                    6092 non-null   object \n",
      " 9   Sex                     5737 non-null   object \n",
      " 10  Age                     3471 non-null   object \n",
      " 11  Injury                  6274 non-null   object \n",
      " 12  Fatal (Y/N)             5763 non-null   object \n",
      " 13  Time                    2948 non-null   object \n",
      " 14  Species                 3464 non-null   object \n",
      " 15  Investigator or Source  6285 non-null   object \n",
      " 16  pdf                     6302 non-null   object \n",
      " 17  href formula            6301 non-null   object \n",
      " 18  href                    6302 non-null   object \n",
      " 19  Case Number.1           6302 non-null   object \n",
      " 20  Case Number.2           6302 non-null   object \n",
      " 21  original order          6309 non-null   float64\n",
      " 22  Unnamed: 22             1 non-null      object \n",
      " 23  Unnamed: 23             2 non-null      object \n",
      "dtypes: float64(2), object(22)\n",
      "memory usage: 4.7+ MB\n"
     ]
    }
   ],
   "source": [
    "df.info() #hay nulos por todas partes"
   ]
  },
  {
   "cell_type": "code",
   "execution_count": 5,
   "id": "8039247d",
   "metadata": {},
   "outputs": [
    {
     "name": "stdout",
     "output_type": "stream",
     "text": [
      "<class 'pandas.core.frame.DataFrame'>\n",
      "Int64Index: 8703 entries, 0 to 25722\n",
      "Data columns (total 24 columns):\n",
      " #   Column                  Non-Null Count  Dtype  \n",
      "---  ------                  --------------  -----  \n",
      " 0   Case Number             8702 non-null   object \n",
      " 1   Date                    6302 non-null   object \n",
      " 2   Year                    6300 non-null   float64\n",
      " 3   Type                    6298 non-null   object \n",
      " 4   Country                 6252 non-null   object \n",
      " 5   Area                    5847 non-null   object \n",
      " 6   Location                5762 non-null   object \n",
      " 7   Activity                5758 non-null   object \n",
      " 8   Name                    6092 non-null   object \n",
      " 9   Sex                     5737 non-null   object \n",
      " 10  Age                     3471 non-null   object \n",
      " 11  Injury                  6274 non-null   object \n",
      " 12  Fatal (Y/N)             5763 non-null   object \n",
      " 13  Time                    2948 non-null   object \n",
      " 14  Species                 3464 non-null   object \n",
      " 15  Investigator or Source  6285 non-null   object \n",
      " 16  pdf                     6302 non-null   object \n",
      " 17  href formula            6301 non-null   object \n",
      " 18  href                    6302 non-null   object \n",
      " 19  Case Number.1           6302 non-null   object \n",
      " 20  Case Number.2           6302 non-null   object \n",
      " 21  original order          6309 non-null   float64\n",
      " 22  Unnamed: 22             1 non-null      object \n",
      " 23  Unnamed: 23             2 non-null      object \n",
      "dtypes: float64(2), object(22)\n",
      "memory usage: 1.7+ MB\n"
     ]
    }
   ],
   "source": [
    "df.dropna(how=\"all\", inplace=True)\n",
    "df.info() #borramos solo los nulos donde todos los registros de una fila son nulos"
   ]
  },
  {
   "cell_type": "code",
   "execution_count": 6,
   "id": "8d71ea25",
   "metadata": {},
   "outputs": [
    {
     "name": "stdout",
     "output_type": "stream",
     "text": [
      "<class 'pandas.core.frame.DataFrame'>\n",
      "Int64Index: 8703 entries, 0 to 25722\n",
      "Data columns (total 24 columns):\n",
      " #   Column                  Non-Null Count  Dtype  \n",
      "---  ------                  --------------  -----  \n",
      " 0   Case Number             8702 non-null   object \n",
      " 1   Date                    6302 non-null   object \n",
      " 2   Year                    6300 non-null   float64\n",
      " 3   Type                    6298 non-null   object \n",
      " 4   Country                 6252 non-null   object \n",
      " 5   Area                    5847 non-null   object \n",
      " 6   Location                5762 non-null   object \n",
      " 7   Activity                5758 non-null   object \n",
      " 8   Name                    6092 non-null   object \n",
      " 9   Sex                     5737 non-null   object \n",
      " 10  Age                     3471 non-null   object \n",
      " 11  Injury                  6274 non-null   object \n",
      " 12  Fatal (Y/N)             5763 non-null   object \n",
      " 13  Time                    2948 non-null   object \n",
      " 14  Species                 3464 non-null   object \n",
      " 15  Investigator or Source  6285 non-null   object \n",
      " 16  pdf                     6302 non-null   object \n",
      " 17  href formula            6301 non-null   object \n",
      " 18  href                    6302 non-null   object \n",
      " 19  Case Number.1           6302 non-null   object \n",
      " 20  Case Number.2           6302 non-null   object \n",
      " 21  original order          6309 non-null   float64\n",
      " 22  Unnamed: 22             1 non-null      object \n",
      " 23  Unnamed: 23             2 non-null      object \n",
      "dtypes: float64(2), object(22)\n",
      "memory usage: 1.7+ MB\n"
     ]
    }
   ],
   "source": [
    "df.dropna(how=\"all\", axis=1, inplace=True) #no hay ninguna columna en la que todo sea nan. Algún dato siempre tiene\n",
    "df.info()"
   ]
  },
  {
   "cell_type": "code",
   "execution_count": 7,
   "id": "893e84ff",
   "metadata": {},
   "outputs": [
    {
     "data": {
      "text/plain": [
       "stopped here    1\n",
       "Name: Unnamed: 22, dtype: int64"
      ]
     },
     "execution_count": 7,
     "metadata": {},
     "output_type": "execute_result"
    }
   ],
   "source": [
    "df[\"Unnamed: 22\"].value_counts()"
   ]
  },
  {
   "cell_type": "code",
   "execution_count": 8,
   "id": "ac6b6ec8",
   "metadata": {},
   "outputs": [
    {
     "data": {
      "text/plain": [
       "Teramo             1\n",
       "change filename    1\n",
       "Name: Unnamed: 23, dtype: int64"
      ]
     },
     "execution_count": 8,
     "metadata": {},
     "output_type": "execute_result"
    }
   ],
   "source": [
    "df[\"Unnamed: 23\"].value_counts()"
   ]
  },
  {
   "cell_type": "code",
   "execution_count": 9,
   "id": "71250ecd",
   "metadata": {},
   "outputs": [],
   "source": [
    "df.drop([\"Unnamed: 22\", \"Unnamed: 23\"], axis=1, inplace=True) #borramos las dos columnas donde solo hay 1 o 2 datos, además las columnas no tienen nombre"
   ]
  },
  {
   "cell_type": "code",
   "execution_count": 10,
   "id": "85570605",
   "metadata": {},
   "outputs": [
    {
     "name": "stdout",
     "output_type": "stream",
     "text": [
      "<class 'pandas.core.frame.DataFrame'>\n",
      "Int64Index: 8703 entries, 0 to 25722\n",
      "Data columns (total 22 columns):\n",
      " #   Column                  Non-Null Count  Dtype  \n",
      "---  ------                  --------------  -----  \n",
      " 0   Case Number             8702 non-null   object \n",
      " 1   Date                    6302 non-null   object \n",
      " 2   Year                    6300 non-null   float64\n",
      " 3   Type                    6298 non-null   object \n",
      " 4   Country                 6252 non-null   object \n",
      " 5   Area                    5847 non-null   object \n",
      " 6   Location                5762 non-null   object \n",
      " 7   Activity                5758 non-null   object \n",
      " 8   Name                    6092 non-null   object \n",
      " 9   Sex                     5737 non-null   object \n",
      " 10  Age                     3471 non-null   object \n",
      " 11  Injury                  6274 non-null   object \n",
      " 12  Fatal (Y/N)             5763 non-null   object \n",
      " 13  Time                    2948 non-null   object \n",
      " 14  Species                 3464 non-null   object \n",
      " 15  Investigator or Source  6285 non-null   object \n",
      " 16  pdf                     6302 non-null   object \n",
      " 17  href formula            6301 non-null   object \n",
      " 18  href                    6302 non-null   object \n",
      " 19  Case Number.1           6302 non-null   object \n",
      " 20  Case Number.2           6302 non-null   object \n",
      " 21  original order          6309 non-null   float64\n",
      "dtypes: float64(2), object(20)\n",
      "memory usage: 1.5+ MB\n"
     ]
    }
   ],
   "source": [
    "df.info() #empiezo a hacer algunos chequeos para entender la info que tengo en el fichero"
   ]
  },
  {
   "cell_type": "code",
   "execution_count": 11,
   "id": "68d955c3",
   "metadata": {},
   "outputs": [
    {
     "data": {
      "text/html": [
       "<div>\n",
       "<style scoped>\n",
       "    .dataframe tbody tr th:only-of-type {\n",
       "        vertical-align: middle;\n",
       "    }\n",
       "\n",
       "    .dataframe tbody tr th {\n",
       "        vertical-align: top;\n",
       "    }\n",
       "\n",
       "    .dataframe thead th {\n",
       "        text-align: right;\n",
       "    }\n",
       "</style>\n",
       "<table border=\"1\" class=\"dataframe\">\n",
       "  <thead>\n",
       "    <tr style=\"text-align: right;\">\n",
       "      <th></th>\n",
       "      <th>Case Number</th>\n",
       "      <th>Date</th>\n",
       "      <th>Year</th>\n",
       "      <th>Type</th>\n",
       "      <th>Country</th>\n",
       "      <th>Area</th>\n",
       "      <th>Location</th>\n",
       "      <th>Activity</th>\n",
       "      <th>Name</th>\n",
       "      <th>Sex</th>\n",
       "      <th>...</th>\n",
       "      <th>Fatal (Y/N)</th>\n",
       "      <th>Time</th>\n",
       "      <th>Species</th>\n",
       "      <th>Investigator or Source</th>\n",
       "      <th>pdf</th>\n",
       "      <th>href formula</th>\n",
       "      <th>href</th>\n",
       "      <th>Case Number.1</th>\n",
       "      <th>Case Number.2</th>\n",
       "      <th>original order</th>\n",
       "    </tr>\n",
       "  </thead>\n",
       "  <tbody>\n",
       "    <tr>\n",
       "      <th>0</th>\n",
       "      <td>2018.06.25</td>\n",
       "      <td>25-Jun-2018</td>\n",
       "      <td>2018.0</td>\n",
       "      <td>Boating</td>\n",
       "      <td>USA</td>\n",
       "      <td>California</td>\n",
       "      <td>Oceanside, San Diego County</td>\n",
       "      <td>Paddling</td>\n",
       "      <td>Julie Wolfe</td>\n",
       "      <td>F</td>\n",
       "      <td>...</td>\n",
       "      <td>N</td>\n",
       "      <td>18h00</td>\n",
       "      <td>White shark</td>\n",
       "      <td>R. Collier, GSAF</td>\n",
       "      <td>2018.06.25-Wolfe.pdf</td>\n",
       "      <td>http://sharkattackfile.net/spreadsheets/pdf_di...</td>\n",
       "      <td>http://sharkattackfile.net/spreadsheets/pdf_di...</td>\n",
       "      <td>2018.06.25</td>\n",
       "      <td>2018.06.25</td>\n",
       "      <td>6303.0</td>\n",
       "    </tr>\n",
       "    <tr>\n",
       "      <th>1</th>\n",
       "      <td>2018.06.18</td>\n",
       "      <td>18-Jun-2018</td>\n",
       "      <td>2018.0</td>\n",
       "      <td>Unprovoked</td>\n",
       "      <td>USA</td>\n",
       "      <td>Georgia</td>\n",
       "      <td>St. Simon Island, Glynn County</td>\n",
       "      <td>Standing</td>\n",
       "      <td>Adyson McNeely</td>\n",
       "      <td>F</td>\n",
       "      <td>...</td>\n",
       "      <td>N</td>\n",
       "      <td>14h00  -15h00</td>\n",
       "      <td>NaN</td>\n",
       "      <td>K.McMurray, TrackingSharks.com</td>\n",
       "      <td>2018.06.18-McNeely.pdf</td>\n",
       "      <td>http://sharkattackfile.net/spreadsheets/pdf_di...</td>\n",
       "      <td>http://sharkattackfile.net/spreadsheets/pdf_di...</td>\n",
       "      <td>2018.06.18</td>\n",
       "      <td>2018.06.18</td>\n",
       "      <td>6302.0</td>\n",
       "    </tr>\n",
       "  </tbody>\n",
       "</table>\n",
       "<p>2 rows × 22 columns</p>\n",
       "</div>"
      ],
      "text/plain": [
       "  Case Number         Date    Year        Type Country        Area  \\\n",
       "0  2018.06.25  25-Jun-2018  2018.0     Boating     USA  California   \n",
       "1  2018.06.18  18-Jun-2018  2018.0  Unprovoked     USA     Georgia   \n",
       "\n",
       "                         Location  Activity             Name Sex   ...  \\\n",
       "0     Oceanside, San Diego County  Paddling      Julie Wolfe    F  ...   \n",
       "1  St. Simon Island, Glynn County  Standing  Adyson McNeely     F  ...   \n",
       "\n",
       "  Fatal (Y/N)           Time     Species           Investigator or Source  \\\n",
       "0           N          18h00  White shark                R. Collier, GSAF   \n",
       "1           N  14h00  -15h00          NaN  K.McMurray, TrackingSharks.com   \n",
       "\n",
       "                      pdf                                       href formula  \\\n",
       "0    2018.06.25-Wolfe.pdf  http://sharkattackfile.net/spreadsheets/pdf_di...   \n",
       "1  2018.06.18-McNeely.pdf  http://sharkattackfile.net/spreadsheets/pdf_di...   \n",
       "\n",
       "                                                href Case Number.1  \\\n",
       "0  http://sharkattackfile.net/spreadsheets/pdf_di...    2018.06.25   \n",
       "1  http://sharkattackfile.net/spreadsheets/pdf_di...    2018.06.18   \n",
       "\n",
       "  Case Number.2 original order  \n",
       "0    2018.06.25         6303.0  \n",
       "1    2018.06.18         6302.0  \n",
       "\n",
       "[2 rows x 22 columns]"
      ]
     },
     "execution_count": 11,
     "metadata": {},
     "output_type": "execute_result"
    }
   ],
   "source": [
    "tiburones = pd.DataFrame(df)\n",
    "tiburones.head(2) #me doy cuenta de que tengo muchas filas de nan con casenumber 0"
   ]
  },
  {
   "cell_type": "code",
   "execution_count": 12,
   "id": "f38cd0fb",
   "metadata": {},
   "outputs": [
    {
     "data": {
      "text/plain": [
       "pandas.core.frame.DataFrame"
      ]
     },
     "execution_count": 12,
     "metadata": {},
     "output_type": "execute_result"
    }
   ],
   "source": [
    "type(tiburones) #confirmo que es un dataframe"
   ]
  },
  {
   "cell_type": "code",
   "execution_count": 13,
   "id": "38359df3",
   "metadata": {},
   "outputs": [],
   "source": [
    "para_Casenumber = {\"Case Number\": \"casenumber\"} #le cambio el nombre a casenumber para que no tenga espacio"
   ]
  },
  {
   "cell_type": "code",
   "execution_count": 14,
   "id": "26645406",
   "metadata": {},
   "outputs": [],
   "source": [
    "tiburones.rename(columns=para_Casenumber, inplace=True) "
   ]
  },
  {
   "cell_type": "code",
   "execution_count": 15,
   "id": "4c4f0583",
   "metadata": {},
   "outputs": [
    {
     "data": {
      "text/html": [
       "<div>\n",
       "<style scoped>\n",
       "    .dataframe tbody tr th:only-of-type {\n",
       "        vertical-align: middle;\n",
       "    }\n",
       "\n",
       "    .dataframe tbody tr th {\n",
       "        vertical-align: top;\n",
       "    }\n",
       "\n",
       "    .dataframe thead th {\n",
       "        text-align: right;\n",
       "    }\n",
       "</style>\n",
       "<table border=\"1\" class=\"dataframe\">\n",
       "  <thead>\n",
       "    <tr style=\"text-align: right;\">\n",
       "      <th></th>\n",
       "      <th>casenumber</th>\n",
       "      <th>Date</th>\n",
       "      <th>Year</th>\n",
       "      <th>Type</th>\n",
       "      <th>Country</th>\n",
       "      <th>Area</th>\n",
       "      <th>Location</th>\n",
       "      <th>Activity</th>\n",
       "      <th>Name</th>\n",
       "      <th>Sex</th>\n",
       "      <th>...</th>\n",
       "      <th>Fatal (Y/N)</th>\n",
       "      <th>Time</th>\n",
       "      <th>Species</th>\n",
       "      <th>Investigator or Source</th>\n",
       "      <th>pdf</th>\n",
       "      <th>href formula</th>\n",
       "      <th>href</th>\n",
       "      <th>Case Number.1</th>\n",
       "      <th>Case Number.2</th>\n",
       "      <th>original order</th>\n",
       "    </tr>\n",
       "  </thead>\n",
       "  <tbody>\n",
       "    <tr>\n",
       "      <th>8701</th>\n",
       "      <td>0</td>\n",
       "      <td>NaN</td>\n",
       "      <td>NaN</td>\n",
       "      <td>NaN</td>\n",
       "      <td>NaN</td>\n",
       "      <td>NaN</td>\n",
       "      <td>NaN</td>\n",
       "      <td>NaN</td>\n",
       "      <td>NaN</td>\n",
       "      <td>NaN</td>\n",
       "      <td>...</td>\n",
       "      <td>NaN</td>\n",
       "      <td>NaN</td>\n",
       "      <td>NaN</td>\n",
       "      <td>NaN</td>\n",
       "      <td>NaN</td>\n",
       "      <td>NaN</td>\n",
       "      <td>NaN</td>\n",
       "      <td>NaN</td>\n",
       "      <td>NaN</td>\n",
       "      <td>NaN</td>\n",
       "    </tr>\n",
       "    <tr>\n",
       "      <th>25722</th>\n",
       "      <td>xx</td>\n",
       "      <td>NaN</td>\n",
       "      <td>NaN</td>\n",
       "      <td>NaN</td>\n",
       "      <td>NaN</td>\n",
       "      <td>NaN</td>\n",
       "      <td>NaN</td>\n",
       "      <td>NaN</td>\n",
       "      <td>NaN</td>\n",
       "      <td>NaN</td>\n",
       "      <td>...</td>\n",
       "      <td>NaN</td>\n",
       "      <td>NaN</td>\n",
       "      <td>NaN</td>\n",
       "      <td>NaN</td>\n",
       "      <td>NaN</td>\n",
       "      <td>NaN</td>\n",
       "      <td>NaN</td>\n",
       "      <td>NaN</td>\n",
       "      <td>NaN</td>\n",
       "      <td>NaN</td>\n",
       "    </tr>\n",
       "  </tbody>\n",
       "</table>\n",
       "<p>2 rows × 22 columns</p>\n",
       "</div>"
      ],
      "text/plain": [
       "      casenumber Date  Year Type Country Area Location Activity Name Sex   \\\n",
       "8701           0  NaN   NaN  NaN     NaN  NaN      NaN      NaN  NaN  NaN   \n",
       "25722         xx  NaN   NaN  NaN     NaN  NaN      NaN      NaN  NaN  NaN   \n",
       "\n",
       "       ... Fatal (Y/N) Time Species  Investigator or Source  pdf href formula  \\\n",
       "8701   ...         NaN  NaN      NaN                    NaN  NaN          NaN   \n",
       "25722  ...         NaN  NaN      NaN                    NaN  NaN          NaN   \n",
       "\n",
       "      href Case Number.1 Case Number.2 original order  \n",
       "8701   NaN           NaN           NaN            NaN  \n",
       "25722  NaN           NaN           NaN            NaN  \n",
       "\n",
       "[2 rows x 22 columns]"
      ]
     },
     "execution_count": 15,
     "metadata": {},
     "output_type": "execute_result"
    }
   ],
   "source": [
    "tiburones.tail(2)"
   ]
  },
  {
   "cell_type": "code",
   "execution_count": 16,
   "id": "bcd91c5e",
   "metadata": {},
   "outputs": [
    {
     "data": {
      "text/plain": [
       "(8703, 22)"
      ]
     },
     "execution_count": 16,
     "metadata": {},
     "output_type": "execute_result"
    }
   ],
   "source": [
    "tiburones.shape"
   ]
  },
  {
   "cell_type": "code",
   "execution_count": 17,
   "id": "f4a71298",
   "metadata": {},
   "outputs": [
    {
     "data": {
      "text/html": [
       "<div>\n",
       "<style scoped>\n",
       "    .dataframe tbody tr th:only-of-type {\n",
       "        vertical-align: middle;\n",
       "    }\n",
       "\n",
       "    .dataframe tbody tr th {\n",
       "        vertical-align: top;\n",
       "    }\n",
       "\n",
       "    .dataframe thead th {\n",
       "        text-align: right;\n",
       "    }\n",
       "</style>\n",
       "<table border=\"1\" class=\"dataframe\">\n",
       "  <thead>\n",
       "    <tr style=\"text-align: right;\">\n",
       "      <th></th>\n",
       "      <th>casenumber</th>\n",
       "      <th>Date</th>\n",
       "      <th>Year</th>\n",
       "      <th>Type</th>\n",
       "      <th>Country</th>\n",
       "      <th>Area</th>\n",
       "      <th>Location</th>\n",
       "      <th>Activity</th>\n",
       "      <th>Name</th>\n",
       "      <th>Sex</th>\n",
       "      <th>...</th>\n",
       "      <th>Fatal (Y/N)</th>\n",
       "      <th>Time</th>\n",
       "      <th>Species</th>\n",
       "      <th>Investigator or Source</th>\n",
       "      <th>pdf</th>\n",
       "      <th>href formula</th>\n",
       "      <th>href</th>\n",
       "      <th>Case Number.1</th>\n",
       "      <th>Case Number.2</th>\n",
       "      <th>original order</th>\n",
       "    </tr>\n",
       "  </thead>\n",
       "  <tbody>\n",
       "    <tr>\n",
       "      <th>6302</th>\n",
       "      <td>0</td>\n",
       "      <td>NaN</td>\n",
       "      <td>NaN</td>\n",
       "      <td>NaN</td>\n",
       "      <td>NaN</td>\n",
       "      <td>NaN</td>\n",
       "      <td>NaN</td>\n",
       "      <td>NaN</td>\n",
       "      <td>NaN</td>\n",
       "      <td>NaN</td>\n",
       "      <td>...</td>\n",
       "      <td>NaN</td>\n",
       "      <td>NaN</td>\n",
       "      <td>NaN</td>\n",
       "      <td>NaN</td>\n",
       "      <td>NaN</td>\n",
       "      <td>NaN</td>\n",
       "      <td>NaN</td>\n",
       "      <td>NaN</td>\n",
       "      <td>NaN</td>\n",
       "      <td>6304.0</td>\n",
       "    </tr>\n",
       "    <tr>\n",
       "      <th>6303</th>\n",
       "      <td>0</td>\n",
       "      <td>NaN</td>\n",
       "      <td>NaN</td>\n",
       "      <td>NaN</td>\n",
       "      <td>NaN</td>\n",
       "      <td>NaN</td>\n",
       "      <td>NaN</td>\n",
       "      <td>NaN</td>\n",
       "      <td>NaN</td>\n",
       "      <td>NaN</td>\n",
       "      <td>...</td>\n",
       "      <td>NaN</td>\n",
       "      <td>NaN</td>\n",
       "      <td>NaN</td>\n",
       "      <td>NaN</td>\n",
       "      <td>NaN</td>\n",
       "      <td>NaN</td>\n",
       "      <td>NaN</td>\n",
       "      <td>NaN</td>\n",
       "      <td>NaN</td>\n",
       "      <td>6305.0</td>\n",
       "    </tr>\n",
       "    <tr>\n",
       "      <th>6304</th>\n",
       "      <td>0</td>\n",
       "      <td>NaN</td>\n",
       "      <td>NaN</td>\n",
       "      <td>NaN</td>\n",
       "      <td>NaN</td>\n",
       "      <td>NaN</td>\n",
       "      <td>NaN</td>\n",
       "      <td>NaN</td>\n",
       "      <td>NaN</td>\n",
       "      <td>NaN</td>\n",
       "      <td>...</td>\n",
       "      <td>NaN</td>\n",
       "      <td>NaN</td>\n",
       "      <td>NaN</td>\n",
       "      <td>NaN</td>\n",
       "      <td>NaN</td>\n",
       "      <td>NaN</td>\n",
       "      <td>NaN</td>\n",
       "      <td>NaN</td>\n",
       "      <td>NaN</td>\n",
       "      <td>6306.0</td>\n",
       "    </tr>\n",
       "    <tr>\n",
       "      <th>6305</th>\n",
       "      <td>0</td>\n",
       "      <td>NaN</td>\n",
       "      <td>NaN</td>\n",
       "      <td>NaN</td>\n",
       "      <td>NaN</td>\n",
       "      <td>NaN</td>\n",
       "      <td>NaN</td>\n",
       "      <td>NaN</td>\n",
       "      <td>NaN</td>\n",
       "      <td>NaN</td>\n",
       "      <td>...</td>\n",
       "      <td>NaN</td>\n",
       "      <td>NaN</td>\n",
       "      <td>NaN</td>\n",
       "      <td>NaN</td>\n",
       "      <td>NaN</td>\n",
       "      <td>NaN</td>\n",
       "      <td>NaN</td>\n",
       "      <td>NaN</td>\n",
       "      <td>NaN</td>\n",
       "      <td>6307.0</td>\n",
       "    </tr>\n",
       "    <tr>\n",
       "      <th>6306</th>\n",
       "      <td>0</td>\n",
       "      <td>NaN</td>\n",
       "      <td>NaN</td>\n",
       "      <td>NaN</td>\n",
       "      <td>NaN</td>\n",
       "      <td>NaN</td>\n",
       "      <td>NaN</td>\n",
       "      <td>NaN</td>\n",
       "      <td>NaN</td>\n",
       "      <td>NaN</td>\n",
       "      <td>...</td>\n",
       "      <td>NaN</td>\n",
       "      <td>NaN</td>\n",
       "      <td>NaN</td>\n",
       "      <td>NaN</td>\n",
       "      <td>NaN</td>\n",
       "      <td>NaN</td>\n",
       "      <td>NaN</td>\n",
       "      <td>NaN</td>\n",
       "      <td>NaN</td>\n",
       "      <td>6308.0</td>\n",
       "    </tr>\n",
       "    <tr>\n",
       "      <th>...</th>\n",
       "      <td>...</td>\n",
       "      <td>...</td>\n",
       "      <td>...</td>\n",
       "      <td>...</td>\n",
       "      <td>...</td>\n",
       "      <td>...</td>\n",
       "      <td>...</td>\n",
       "      <td>...</td>\n",
       "      <td>...</td>\n",
       "      <td>...</td>\n",
       "      <td>...</td>\n",
       "      <td>...</td>\n",
       "      <td>...</td>\n",
       "      <td>...</td>\n",
       "      <td>...</td>\n",
       "      <td>...</td>\n",
       "      <td>...</td>\n",
       "      <td>...</td>\n",
       "      <td>...</td>\n",
       "      <td>...</td>\n",
       "      <td>...</td>\n",
       "    </tr>\n",
       "    <tr>\n",
       "      <th>8697</th>\n",
       "      <td>0</td>\n",
       "      <td>NaN</td>\n",
       "      <td>NaN</td>\n",
       "      <td>NaN</td>\n",
       "      <td>NaN</td>\n",
       "      <td>NaN</td>\n",
       "      <td>NaN</td>\n",
       "      <td>NaN</td>\n",
       "      <td>NaN</td>\n",
       "      <td>NaN</td>\n",
       "      <td>...</td>\n",
       "      <td>NaN</td>\n",
       "      <td>NaN</td>\n",
       "      <td>NaN</td>\n",
       "      <td>NaN</td>\n",
       "      <td>NaN</td>\n",
       "      <td>NaN</td>\n",
       "      <td>NaN</td>\n",
       "      <td>NaN</td>\n",
       "      <td>NaN</td>\n",
       "      <td>NaN</td>\n",
       "    </tr>\n",
       "    <tr>\n",
       "      <th>8698</th>\n",
       "      <td>0</td>\n",
       "      <td>NaN</td>\n",
       "      <td>NaN</td>\n",
       "      <td>NaN</td>\n",
       "      <td>NaN</td>\n",
       "      <td>NaN</td>\n",
       "      <td>NaN</td>\n",
       "      <td>NaN</td>\n",
       "      <td>NaN</td>\n",
       "      <td>NaN</td>\n",
       "      <td>...</td>\n",
       "      <td>NaN</td>\n",
       "      <td>NaN</td>\n",
       "      <td>NaN</td>\n",
       "      <td>NaN</td>\n",
       "      <td>NaN</td>\n",
       "      <td>NaN</td>\n",
       "      <td>NaN</td>\n",
       "      <td>NaN</td>\n",
       "      <td>NaN</td>\n",
       "      <td>NaN</td>\n",
       "    </tr>\n",
       "    <tr>\n",
       "      <th>8699</th>\n",
       "      <td>0</td>\n",
       "      <td>NaN</td>\n",
       "      <td>NaN</td>\n",
       "      <td>NaN</td>\n",
       "      <td>NaN</td>\n",
       "      <td>NaN</td>\n",
       "      <td>NaN</td>\n",
       "      <td>NaN</td>\n",
       "      <td>NaN</td>\n",
       "      <td>NaN</td>\n",
       "      <td>...</td>\n",
       "      <td>NaN</td>\n",
       "      <td>NaN</td>\n",
       "      <td>NaN</td>\n",
       "      <td>NaN</td>\n",
       "      <td>NaN</td>\n",
       "      <td>NaN</td>\n",
       "      <td>NaN</td>\n",
       "      <td>NaN</td>\n",
       "      <td>NaN</td>\n",
       "      <td>NaN</td>\n",
       "    </tr>\n",
       "    <tr>\n",
       "      <th>8700</th>\n",
       "      <td>0</td>\n",
       "      <td>NaN</td>\n",
       "      <td>NaN</td>\n",
       "      <td>NaN</td>\n",
       "      <td>NaN</td>\n",
       "      <td>NaN</td>\n",
       "      <td>NaN</td>\n",
       "      <td>NaN</td>\n",
       "      <td>NaN</td>\n",
       "      <td>NaN</td>\n",
       "      <td>...</td>\n",
       "      <td>NaN</td>\n",
       "      <td>NaN</td>\n",
       "      <td>NaN</td>\n",
       "      <td>NaN</td>\n",
       "      <td>NaN</td>\n",
       "      <td>NaN</td>\n",
       "      <td>NaN</td>\n",
       "      <td>NaN</td>\n",
       "      <td>NaN</td>\n",
       "      <td>NaN</td>\n",
       "    </tr>\n",
       "    <tr>\n",
       "      <th>8701</th>\n",
       "      <td>0</td>\n",
       "      <td>NaN</td>\n",
       "      <td>NaN</td>\n",
       "      <td>NaN</td>\n",
       "      <td>NaN</td>\n",
       "      <td>NaN</td>\n",
       "      <td>NaN</td>\n",
       "      <td>NaN</td>\n",
       "      <td>NaN</td>\n",
       "      <td>NaN</td>\n",
       "      <td>...</td>\n",
       "      <td>NaN</td>\n",
       "      <td>NaN</td>\n",
       "      <td>NaN</td>\n",
       "      <td>NaN</td>\n",
       "      <td>NaN</td>\n",
       "      <td>NaN</td>\n",
       "      <td>NaN</td>\n",
       "      <td>NaN</td>\n",
       "      <td>NaN</td>\n",
       "      <td>NaN</td>\n",
       "    </tr>\n",
       "  </tbody>\n",
       "</table>\n",
       "<p>2400 rows × 22 columns</p>\n",
       "</div>"
      ],
      "text/plain": [
       "     casenumber Date  Year Type Country Area Location Activity Name Sex   ...  \\\n",
       "6302          0  NaN   NaN  NaN     NaN  NaN      NaN      NaN  NaN  NaN  ...   \n",
       "6303          0  NaN   NaN  NaN     NaN  NaN      NaN      NaN  NaN  NaN  ...   \n",
       "6304          0  NaN   NaN  NaN     NaN  NaN      NaN      NaN  NaN  NaN  ...   \n",
       "6305          0  NaN   NaN  NaN     NaN  NaN      NaN      NaN  NaN  NaN  ...   \n",
       "6306          0  NaN   NaN  NaN     NaN  NaN      NaN      NaN  NaN  NaN  ...   \n",
       "...         ...  ...   ...  ...     ...  ...      ...      ...  ...  ...  ...   \n",
       "8697          0  NaN   NaN  NaN     NaN  NaN      NaN      NaN  NaN  NaN  ...   \n",
       "8698          0  NaN   NaN  NaN     NaN  NaN      NaN      NaN  NaN  NaN  ...   \n",
       "8699          0  NaN   NaN  NaN     NaN  NaN      NaN      NaN  NaN  NaN  ...   \n",
       "8700          0  NaN   NaN  NaN     NaN  NaN      NaN      NaN  NaN  NaN  ...   \n",
       "8701          0  NaN   NaN  NaN     NaN  NaN      NaN      NaN  NaN  NaN  ...   \n",
       "\n",
       "     Fatal (Y/N) Time Species  Investigator or Source  pdf href formula href  \\\n",
       "6302         NaN  NaN      NaN                    NaN  NaN          NaN  NaN   \n",
       "6303         NaN  NaN      NaN                    NaN  NaN          NaN  NaN   \n",
       "6304         NaN  NaN      NaN                    NaN  NaN          NaN  NaN   \n",
       "6305         NaN  NaN      NaN                    NaN  NaN          NaN  NaN   \n",
       "6306         NaN  NaN      NaN                    NaN  NaN          NaN  NaN   \n",
       "...          ...  ...      ...                    ...  ...          ...  ...   \n",
       "8697         NaN  NaN      NaN                    NaN  NaN          NaN  NaN   \n",
       "8698         NaN  NaN      NaN                    NaN  NaN          NaN  NaN   \n",
       "8699         NaN  NaN      NaN                    NaN  NaN          NaN  NaN   \n",
       "8700         NaN  NaN      NaN                    NaN  NaN          NaN  NaN   \n",
       "8701         NaN  NaN      NaN                    NaN  NaN          NaN  NaN   \n",
       "\n",
       "     Case Number.1 Case Number.2 original order  \n",
       "6302           NaN           NaN         6304.0  \n",
       "6303           NaN           NaN         6305.0  \n",
       "6304           NaN           NaN         6306.0  \n",
       "6305           NaN           NaN         6307.0  \n",
       "6306           NaN           NaN         6308.0  \n",
       "...            ...           ...            ...  \n",
       "8697           NaN           NaN            NaN  \n",
       "8698           NaN           NaN            NaN  \n",
       "8699           NaN           NaN            NaN  \n",
       "8700           NaN           NaN            NaN  \n",
       "8701           NaN           NaN            NaN  \n",
       "\n",
       "[2400 rows x 22 columns]"
      ]
     },
     "execution_count": 17,
     "metadata": {},
     "output_type": "execute_result"
    }
   ],
   "source": [
    "tiburones[(tiburones.casenumber==\"0\")] #me quito los ids de 0"
   ]
  },
  {
   "cell_type": "code",
   "execution_count": 18,
   "id": "9b161543",
   "metadata": {},
   "outputs": [
    {
     "data": {
      "text/plain": [
       "(6303, 22)"
      ]
     },
     "execution_count": 18,
     "metadata": {},
     "output_type": "execute_result"
    }
   ],
   "source": [
    "tiburones2 = tiburones.drop(tiburones[tiburones['casenumber']==\"0\"].index) #eliminamos los  registros que tienen un casenumber cero y todos los datos nan\n",
    "tiburones2.shape"
   ]
  },
  {
   "cell_type": "code",
   "execution_count": 19,
   "id": "70bc91d6",
   "metadata": {},
   "outputs": [
    {
     "data": {
      "text/html": [
       "<div>\n",
       "<style scoped>\n",
       "    .dataframe tbody tr th:only-of-type {\n",
       "        vertical-align: middle;\n",
       "    }\n",
       "\n",
       "    .dataframe tbody tr th {\n",
       "        vertical-align: top;\n",
       "    }\n",
       "\n",
       "    .dataframe thead th {\n",
       "        text-align: right;\n",
       "    }\n",
       "</style>\n",
       "<table border=\"1\" class=\"dataframe\">\n",
       "  <thead>\n",
       "    <tr style=\"text-align: right;\">\n",
       "      <th></th>\n",
       "      <th>casenumber</th>\n",
       "      <th>Date</th>\n",
       "      <th>Year</th>\n",
       "      <th>Type</th>\n",
       "      <th>Country</th>\n",
       "      <th>Area</th>\n",
       "      <th>Location</th>\n",
       "      <th>Activity</th>\n",
       "      <th>Name</th>\n",
       "      <th>Sex</th>\n",
       "      <th>...</th>\n",
       "      <th>Fatal (Y/N)</th>\n",
       "      <th>Time</th>\n",
       "      <th>Species</th>\n",
       "      <th>Investigator or Source</th>\n",
       "      <th>pdf</th>\n",
       "      <th>href formula</th>\n",
       "      <th>href</th>\n",
       "      <th>Case Number.1</th>\n",
       "      <th>Case Number.2</th>\n",
       "      <th>original order</th>\n",
       "    </tr>\n",
       "  </thead>\n",
       "  <tbody>\n",
       "    <tr>\n",
       "      <th>0</th>\n",
       "      <td>2018.06.25</td>\n",
       "      <td>25-Jun-2018</td>\n",
       "      <td>2018.0</td>\n",
       "      <td>Boating</td>\n",
       "      <td>USA</td>\n",
       "      <td>California</td>\n",
       "      <td>Oceanside, San Diego County</td>\n",
       "      <td>Paddling</td>\n",
       "      <td>Julie Wolfe</td>\n",
       "      <td>F</td>\n",
       "      <td>...</td>\n",
       "      <td>N</td>\n",
       "      <td>18h00</td>\n",
       "      <td>White shark</td>\n",
       "      <td>R. Collier, GSAF</td>\n",
       "      <td>2018.06.25-Wolfe.pdf</td>\n",
       "      <td>http://sharkattackfile.net/spreadsheets/pdf_di...</td>\n",
       "      <td>http://sharkattackfile.net/spreadsheets/pdf_di...</td>\n",
       "      <td>2018.06.25</td>\n",
       "      <td>2018.06.25</td>\n",
       "      <td>6303.0</td>\n",
       "    </tr>\n",
       "    <tr>\n",
       "      <th>1</th>\n",
       "      <td>2018.06.18</td>\n",
       "      <td>18-Jun-2018</td>\n",
       "      <td>2018.0</td>\n",
       "      <td>Unprovoked</td>\n",
       "      <td>USA</td>\n",
       "      <td>Georgia</td>\n",
       "      <td>St. Simon Island, Glynn County</td>\n",
       "      <td>Standing</td>\n",
       "      <td>Adyson McNeely</td>\n",
       "      <td>F</td>\n",
       "      <td>...</td>\n",
       "      <td>N</td>\n",
       "      <td>14h00  -15h00</td>\n",
       "      <td>NaN</td>\n",
       "      <td>K.McMurray, TrackingSharks.com</td>\n",
       "      <td>2018.06.18-McNeely.pdf</td>\n",
       "      <td>http://sharkattackfile.net/spreadsheets/pdf_di...</td>\n",
       "      <td>http://sharkattackfile.net/spreadsheets/pdf_di...</td>\n",
       "      <td>2018.06.18</td>\n",
       "      <td>2018.06.18</td>\n",
       "      <td>6302.0</td>\n",
       "    </tr>\n",
       "  </tbody>\n",
       "</table>\n",
       "<p>2 rows × 22 columns</p>\n",
       "</div>"
      ],
      "text/plain": [
       "   casenumber         Date    Year        Type Country        Area  \\\n",
       "0  2018.06.25  25-Jun-2018  2018.0     Boating     USA  California   \n",
       "1  2018.06.18  18-Jun-2018  2018.0  Unprovoked     USA     Georgia   \n",
       "\n",
       "                         Location  Activity             Name Sex   ...  \\\n",
       "0     Oceanside, San Diego County  Paddling      Julie Wolfe    F  ...   \n",
       "1  St. Simon Island, Glynn County  Standing  Adyson McNeely     F  ...   \n",
       "\n",
       "  Fatal (Y/N)           Time     Species           Investigator or Source  \\\n",
       "0           N          18h00  White shark                R. Collier, GSAF   \n",
       "1           N  14h00  -15h00          NaN  K.McMurray, TrackingSharks.com   \n",
       "\n",
       "                      pdf                                       href formula  \\\n",
       "0    2018.06.25-Wolfe.pdf  http://sharkattackfile.net/spreadsheets/pdf_di...   \n",
       "1  2018.06.18-McNeely.pdf  http://sharkattackfile.net/spreadsheets/pdf_di...   \n",
       "\n",
       "                                                href Case Number.1  \\\n",
       "0  http://sharkattackfile.net/spreadsheets/pdf_di...    2018.06.25   \n",
       "1  http://sharkattackfile.net/spreadsheets/pdf_di...    2018.06.18   \n",
       "\n",
       "  Case Number.2 original order  \n",
       "0    2018.06.25         6303.0  \n",
       "1    2018.06.18         6302.0  \n",
       "\n",
       "[2 rows x 22 columns]"
      ]
     },
     "execution_count": 19,
     "metadata": {},
     "output_type": "execute_result"
    }
   ],
   "source": [
    "tiburones2.head(2)"
   ]
  },
  {
   "cell_type": "code",
   "execution_count": 20,
   "id": "03af0c37",
   "metadata": {},
   "outputs": [
    {
     "data": {
      "text/html": [
       "<div>\n",
       "<style scoped>\n",
       "    .dataframe tbody tr th:only-of-type {\n",
       "        vertical-align: middle;\n",
       "    }\n",
       "\n",
       "    .dataframe tbody tr th {\n",
       "        vertical-align: top;\n",
       "    }\n",
       "\n",
       "    .dataframe thead th {\n",
       "        text-align: right;\n",
       "    }\n",
       "</style>\n",
       "<table border=\"1\" class=\"dataframe\">\n",
       "  <thead>\n",
       "    <tr style=\"text-align: right;\">\n",
       "      <th></th>\n",
       "      <th>casenumber</th>\n",
       "      <th>Date</th>\n",
       "      <th>Year</th>\n",
       "      <th>Type</th>\n",
       "      <th>Country</th>\n",
       "      <th>Area</th>\n",
       "      <th>Location</th>\n",
       "      <th>Activity</th>\n",
       "      <th>Name</th>\n",
       "      <th>Sex</th>\n",
       "      <th>...</th>\n",
       "      <th>Fatal (Y/N)</th>\n",
       "      <th>Time</th>\n",
       "      <th>Species</th>\n",
       "      <th>Investigator or Source</th>\n",
       "      <th>pdf</th>\n",
       "      <th>href formula</th>\n",
       "      <th>href</th>\n",
       "      <th>Case Number.1</th>\n",
       "      <th>Case Number.2</th>\n",
       "      <th>original order</th>\n",
       "    </tr>\n",
       "  </thead>\n",
       "  <tbody>\n",
       "  </tbody>\n",
       "</table>\n",
       "<p>0 rows × 22 columns</p>\n",
       "</div>"
      ],
      "text/plain": [
       "Empty DataFrame\n",
       "Columns: [casenumber, Date, Year, Type, Country, Area, Location, Activity, Name, Sex , Age, Injury, Fatal (Y/N), Time, Species , Investigator or Source, pdf, href formula, href, Case Number.1, Case Number.2, original order]\n",
       "Index: []\n",
       "\n",
       "[0 rows x 22 columns]"
      ]
     },
     "execution_count": 20,
     "metadata": {},
     "output_type": "execute_result"
    }
   ],
   "source": [
    "tiburones2[(tiburones2.casenumber==\"0\")] #confirmamos"
   ]
  },
  {
   "cell_type": "code",
   "execution_count": 21,
   "id": "427f099e",
   "metadata": {},
   "outputs": [
    {
     "data": {
      "text/plain": [
       "(6303, 22)"
      ]
     },
     "execution_count": 21,
     "metadata": {},
     "output_type": "execute_result"
    }
   ],
   "source": [
    "tiburones2.shape #vamos acotando los registros"
   ]
  },
  {
   "cell_type": "code",
   "execution_count": 22,
   "id": "1976b65e",
   "metadata": {},
   "outputs": [
    {
     "data": {
      "text/html": [
       "<div>\n",
       "<style scoped>\n",
       "    .dataframe tbody tr th:only-of-type {\n",
       "        vertical-align: middle;\n",
       "    }\n",
       "\n",
       "    .dataframe tbody tr th {\n",
       "        vertical-align: top;\n",
       "    }\n",
       "\n",
       "    .dataframe thead th {\n",
       "        text-align: right;\n",
       "    }\n",
       "</style>\n",
       "<table border=\"1\" class=\"dataframe\">\n",
       "  <thead>\n",
       "    <tr style=\"text-align: right;\">\n",
       "      <th></th>\n",
       "      <th>casenumber</th>\n",
       "      <th>Date</th>\n",
       "      <th>Year</th>\n",
       "      <th>Type</th>\n",
       "      <th>Country</th>\n",
       "      <th>Area</th>\n",
       "      <th>Location</th>\n",
       "      <th>Activity</th>\n",
       "      <th>Name</th>\n",
       "      <th>Sex</th>\n",
       "      <th>...</th>\n",
       "      <th>Fatal (Y/N)</th>\n",
       "      <th>Time</th>\n",
       "      <th>Species</th>\n",
       "      <th>Investigator or Source</th>\n",
       "      <th>pdf</th>\n",
       "      <th>href formula</th>\n",
       "      <th>href</th>\n",
       "      <th>Case Number.1</th>\n",
       "      <th>Case Number.2</th>\n",
       "      <th>original order</th>\n",
       "    </tr>\n",
       "  </thead>\n",
       "  <tbody>\n",
       "    <tr>\n",
       "      <th>4300</th>\n",
       "      <td>1955.03.00.b</td>\n",
       "      <td>Mar-1955</td>\n",
       "      <td>1955.0</td>\n",
       "      <td>Unprovoked</td>\n",
       "      <td>PAPUA NEW GUINEA</td>\n",
       "      <td>New Ireland, Bismarck Archipelago</td>\n",
       "      <td>Kabiman, West coast</td>\n",
       "      <td>Swimming with speared fish</td>\n",
       "      <td>Lidua, a male</td>\n",
       "      <td>M</td>\n",
       "      <td>...</td>\n",
       "      <td>N</td>\n",
       "      <td>NaN</td>\n",
       "      <td>\"small brown-colored shark\"</td>\n",
       "      <td>Namatanai Dept. of Public Health;  A. M. Rapso...</td>\n",
       "      <td>1955.03.00.b-Liuda.pdf</td>\n",
       "      <td>http://sharkattackfile.net/spreadsheets/pdf_di...</td>\n",
       "      <td>http://sharkattackfile.net/spreadsheets/pdf_di...</td>\n",
       "      <td>1955.03.00.b</td>\n",
       "      <td>1955.03.00.b</td>\n",
       "      <td>2003.0</td>\n",
       "    </tr>\n",
       "    <tr>\n",
       "      <th>2350</th>\n",
       "      <td>1995.08.26/b</td>\n",
       "      <td>26-Aug-1995</td>\n",
       "      <td>1995.0</td>\n",
       "      <td>Unprovoked</td>\n",
       "      <td>USA</td>\n",
       "      <td>Florida</td>\n",
       "      <td>Crescent Beach, St. Johns County</td>\n",
       "      <td>Surfing</td>\n",
       "      <td>Brian Korth</td>\n",
       "      <td>M</td>\n",
       "      <td>...</td>\n",
       "      <td>N</td>\n",
       "      <td>18h30</td>\n",
       "      <td>5' shark</td>\n",
       "      <td>Gainsville Sun, 8/30/1995</td>\n",
       "      <td>1995.08.26.b-Korth.pdf</td>\n",
       "      <td>http://sharkattackfile.net/spreadsheets/pdf_di...</td>\n",
       "      <td>http://sharkattackfile.net/spreadsheets/pdf_di...</td>\n",
       "      <td>1995.08.26/b</td>\n",
       "      <td>1995.08.26/b</td>\n",
       "      <td>3953.0</td>\n",
       "    </tr>\n",
       "  </tbody>\n",
       "</table>\n",
       "<p>2 rows × 22 columns</p>\n",
       "</div>"
      ],
      "text/plain": [
       "        casenumber         Date    Year        Type           Country  \\\n",
       "4300  1955.03.00.b     Mar-1955  1955.0  Unprovoked  PAPUA NEW GUINEA   \n",
       "2350  1995.08.26/b  26-Aug-1995  1995.0  Unprovoked               USA   \n",
       "\n",
       "                                   Area                          Location  \\\n",
       "4300  New Ireland, Bismarck Archipelago               Kabiman, West coast   \n",
       "2350                            Florida  Crescent Beach, St. Johns County   \n",
       "\n",
       "                        Activity           Name Sex   ... Fatal (Y/N)   Time  \\\n",
       "4300  Swimming with speared fish  Lidua, a male    M  ...           N    NaN   \n",
       "2350                     Surfing    Brian Korth    M  ...           N  18h30   \n",
       "\n",
       "                         Species   \\\n",
       "4300  \"small brown-colored shark\"   \n",
       "2350                     5' shark   \n",
       "\n",
       "                                 Investigator or Source  \\\n",
       "4300  Namatanai Dept. of Public Health;  A. M. Rapso...   \n",
       "2350                          Gainsville Sun, 8/30/1995   \n",
       "\n",
       "                         pdf  \\\n",
       "4300  1955.03.00.b-Liuda.pdf   \n",
       "2350  1995.08.26.b-Korth.pdf   \n",
       "\n",
       "                                           href formula  \\\n",
       "4300  http://sharkattackfile.net/spreadsheets/pdf_di...   \n",
       "2350  http://sharkattackfile.net/spreadsheets/pdf_di...   \n",
       "\n",
       "                                                   href Case Number.1  \\\n",
       "4300  http://sharkattackfile.net/spreadsheets/pdf_di...  1955.03.00.b   \n",
       "2350  http://sharkattackfile.net/spreadsheets/pdf_di...  1995.08.26/b   \n",
       "\n",
       "     Case Number.2 original order  \n",
       "4300  1955.03.00.b         2003.0  \n",
       "2350  1995.08.26/b         3953.0  \n",
       "\n",
       "[2 rows x 22 columns]"
      ]
     },
     "execution_count": 22,
     "metadata": {},
     "output_type": "execute_result"
    }
   ],
   "source": [
    "tiburones2.sample(2)"
   ]
  },
  {
   "cell_type": "code",
   "execution_count": 23,
   "id": "9818a730",
   "metadata": {},
   "outputs": [],
   "source": [
    "#vamos a borrar las últimas columnas porque no sé muy bien cómo sacarles partido/qué me aportan. A partir de un primer análisis exploratorio, decidimos que no van a formar parte de nuestras hipótesis\n",
    "tiburones2.drop([\"pdf\", \"href formula\", \"href\",\"Case Number.1\",\"Case Number.2\",\"original order\"], axis=1, inplace=True)"
   ]
  },
  {
   "cell_type": "code",
   "execution_count": 24,
   "id": "3e2e5d62",
   "metadata": {},
   "outputs": [
    {
     "data": {
      "text/html": [
       "<div>\n",
       "<style scoped>\n",
       "    .dataframe tbody tr th:only-of-type {\n",
       "        vertical-align: middle;\n",
       "    }\n",
       "\n",
       "    .dataframe tbody tr th {\n",
       "        vertical-align: top;\n",
       "    }\n",
       "\n",
       "    .dataframe thead th {\n",
       "        text-align: right;\n",
       "    }\n",
       "</style>\n",
       "<table border=\"1\" class=\"dataframe\">\n",
       "  <thead>\n",
       "    <tr style=\"text-align: right;\">\n",
       "      <th></th>\n",
       "      <th>casenumber</th>\n",
       "      <th>Date</th>\n",
       "      <th>Year</th>\n",
       "      <th>Type</th>\n",
       "      <th>Country</th>\n",
       "      <th>Area</th>\n",
       "      <th>Location</th>\n",
       "      <th>Activity</th>\n",
       "      <th>Name</th>\n",
       "      <th>Sex</th>\n",
       "      <th>Age</th>\n",
       "      <th>Injury</th>\n",
       "      <th>Fatal (Y/N)</th>\n",
       "      <th>Time</th>\n",
       "      <th>Species</th>\n",
       "      <th>Investigator or Source</th>\n",
       "    </tr>\n",
       "  </thead>\n",
       "  <tbody>\n",
       "    <tr>\n",
       "      <th>3051</th>\n",
       "      <td>1980.11.18</td>\n",
       "      <td>18-Nov-1980</td>\n",
       "      <td>1980.0</td>\n",
       "      <td>Unprovoked</td>\n",
       "      <td>AUSTRALIA</td>\n",
       "      <td>Western Australia</td>\n",
       "      <td>Lancelin</td>\n",
       "      <td>Swimming</td>\n",
       "      <td>G.R. Bohan, an Able Seaman stationed on HMAS S...</td>\n",
       "      <td>M</td>\n",
       "      <td>NaN</td>\n",
       "      <td>Right shoulder bitten, puncture wounds on ches...</td>\n",
       "      <td>N</td>\n",
       "      <td>NaN</td>\n",
       "      <td>NaN</td>\n",
       "      <td>A. Sharpe, pp.133-134</td>\n",
       "    </tr>\n",
       "    <tr>\n",
       "      <th>975</th>\n",
       "      <td>2010.10.25</td>\n",
       "      <td>25-Oct-2010</td>\n",
       "      <td>2010.0</td>\n",
       "      <td>Provoked</td>\n",
       "      <td>AZORES</td>\n",
       "      <td>NaN</td>\n",
       "      <td>350 miles from Faial Island</td>\n",
       "      <td>Fishing</td>\n",
       "      <td>crewman from the Gedi</td>\n",
       "      <td>M</td>\n",
       "      <td>NaN</td>\n",
       "      <td>PROVOKED INCIDENT?</td>\n",
       "      <td>N</td>\n",
       "      <td>NaN</td>\n",
       "      <td>NaN</td>\n",
       "      <td>Jornal Diario, 10/26/2010</td>\n",
       "    </tr>\n",
       "  </tbody>\n",
       "</table>\n",
       "</div>"
      ],
      "text/plain": [
       "      casenumber         Date    Year        Type    Country  \\\n",
       "3051  1980.11.18  18-Nov-1980  1980.0  Unprovoked  AUSTRALIA   \n",
       "975   2010.10.25  25-Oct-2010  2010.0    Provoked     AZORES   \n",
       "\n",
       "                   Area                     Location  Activity  \\\n",
       "3051  Western Australia                     Lancelin  Swimming   \n",
       "975                 NaN  350 miles from Faial Island   Fishing   \n",
       "\n",
       "                                                   Name Sex   Age  \\\n",
       "3051  G.R. Bohan, an Able Seaman stationed on HMAS S...    M  NaN   \n",
       "975                               crewman from the Gedi    M  NaN   \n",
       "\n",
       "                                                 Injury Fatal (Y/N) Time  \\\n",
       "3051  Right shoulder bitten, puncture wounds on ches...           N  NaN   \n",
       "975                                PROVOKED INCIDENT?             N  NaN   \n",
       "\n",
       "     Species      Investigator or Source  \n",
       "3051      NaN      A. Sharpe, pp.133-134  \n",
       "975       NaN  Jornal Diario, 10/26/2010  "
      ]
     },
     "execution_count": 24,
     "metadata": {},
     "output_type": "execute_result"
    }
   ],
   "source": [
    "tiburones2.sample(2)"
   ]
  },
  {
   "cell_type": "code",
   "execution_count": 25,
   "id": "692b0301",
   "metadata": {},
   "outputs": [
    {
     "data": {
      "text/plain": [
       "(6303, 16)"
      ]
     },
     "execution_count": 25,
     "metadata": {},
     "output_type": "execute_result"
    }
   ],
   "source": [
    "tiburones2.shape #vamos acotando la tabla"
   ]
  },
  {
   "cell_type": "code",
   "execution_count": 26,
   "id": "fc8e1248",
   "metadata": {
    "scrolled": true
   },
   "outputs": [
    {
     "name": "stdout",
     "output_type": "stream",
     "text": [
      "<class 'pandas.core.frame.DataFrame'>\n",
      "Int64Index: 6303 entries, 0 to 25722\n",
      "Data columns (total 16 columns):\n",
      " #   Column                  Non-Null Count  Dtype  \n",
      "---  ------                  --------------  -----  \n",
      " 0   casenumber              6302 non-null   object \n",
      " 1   Date                    6302 non-null   object \n",
      " 2   Year                    6300 non-null   float64\n",
      " 3   Type                    6298 non-null   object \n",
      " 4   Country                 6252 non-null   object \n",
      " 5   Area                    5847 non-null   object \n",
      " 6   Location                5762 non-null   object \n",
      " 7   Activity                5758 non-null   object \n",
      " 8   Name                    6092 non-null   object \n",
      " 9   Sex                     5737 non-null   object \n",
      " 10  Age                     3471 non-null   object \n",
      " 11  Injury                  6274 non-null   object \n",
      " 12  Fatal (Y/N)             5763 non-null   object \n",
      " 13  Time                    2948 non-null   object \n",
      " 14  Species                 3464 non-null   object \n",
      " 15  Investigator or Source  6285 non-null   object \n",
      "dtypes: float64(1), object(15)\n",
      "memory usage: 837.1+ KB\n"
     ]
    }
   ],
   "source": [
    "tiburones2.info()"
   ]
  },
  {
   "cell_type": "code",
   "execution_count": 27,
   "id": "56704b81",
   "metadata": {},
   "outputs": [],
   "source": [
    "#importamos algunas visualizaciones para ir viendo los datos"
   ]
  },
  {
   "cell_type": "code",
   "execution_count": 28,
   "id": "5d2a06ac",
   "metadata": {},
   "outputs": [],
   "source": [
    "# Matplotlib inline para visualizar los gráficos de Matplotlib\n",
    "%matplotlib inline\n",
    "%config Inlinebackend.figure_format= 'retina'"
   ]
  },
  {
   "cell_type": "code",
   "execution_count": 29,
   "id": "0df58e1b",
   "metadata": {},
   "outputs": [],
   "source": [
    "# Configuración para setear y que todas las fig de Seaborn salgan por defecto con este tamaño\n",
    "# Se puede especificar el tamaño de cada figura\n",
    "sns.set_context(\"poster\")\n",
    "sns.set(rc={\"figure.figsize\": (12.,6.)})\n",
    "sns.set_style(\"whitegrid\")"
   ]
  },
  {
   "cell_type": "code",
   "execution_count": 30,
   "id": "fb3b8af2",
   "metadata": {},
   "outputs": [
    {
     "data": {
      "image/png": "[encoded data removed]",
      "text/plain": [
       "<Figure size 864x432 with 1 Axes>"
      ]
     },
     "metadata": {},
     "output_type": "display_data"
    }
   ],
   "source": [
    "sns.countplot(x=tiburones2.Type);"
   ]
  },
  {
   "cell_type": "code",
   "execution_count": 31,
   "id": "02bd4a8f",
   "metadata": {},
   "outputs": [
    {
     "data": {
      "text/plain": [
       "2015.0    143\n",
       "2017.0    136\n",
       "2016.0    130\n",
       "2011.0    128\n",
       "2014.0    127\n",
       "         ... \n",
       "1786.0      1\n",
       "1785.0      1\n",
       "1784.0      1\n",
       "1783.0      1\n",
       "1815.0      1\n",
       "Name: Year, Length: 249, dtype: int64"
      ]
     },
     "execution_count": 31,
     "metadata": {},
     "output_type": "execute_result"
    }
   ],
   "source": [
    "tiburones2[\"Year\"].value_counts()"
   ]
  },
  {
   "cell_type": "code",
   "execution_count": 32,
   "id": "ea28d053",
   "metadata": {},
   "outputs": [
    {
     "data": {
      "image/png": "[encoded data removed]",
      "text/plain": [
       "<Figure size 864x432 with 1 Axes>"
      ]
     },
     "metadata": {},
     "output_type": "display_data"
    }
   ],
   "source": [
    "sns.histplot(x=tiburones.Year); #no podemos hacer porque tenemos varios registros con año 0"
   ]
  },
  {
   "cell_type": "code",
   "execution_count": 33,
   "id": "3e59ab62",
   "metadata": {},
   "outputs": [
    {
     "data": {
      "text/html": [
       "<div>\n",
       "<style scoped>\n",
       "    .dataframe tbody tr th:only-of-type {\n",
       "        vertical-align: middle;\n",
       "    }\n",
       "\n",
       "    .dataframe tbody tr th {\n",
       "        vertical-align: top;\n",
       "    }\n",
       "\n",
       "    .dataframe thead th {\n",
       "        text-align: right;\n",
       "    }\n",
       "</style>\n",
       "<table border=\"1\" class=\"dataframe\">\n",
       "  <thead>\n",
       "    <tr style=\"text-align: right;\">\n",
       "      <th></th>\n",
       "      <th>casenumber</th>\n",
       "      <th>Date</th>\n",
       "      <th>Year</th>\n",
       "      <th>Type</th>\n",
       "      <th>Country</th>\n",
       "      <th>Area</th>\n",
       "      <th>Location</th>\n",
       "      <th>Activity</th>\n",
       "      <th>Name</th>\n",
       "      <th>Sex</th>\n",
       "      <th>Age</th>\n",
       "      <th>Injury</th>\n",
       "      <th>Fatal (Y/N)</th>\n",
       "      <th>Time</th>\n",
       "      <th>Species</th>\n",
       "      <th>Investigator or Source</th>\n",
       "    </tr>\n",
       "  </thead>\n",
       "  <tbody>\n",
       "    <tr>\n",
       "      <th>6177</th>\n",
       "      <td>0000.0214</td>\n",
       "      <td>Ca. 214 B.C.</td>\n",
       "      <td>0.0</td>\n",
       "      <td>Unprovoked</td>\n",
       "      <td>NaN</td>\n",
       "      <td>Ionian Sea</td>\n",
       "      <td>NaN</td>\n",
       "      <td>Ascending from a dive</td>\n",
       "      <td>Tharsys, a sponge diver</td>\n",
       "      <td>M</td>\n",
       "      <td>NaN</td>\n",
       "      <td>FATAL, shark/s bit him in two</td>\n",
       "      <td>Y</td>\n",
       "      <td>NaN</td>\n",
       "      <td>NaN</td>\n",
       "      <td>Reported by Greek poet, Leonidas of Tarentum (...</td>\n",
       "    </tr>\n",
       "    <tr>\n",
       "      <th>6178</th>\n",
       "      <td>0000.0336</td>\n",
       "      <td>Ca. 336.B.C..</td>\n",
       "      <td>0.0</td>\n",
       "      <td>Unprovoked</td>\n",
       "      <td>GREECE</td>\n",
       "      <td>Piraeus</td>\n",
       "      <td>In the haven of Cantharus</td>\n",
       "      <td>Washing his pig in preparation for a religious...</td>\n",
       "      <td>A candidate for initiation</td>\n",
       "      <td>M</td>\n",
       "      <td>NaN</td>\n",
       "      <td>FATAL, shark \"bit off all lower parts of him u...</td>\n",
       "      <td>Y</td>\n",
       "      <td>NaN</td>\n",
       "      <td>NaN</td>\n",
       "      <td>Plutarch (45 - 125 A.D.) in Life of Phoecion (...</td>\n",
       "    </tr>\n",
       "    <tr>\n",
       "      <th>6179</th>\n",
       "      <td>0000.0493</td>\n",
       "      <td>493 B.C.</td>\n",
       "      <td>0.0</td>\n",
       "      <td>Sea Disaster</td>\n",
       "      <td>GREECE</td>\n",
       "      <td>Off Thessaly</td>\n",
       "      <td>NaN</td>\n",
       "      <td>Shipwrecked Persian Fleet</td>\n",
       "      <td>males</td>\n",
       "      <td>M</td>\n",
       "      <td>NaN</td>\n",
       "      <td>Herodotus tells of sharks attacking men in the...</td>\n",
       "      <td>Y</td>\n",
       "      <td>NaN</td>\n",
       "      <td>NaN</td>\n",
       "      <td>Herodotus (485 - 425 B.C.)</td>\n",
       "    </tr>\n",
       "    <tr>\n",
       "      <th>6180</th>\n",
       "      <td>0000.0725</td>\n",
       "      <td>Ca. 725 B.C.</td>\n",
       "      <td>0.0</td>\n",
       "      <td>Sea Disaster</td>\n",
       "      <td>ITALY</td>\n",
       "      <td>Tyrrhenian Sea</td>\n",
       "      <td>Krater found during excavations at Lacco Ameno...</td>\n",
       "      <td>Shipwreck</td>\n",
       "      <td>males</td>\n",
       "      <td>M</td>\n",
       "      <td>NaN</td>\n",
       "      <td>Depicts shipwrecked sailors  attacked by a sha...</td>\n",
       "      <td>Y</td>\n",
       "      <td>NaN</td>\n",
       "      <td>NaN</td>\n",
       "      <td>V.M. Coppleson (1958), p.262, et al</td>\n",
       "    </tr>\n",
       "    <tr>\n",
       "      <th>6181</th>\n",
       "      <td>ND-0154</td>\n",
       "      <td>Before 1939</td>\n",
       "      <td>0.0</td>\n",
       "      <td>Unprovoked</td>\n",
       "      <td>CANADA</td>\n",
       "      <td>NaN</td>\n",
       "      <td>Grand Banks</td>\n",
       "      <td>Fishing</td>\n",
       "      <td>Joe Folsom</td>\n",
       "      <td>M</td>\n",
       "      <td>NaN</td>\n",
       "      <td>Arm bitten</td>\n",
       "      <td>N</td>\n",
       "      <td>NaN</td>\n",
       "      <td>NaN</td>\n",
       "      <td>C.E.Russell, pp. 310-311</td>\n",
       "    </tr>\n",
       "    <tr>\n",
       "      <th>...</th>\n",
       "      <td>...</td>\n",
       "      <td>...</td>\n",
       "      <td>...</td>\n",
       "      <td>...</td>\n",
       "      <td>...</td>\n",
       "      <td>...</td>\n",
       "      <td>...</td>\n",
       "      <td>...</td>\n",
       "      <td>...</td>\n",
       "      <td>...</td>\n",
       "      <td>...</td>\n",
       "      <td>...</td>\n",
       "      <td>...</td>\n",
       "      <td>...</td>\n",
       "      <td>...</td>\n",
       "      <td>...</td>\n",
       "    </tr>\n",
       "    <tr>\n",
       "      <th>6297</th>\n",
       "      <td>ND.0005</td>\n",
       "      <td>Before 1903</td>\n",
       "      <td>0.0</td>\n",
       "      <td>Unprovoked</td>\n",
       "      <td>AUSTRALIA</td>\n",
       "      <td>Western Australia</td>\n",
       "      <td>Roebuck Bay</td>\n",
       "      <td>Diving</td>\n",
       "      <td>male</td>\n",
       "      <td>M</td>\n",
       "      <td>NaN</td>\n",
       "      <td>FATAL</td>\n",
       "      <td>Y</td>\n",
       "      <td>NaN</td>\n",
       "      <td>NaN</td>\n",
       "      <td>H. Taunton; N. Bartlett,  p. 234</td>\n",
       "    </tr>\n",
       "    <tr>\n",
       "      <th>6298</th>\n",
       "      <td>ND.0004</td>\n",
       "      <td>Before 1903</td>\n",
       "      <td>0.0</td>\n",
       "      <td>Unprovoked</td>\n",
       "      <td>AUSTRALIA</td>\n",
       "      <td>Western Australia</td>\n",
       "      <td>NaN</td>\n",
       "      <td>Pearl diving</td>\n",
       "      <td>Ahmun</td>\n",
       "      <td>M</td>\n",
       "      <td>NaN</td>\n",
       "      <td>FATAL</td>\n",
       "      <td>Y</td>\n",
       "      <td>NaN</td>\n",
       "      <td>NaN</td>\n",
       "      <td>H. Taunton; N. Bartlett,  pp. 233-234</td>\n",
       "    </tr>\n",
       "    <tr>\n",
       "      <th>6299</th>\n",
       "      <td>ND.0003</td>\n",
       "      <td>1900-1905</td>\n",
       "      <td>0.0</td>\n",
       "      <td>Unprovoked</td>\n",
       "      <td>USA</td>\n",
       "      <td>North Carolina</td>\n",
       "      <td>Ocracoke Inlet</td>\n",
       "      <td>Swimming</td>\n",
       "      <td>Coast Guard personnel</td>\n",
       "      <td>M</td>\n",
       "      <td>NaN</td>\n",
       "      <td>FATAL</td>\n",
       "      <td>Y</td>\n",
       "      <td>NaN</td>\n",
       "      <td>NaN</td>\n",
       "      <td>F. Schwartz, p.23; C. Creswell, GSAF</td>\n",
       "    </tr>\n",
       "    <tr>\n",
       "      <th>6300</th>\n",
       "      <td>ND.0002</td>\n",
       "      <td>1883-1889</td>\n",
       "      <td>0.0</td>\n",
       "      <td>Unprovoked</td>\n",
       "      <td>PANAMA</td>\n",
       "      <td>NaN</td>\n",
       "      <td>Panama Bay 8ºN, 79ºW</td>\n",
       "      <td>NaN</td>\n",
       "      <td>Jules Patterson</td>\n",
       "      <td>M</td>\n",
       "      <td>NaN</td>\n",
       "      <td>FATAL</td>\n",
       "      <td>Y</td>\n",
       "      <td>NaN</td>\n",
       "      <td>NaN</td>\n",
       "      <td>The Sun, 10/20/1938</td>\n",
       "    </tr>\n",
       "    <tr>\n",
       "      <th>6301</th>\n",
       "      <td>ND.0001</td>\n",
       "      <td>1845-1853</td>\n",
       "      <td>0.0</td>\n",
       "      <td>Unprovoked</td>\n",
       "      <td>CEYLON (SRI LANKA)</td>\n",
       "      <td>Eastern Province</td>\n",
       "      <td>Below the English fort, Trincomalee</td>\n",
       "      <td>Swimming</td>\n",
       "      <td>male</td>\n",
       "      <td>M</td>\n",
       "      <td>15</td>\n",
       "      <td>FATAL. \"Shark bit him in half, carrying away t...</td>\n",
       "      <td>Y</td>\n",
       "      <td>NaN</td>\n",
       "      <td>NaN</td>\n",
       "      <td>S.W. Baker</td>\n",
       "    </tr>\n",
       "  </tbody>\n",
       "</table>\n",
       "<p>125 rows × 16 columns</p>\n",
       "</div>"
      ],
      "text/plain": [
       "     casenumber           Date  Year          Type             Country  \\\n",
       "6177  0000.0214   Ca. 214 B.C.   0.0    Unprovoked                 NaN   \n",
       "6178  0000.0336  Ca. 336.B.C..   0.0    Unprovoked              GREECE   \n",
       "6179  0000.0493       493 B.C.   0.0  Sea Disaster              GREECE   \n",
       "6180  0000.0725   Ca. 725 B.C.   0.0  Sea Disaster               ITALY   \n",
       "6181    ND-0154    Before 1939   0.0    Unprovoked              CANADA   \n",
       "...         ...            ...   ...           ...                 ...   \n",
       "6297    ND.0005    Before 1903   0.0    Unprovoked           AUSTRALIA   \n",
       "6298    ND.0004    Before 1903   0.0    Unprovoked           AUSTRALIA   \n",
       "6299    ND.0003      1900-1905   0.0    Unprovoked                 USA   \n",
       "6300    ND.0002      1883-1889   0.0    Unprovoked              PANAMA   \n",
       "6301    ND.0001      1845-1853   0.0    Unprovoked  CEYLON (SRI LANKA)   \n",
       "\n",
       "                   Area                                           Location  \\\n",
       "6177         Ionian Sea                                                NaN   \n",
       "6178            Piraeus                          In the haven of Cantharus   \n",
       "6179       Off Thessaly                                                NaN   \n",
       "6180     Tyrrhenian Sea  Krater found during excavations at Lacco Ameno...   \n",
       "6181                NaN                                        Grand Banks   \n",
       "...                 ...                                                ...   \n",
       "6297  Western Australia                                        Roebuck Bay   \n",
       "6298  Western Australia                                                NaN   \n",
       "6299     North Carolina                                     Ocracoke Inlet   \n",
       "6300                NaN                               Panama Bay 8ºN, 79ºW   \n",
       "6301   Eastern Province                Below the English fort, Trincomalee   \n",
       "\n",
       "                                               Activity  \\\n",
       "6177                              Ascending from a dive   \n",
       "6178  Washing his pig in preparation for a religious...   \n",
       "6179                          Shipwrecked Persian Fleet   \n",
       "6180                                          Shipwreck   \n",
       "6181                                            Fishing   \n",
       "...                                                 ...   \n",
       "6297                                             Diving   \n",
       "6298                                       Pearl diving   \n",
       "6299                                           Swimming   \n",
       "6300                                                NaN   \n",
       "6301                                           Swimming   \n",
       "\n",
       "                            Name Sex   Age  \\\n",
       "6177     Tharsys, a sponge diver    M  NaN   \n",
       "6178  A candidate for initiation    M  NaN   \n",
       "6179                       males    M  NaN   \n",
       "6180                       males    M  NaN   \n",
       "6181                  Joe Folsom    M  NaN   \n",
       "...                          ...  ...  ...   \n",
       "6297                        male    M  NaN   \n",
       "6298                       Ahmun    M  NaN   \n",
       "6299       Coast Guard personnel    M  NaN   \n",
       "6300             Jules Patterson    M  NaN   \n",
       "6301                        male    M   15   \n",
       "\n",
       "                                                 Injury Fatal (Y/N) Time  \\\n",
       "6177                      FATAL, shark/s bit him in two           Y  NaN   \n",
       "6178  FATAL, shark \"bit off all lower parts of him u...           Y  NaN   \n",
       "6179  Herodotus tells of sharks attacking men in the...           Y  NaN   \n",
       "6180  Depicts shipwrecked sailors  attacked by a sha...           Y  NaN   \n",
       "6181                                         Arm bitten           N  NaN   \n",
       "...                                                 ...         ...  ...   \n",
       "6297                                              FATAL           Y  NaN   \n",
       "6298                                              FATAL           Y  NaN   \n",
       "6299                                              FATAL           Y  NaN   \n",
       "6300                                              FATAL           Y  NaN   \n",
       "6301  FATAL. \"Shark bit him in half, carrying away t...           Y  NaN   \n",
       "\n",
       "     Species                              Investigator or Source  \n",
       "6177      NaN  Reported by Greek poet, Leonidas of Tarentum (...  \n",
       "6178      NaN  Plutarch (45 - 125 A.D.) in Life of Phoecion (...  \n",
       "6179      NaN                         Herodotus (485 - 425 B.C.)  \n",
       "6180      NaN                V.M. Coppleson (1958), p.262, et al  \n",
       "6181      NaN                           C.E.Russell, pp. 310-311  \n",
       "...       ...                                                ...  \n",
       "6297      NaN                   H. Taunton; N. Bartlett,  p. 234  \n",
       "6298      NaN              H. Taunton; N. Bartlett,  pp. 233-234  \n",
       "6299      NaN               F. Schwartz, p.23; C. Creswell, GSAF  \n",
       "6300      NaN                                The Sun, 10/20/1938  \n",
       "6301      NaN                                         S.W. Baker  \n",
       "\n",
       "[125 rows x 16 columns]"
      ]
     },
     "execution_count": 33,
     "metadata": {},
     "output_type": "execute_result"
    }
   ],
   "source": [
    "tiburones2[(tiburones2.Year==0)] "
   ]
  },
  {
   "cell_type": "code",
   "execution_count": 34,
   "id": "32a58714",
   "metadata": {},
   "outputs": [
    {
     "data": {
      "text/html": [
       "<div>\n",
       "<style scoped>\n",
       "    .dataframe tbody tr th:only-of-type {\n",
       "        vertical-align: middle;\n",
       "    }\n",
       "\n",
       "    .dataframe tbody tr th {\n",
       "        vertical-align: top;\n",
       "    }\n",
       "\n",
       "    .dataframe thead th {\n",
       "        text-align: right;\n",
       "    }\n",
       "</style>\n",
       "<table border=\"1\" class=\"dataframe\">\n",
       "  <thead>\n",
       "    <tr style=\"text-align: right;\">\n",
       "      <th></th>\n",
       "      <th>casenumber</th>\n",
       "      <th>Date</th>\n",
       "      <th>Year</th>\n",
       "      <th>Type</th>\n",
       "      <th>Country</th>\n",
       "      <th>Area</th>\n",
       "      <th>Location</th>\n",
       "      <th>Activity</th>\n",
       "      <th>Name</th>\n",
       "      <th>Sex</th>\n",
       "      <th>Age</th>\n",
       "      <th>Injury</th>\n",
       "      <th>Fatal (Y/N)</th>\n",
       "      <th>Time</th>\n",
       "      <th>Species</th>\n",
       "      <th>Investigator or Source</th>\n",
       "      <th>yearnuevo</th>\n",
       "    </tr>\n",
       "  </thead>\n",
       "  <tbody>\n",
       "    <tr>\n",
       "      <th>6177</th>\n",
       "      <td>0000.0214</td>\n",
       "      <td>Ca. 214 B.C.</td>\n",
       "      <td>0.0</td>\n",
       "      <td>Unprovoked</td>\n",
       "      <td>NaN</td>\n",
       "      <td>Ionian Sea</td>\n",
       "      <td>NaN</td>\n",
       "      <td>Ascending from a dive</td>\n",
       "      <td>Tharsys, a sponge diver</td>\n",
       "      <td>M</td>\n",
       "      <td>NaN</td>\n",
       "      <td>FATAL, shark/s bit him in two</td>\n",
       "      <td>Y</td>\n",
       "      <td>NaN</td>\n",
       "      <td>NaN</td>\n",
       "      <td>Reported by Greek poet, Leonidas of Tarentum (...</td>\n",
       "      <td>1700.0</td>\n",
       "    </tr>\n",
       "    <tr>\n",
       "      <th>6178</th>\n",
       "      <td>0000.0336</td>\n",
       "      <td>Ca. 336.B.C..</td>\n",
       "      <td>0.0</td>\n",
       "      <td>Unprovoked</td>\n",
       "      <td>GREECE</td>\n",
       "      <td>Piraeus</td>\n",
       "      <td>In the haven of Cantharus</td>\n",
       "      <td>Washing his pig in preparation for a religious...</td>\n",
       "      <td>A candidate for initiation</td>\n",
       "      <td>M</td>\n",
       "      <td>NaN</td>\n",
       "      <td>FATAL, shark \"bit off all lower parts of him u...</td>\n",
       "      <td>Y</td>\n",
       "      <td>NaN</td>\n",
       "      <td>NaN</td>\n",
       "      <td>Plutarch (45 - 125 A.D.) in Life of Phoecion (...</td>\n",
       "      <td>1700.0</td>\n",
       "    </tr>\n",
       "    <tr>\n",
       "      <th>6179</th>\n",
       "      <td>0000.0493</td>\n",
       "      <td>493 B.C.</td>\n",
       "      <td>0.0</td>\n",
       "      <td>Sea Disaster</td>\n",
       "      <td>GREECE</td>\n",
       "      <td>Off Thessaly</td>\n",
       "      <td>NaN</td>\n",
       "      <td>Shipwrecked Persian Fleet</td>\n",
       "      <td>males</td>\n",
       "      <td>M</td>\n",
       "      <td>NaN</td>\n",
       "      <td>Herodotus tells of sharks attacking men in the...</td>\n",
       "      <td>Y</td>\n",
       "      <td>NaN</td>\n",
       "      <td>NaN</td>\n",
       "      <td>Herodotus (485 - 425 B.C.)</td>\n",
       "      <td>1700.0</td>\n",
       "    </tr>\n",
       "    <tr>\n",
       "      <th>6180</th>\n",
       "      <td>0000.0725</td>\n",
       "      <td>Ca. 725 B.C.</td>\n",
       "      <td>0.0</td>\n",
       "      <td>Sea Disaster</td>\n",
       "      <td>ITALY</td>\n",
       "      <td>Tyrrhenian Sea</td>\n",
       "      <td>Krater found during excavations at Lacco Ameno...</td>\n",
       "      <td>Shipwreck</td>\n",
       "      <td>males</td>\n",
       "      <td>M</td>\n",
       "      <td>NaN</td>\n",
       "      <td>Depicts shipwrecked sailors  attacked by a sha...</td>\n",
       "      <td>Y</td>\n",
       "      <td>NaN</td>\n",
       "      <td>NaN</td>\n",
       "      <td>V.M. Coppleson (1958), p.262, et al</td>\n",
       "      <td>1700.0</td>\n",
       "    </tr>\n",
       "    <tr>\n",
       "      <th>6181</th>\n",
       "      <td>ND-0154</td>\n",
       "      <td>Before 1939</td>\n",
       "      <td>0.0</td>\n",
       "      <td>Unprovoked</td>\n",
       "      <td>CANADA</td>\n",
       "      <td>NaN</td>\n",
       "      <td>Grand Banks</td>\n",
       "      <td>Fishing</td>\n",
       "      <td>Joe Folsom</td>\n",
       "      <td>M</td>\n",
       "      <td>NaN</td>\n",
       "      <td>Arm bitten</td>\n",
       "      <td>N</td>\n",
       "      <td>NaN</td>\n",
       "      <td>NaN</td>\n",
       "      <td>C.E.Russell, pp. 310-311</td>\n",
       "      <td>1700.0</td>\n",
       "    </tr>\n",
       "    <tr>\n",
       "      <th>...</th>\n",
       "      <td>...</td>\n",
       "      <td>...</td>\n",
       "      <td>...</td>\n",
       "      <td>...</td>\n",
       "      <td>...</td>\n",
       "      <td>...</td>\n",
       "      <td>...</td>\n",
       "      <td>...</td>\n",
       "      <td>...</td>\n",
       "      <td>...</td>\n",
       "      <td>...</td>\n",
       "      <td>...</td>\n",
       "      <td>...</td>\n",
       "      <td>...</td>\n",
       "      <td>...</td>\n",
       "      <td>...</td>\n",
       "      <td>...</td>\n",
       "    </tr>\n",
       "    <tr>\n",
       "      <th>6297</th>\n",
       "      <td>ND.0005</td>\n",
       "      <td>Before 1903</td>\n",
       "      <td>0.0</td>\n",
       "      <td>Unprovoked</td>\n",
       "      <td>AUSTRALIA</td>\n",
       "      <td>Western Australia</td>\n",
       "      <td>Roebuck Bay</td>\n",
       "      <td>Diving</td>\n",
       "      <td>male</td>\n",
       "      <td>M</td>\n",
       "      <td>NaN</td>\n",
       "      <td>FATAL</td>\n",
       "      <td>Y</td>\n",
       "      <td>NaN</td>\n",
       "      <td>NaN</td>\n",
       "      <td>H. Taunton; N. Bartlett,  p. 234</td>\n",
       "      <td>1700.0</td>\n",
       "    </tr>\n",
       "    <tr>\n",
       "      <th>6298</th>\n",
       "      <td>ND.0004</td>\n",
       "      <td>Before 1903</td>\n",
       "      <td>0.0</td>\n",
       "      <td>Unprovoked</td>\n",
       "      <td>AUSTRALIA</td>\n",
       "      <td>Western Australia</td>\n",
       "      <td>NaN</td>\n",
       "      <td>Pearl diving</td>\n",
       "      <td>Ahmun</td>\n",
       "      <td>M</td>\n",
       "      <td>NaN</td>\n",
       "      <td>FATAL</td>\n",
       "      <td>Y</td>\n",
       "      <td>NaN</td>\n",
       "      <td>NaN</td>\n",
       "      <td>H. Taunton; N. Bartlett,  pp. 233-234</td>\n",
       "      <td>1700.0</td>\n",
       "    </tr>\n",
       "    <tr>\n",
       "      <th>6299</th>\n",
       "      <td>ND.0003</td>\n",
       "      <td>1900-1905</td>\n",
       "      <td>0.0</td>\n",
       "      <td>Unprovoked</td>\n",
       "      <td>USA</td>\n",
       "      <td>North Carolina</td>\n",
       "      <td>Ocracoke Inlet</td>\n",
       "      <td>Swimming</td>\n",
       "      <td>Coast Guard personnel</td>\n",
       "      <td>M</td>\n",
       "      <td>NaN</td>\n",
       "      <td>FATAL</td>\n",
       "      <td>Y</td>\n",
       "      <td>NaN</td>\n",
       "      <td>NaN</td>\n",
       "      <td>F. Schwartz, p.23; C. Creswell, GSAF</td>\n",
       "      <td>1700.0</td>\n",
       "    </tr>\n",
       "    <tr>\n",
       "      <th>6300</th>\n",
       "      <td>ND.0002</td>\n",
       "      <td>1883-1889</td>\n",
       "      <td>0.0</td>\n",
       "      <td>Unprovoked</td>\n",
       "      <td>PANAMA</td>\n",
       "      <td>NaN</td>\n",
       "      <td>Panama Bay 8ºN, 79ºW</td>\n",
       "      <td>NaN</td>\n",
       "      <td>Jules Patterson</td>\n",
       "      <td>M</td>\n",
       "      <td>NaN</td>\n",
       "      <td>FATAL</td>\n",
       "      <td>Y</td>\n",
       "      <td>NaN</td>\n",
       "      <td>NaN</td>\n",
       "      <td>The Sun, 10/20/1938</td>\n",
       "      <td>1700.0</td>\n",
       "    </tr>\n",
       "    <tr>\n",
       "      <th>6301</th>\n",
       "      <td>ND.0001</td>\n",
       "      <td>1845-1853</td>\n",
       "      <td>0.0</td>\n",
       "      <td>Unprovoked</td>\n",
       "      <td>CEYLON (SRI LANKA)</td>\n",
       "      <td>Eastern Province</td>\n",
       "      <td>Below the English fort, Trincomalee</td>\n",
       "      <td>Swimming</td>\n",
       "      <td>male</td>\n",
       "      <td>M</td>\n",
       "      <td>15</td>\n",
       "      <td>FATAL. \"Shark bit him in half, carrying away t...</td>\n",
       "      <td>Y</td>\n",
       "      <td>NaN</td>\n",
       "      <td>NaN</td>\n",
       "      <td>S.W. Baker</td>\n",
       "      <td>1700.0</td>\n",
       "    </tr>\n",
       "  </tbody>\n",
       "</table>\n",
       "<p>125 rows × 17 columns</p>\n",
       "</div>"
      ],
      "text/plain": [
       "     casenumber           Date  Year          Type             Country  \\\n",
       "6177  0000.0214   Ca. 214 B.C.   0.0    Unprovoked                 NaN   \n",
       "6178  0000.0336  Ca. 336.B.C..   0.0    Unprovoked              GREECE   \n",
       "6179  0000.0493       493 B.C.   0.0  Sea Disaster              GREECE   \n",
       "6180  0000.0725   Ca. 725 B.C.   0.0  Sea Disaster               ITALY   \n",
       "6181    ND-0154    Before 1939   0.0    Unprovoked              CANADA   \n",
       "...         ...            ...   ...           ...                 ...   \n",
       "6297    ND.0005    Before 1903   0.0    Unprovoked           AUSTRALIA   \n",
       "6298    ND.0004    Before 1903   0.0    Unprovoked           AUSTRALIA   \n",
       "6299    ND.0003      1900-1905   0.0    Unprovoked                 USA   \n",
       "6300    ND.0002      1883-1889   0.0    Unprovoked              PANAMA   \n",
       "6301    ND.0001      1845-1853   0.0    Unprovoked  CEYLON (SRI LANKA)   \n",
       "\n",
       "                   Area                                           Location  \\\n",
       "6177         Ionian Sea                                                NaN   \n",
       "6178            Piraeus                          In the haven of Cantharus   \n",
       "6179       Off Thessaly                                                NaN   \n",
       "6180     Tyrrhenian Sea  Krater found during excavations at Lacco Ameno...   \n",
       "6181                NaN                                        Grand Banks   \n",
       "...                 ...                                                ...   \n",
       "6297  Western Australia                                        Roebuck Bay   \n",
       "6298  Western Australia                                                NaN   \n",
       "6299     North Carolina                                     Ocracoke Inlet   \n",
       "6300                NaN                               Panama Bay 8ºN, 79ºW   \n",
       "6301   Eastern Province                Below the English fort, Trincomalee   \n",
       "\n",
       "                                               Activity  \\\n",
       "6177                              Ascending from a dive   \n",
       "6178  Washing his pig in preparation for a religious...   \n",
       "6179                          Shipwrecked Persian Fleet   \n",
       "6180                                          Shipwreck   \n",
       "6181                                            Fishing   \n",
       "...                                                 ...   \n",
       "6297                                             Diving   \n",
       "6298                                       Pearl diving   \n",
       "6299                                           Swimming   \n",
       "6300                                                NaN   \n",
       "6301                                           Swimming   \n",
       "\n",
       "                            Name Sex   Age  \\\n",
       "6177     Tharsys, a sponge diver    M  NaN   \n",
       "6178  A candidate for initiation    M  NaN   \n",
       "6179                       males    M  NaN   \n",
       "6180                       males    M  NaN   \n",
       "6181                  Joe Folsom    M  NaN   \n",
       "...                          ...  ...  ...   \n",
       "6297                        male    M  NaN   \n",
       "6298                       Ahmun    M  NaN   \n",
       "6299       Coast Guard personnel    M  NaN   \n",
       "6300             Jules Patterson    M  NaN   \n",
       "6301                        male    M   15   \n",
       "\n",
       "                                                 Injury Fatal (Y/N) Time  \\\n",
       "6177                      FATAL, shark/s bit him in two           Y  NaN   \n",
       "6178  FATAL, shark \"bit off all lower parts of him u...           Y  NaN   \n",
       "6179  Herodotus tells of sharks attacking men in the...           Y  NaN   \n",
       "6180  Depicts shipwrecked sailors  attacked by a sha...           Y  NaN   \n",
       "6181                                         Arm bitten           N  NaN   \n",
       "...                                                 ...         ...  ...   \n",
       "6297                                              FATAL           Y  NaN   \n",
       "6298                                              FATAL           Y  NaN   \n",
       "6299                                              FATAL           Y  NaN   \n",
       "6300                                              FATAL           Y  NaN   \n",
       "6301  FATAL. \"Shark bit him in half, carrying away t...           Y  NaN   \n",
       "\n",
       "     Species                              Investigator or Source  yearnuevo  \n",
       "6177      NaN  Reported by Greek poet, Leonidas of Tarentum (...     1700.0  \n",
       "6178      NaN  Plutarch (45 - 125 A.D.) in Life of Phoecion (...     1700.0  \n",
       "6179      NaN                         Herodotus (485 - 425 B.C.)     1700.0  \n",
       "6180      NaN                V.M. Coppleson (1958), p.262, et al     1700.0  \n",
       "6181      NaN                           C.E.Russell, pp. 310-311     1700.0  \n",
       "...       ...                                                ...        ...  \n",
       "6297      NaN                   H. Taunton; N. Bartlett,  p. 234     1700.0  \n",
       "6298      NaN              H. Taunton; N. Bartlett,  pp. 233-234     1700.0  \n",
       "6299      NaN               F. Schwartz, p.23; C. Creswell, GSAF     1700.0  \n",
       "6300      NaN                                The Sun, 10/20/1938     1700.0  \n",
       "6301      NaN                                         S.W. Baker     1700.0  \n",
       "\n",
       "[125 rows x 17 columns]"
      ]
     },
     "execution_count": 34,
     "metadata": {},
     "output_type": "execute_result"
    }
   ],
   "source": [
    "tiburones2[\"yearnuevo\"] = tiburones2[\"Year\"].apply(fl.omiteceros)\n",
    "tiburones2[(tiburones2.Year==0)]"
   ]
  },
  {
   "cell_type": "code",
   "execution_count": 35,
   "id": "e3ded843",
   "metadata": {},
   "outputs": [
    {
     "data": {
      "text/plain": [
       "1700.0"
      ]
     },
     "execution_count": 35,
     "metadata": {},
     "output_type": "execute_result"
    },
    {
     "data": {
      "image/png": "[encoded data removed]",
      "text/plain": [
       "<Figure size 864x432 with 1 Axes>"
      ]
     },
     "metadata": {},
     "output_type": "display_data"
    }
   ],
   "source": [
    "sns.histplot(x=tiburones2.yearnuevo, bins = 10); #hemos convertido los registros menores de 1700 a 1700 para poder tener una gráfica\n",
    "tiburones2.yearnuevo.min()"
   ]
  },
  {
   "cell_type": "code",
   "execution_count": 36,
   "id": "4f10901f",
   "metadata": {},
   "outputs": [
    {
     "data": {
      "text/plain": [
       "Index(['casenumber', 'Date', 'Year', 'Type', 'Country', 'Area', 'Location',\n",
       "       'Activity', 'Name', 'Sex ', 'Age', 'Injury', 'Fatal (Y/N)', 'Time',\n",
       "       'Species ', 'Investigator or Source', 'yearnuevo'],\n",
       "      dtype='object')"
      ]
     },
     "execution_count": 36,
     "metadata": {},
     "output_type": "execute_result"
    }
   ],
   "source": [
    "tiburones2.columns"
   ]
  },
  {
   "cell_type": "code",
   "execution_count": 37,
   "id": "df0ba398",
   "metadata": {},
   "outputs": [
    {
     "data": {
      "text/plain": [
       "casenumber                   1\n",
       "Date                         1\n",
       "Year                         3\n",
       "Type                         5\n",
       "Country                     51\n",
       "Area                       456\n",
       "Location                   541\n",
       "Activity                   545\n",
       "Name                       211\n",
       "Sex                        566\n",
       "Age                       2832\n",
       "Injury                      29\n",
       "Fatal (Y/N)                540\n",
       "Time                      3355\n",
       "Species                   2839\n",
       "Investigator or Source      18\n",
       "yearnuevo                    3\n",
       "dtype: int64"
      ]
     },
     "execution_count": 37,
     "metadata": {},
     "output_type": "execute_result"
    }
   ],
   "source": [
    "tiburones2.isna().sum() #no sé si vamos a poder utilizar Age, Time y especies, por ser las que más nulos tienen. \n",
    "#Si hubiera que prescindir de alguna, prescindiría de esas\n",
    "#vamos a priorizar por country y type "
   ]
  },
  {
   "cell_type": "code",
   "execution_count": 38,
   "id": "dd4c22a5",
   "metadata": {},
   "outputs": [
    {
     "data": {
      "text/plain": [
       "array(['USA', 'AUSTRALIA', 'MEXICO', 'BRAZIL', 'ENGLAND', 'SOUTH AFRICA',\n",
       "       'THAILAND', 'COSTA RICA', 'MALDIVES', 'BAHAMAS', 'NEW CALEDONIA',\n",
       "       'ECUADOR', 'MALAYSIA', 'LIBYA', nan, 'CUBA', 'MAURITIUS',\n",
       "       'NEW ZEALAND', 'SPAIN', 'SAMOA', 'SOLOMON ISLANDS', 'JAPAN',\n",
       "       'EGYPT', 'ST HELENA, British overseas territory', 'COMOROS',\n",
       "       'REUNION', 'FRENCH POLYNESIA', 'UNITED KINGDOM',\n",
       "       'UNITED ARAB EMIRATES', 'PHILIPPINES', 'INDONESIA', 'CHINA',\n",
       "       'COLUMBIA', 'CAPE VERDE', 'Fiji', 'DOMINICAN REPUBLIC',\n",
       "       'CAYMAN ISLANDS', 'ARUBA', 'MOZAMBIQUE', 'FIJI', 'PUERTO RICO',\n",
       "       'ITALY', 'ATLANTIC OCEAN', 'GREECE', 'ST. MARTIN', 'FRANCE',\n",
       "       'PAPUA NEW GUINEA', 'TRINIDAD & TOBAGO', 'KIRIBATI', 'ISRAEL',\n",
       "       'DIEGO GARCIA', 'TAIWAN', 'JAMAICA', 'PALESTINIAN TERRITORIES',\n",
       "       'GUAM', 'SEYCHELLES', 'BELIZE', 'NIGERIA', 'TONGA', 'SCOTLAND',\n",
       "       'CANADA', 'CROATIA', 'SAUDI ARABIA', 'CHILE', 'ANTIGUA', 'KENYA',\n",
       "       'RUSSIA', 'TURKS & CAICOS', 'UNITED ARAB EMIRATES (UAE)', 'AZORES',\n",
       "       'SOUTH KOREA', 'MALTA', 'VIETNAM', 'MADAGASCAR', 'PANAMA',\n",
       "       'SOMALIA', 'NEVIS', 'BRITISH VIRGIN ISLANDS', 'NORWAY', 'SENEGAL',\n",
       "       'YEMEN', 'GULF OF ADEN', 'Sierra Leone', 'ST. MAARTIN',\n",
       "       'GRAND CAYMAN', 'Seychelles', 'LIBERIA', 'VANUATU', 'MEXICO ',\n",
       "       'HONDURAS', 'VENEZUELA', 'SRI LANKA', ' TONGA', 'URUGUAY', 'INDIA',\n",
       "       'MICRONESIA', 'CARIBBEAN SEA', 'OKINAWA', 'TANZANIA',\n",
       "       'MARSHALL ISLANDS', 'EGYPT / ISRAEL', 'NORTHERN ARABIAN SEA',\n",
       "       'HONG KONG', 'EL SALVADOR', 'ANGOLA', 'BERMUDA', 'MONTENEGRO',\n",
       "       'IRAN', 'TUNISIA', 'NAMIBIA', 'NORTH ATLANTIC OCEAN', 'PORTUGAL',\n",
       "       'SOUTH CHINA SEA', 'BANGLADESH', 'PALAU', 'WESTERN SAMOA',\n",
       "       'PACIFIC OCEAN ', 'BRITISH ISLES', 'GRENADA', 'IRAQ', 'TURKEY',\n",
       "       'SINGAPORE', 'NEW BRITAIN', 'SUDAN', 'JOHNSTON ISLAND',\n",
       "       'SOUTH PACIFIC OCEAN', 'NEW GUINEA', 'RED SEA',\n",
       "       'NORTH PACIFIC OCEAN', 'FEDERATED STATES OF MICRONESIA',\n",
       "       'MID ATLANTIC OCEAN', 'ADMIRALTY ISLANDS', 'BRITISH WEST INDIES',\n",
       "       'SOUTH ATLANTIC OCEAN', 'PERSIAN GULF', 'RED SEA / INDIAN OCEAN',\n",
       "       'PACIFIC OCEAN', 'NORTH SEA', 'NICARAGUA ', 'MALDIVE ISLANDS',\n",
       "       'AMERICAN SAMOA', 'ANDAMAN / NICOBAR ISLANDAS', 'GABON', 'MAYOTTE',\n",
       "       'NORTH ATLANTIC OCEAN ', 'THE BALKANS', 'SUDAN?', 'ARGENTINA',\n",
       "       'MARTINIQUE', 'INDIAN OCEAN', 'GUATEMALA', 'NETHERLANDS ANTILLES',\n",
       "       'NORTHERN MARIANA ISLANDS', 'IRAN / IRAQ', 'JAVA', 'SIERRA LEONE',\n",
       "       ' PHILIPPINES', 'NICARAGUA', 'CENTRAL PACIFIC',\n",
       "       'SOLOMON ISLANDS / VANUATU', 'SOUTHWEST PACIFIC OCEAN',\n",
       "       'BAY OF BENGAL', 'MID-PACIFC OCEAN', 'SLOVENIA', 'CURACAO',\n",
       "       'ICELAND', 'ITALY / CROATIA', 'BARBADOS', 'MONACO', 'GUYANA',\n",
       "       'HAITI', 'SAN DOMINGO', 'IRELAND', 'KUWAIT', 'YEMEN ',\n",
       "       'REUNION ISLAND', 'FALKLAND ISLANDS', 'CRETE', 'CYPRUS', 'EGYPT ',\n",
       "       'WEST INDIES', 'BURMA', 'LEBANON', 'PARAGUAY',\n",
       "       'BRITISH NEW GUINEA', 'CEYLON', 'OCEAN', 'GEORGIA', 'SYRIA',\n",
       "       'TUVALU', 'INDIAN OCEAN?', 'GUINEA', 'ANDAMAN ISLANDS',\n",
       "       'EQUATORIAL GUINEA / CAMEROON', 'COOK ISLANDS', 'TOBAGO', 'PERU',\n",
       "       'AFRICA', 'ALGERIA', 'Coast of AFRICA', 'TASMAN SEA', 'GHANA',\n",
       "       'GREENLAND', 'MEDITERRANEAN SEA', 'SWEDEN', 'ROATAN',\n",
       "       'Between PORTUGAL & INDIA', 'DJIBOUTI', 'BAHREIN', 'KOREA',\n",
       "       'RED SEA?', 'ASIA?', 'CEYLON (SRI LANKA)'], dtype=object)"
      ]
     },
     "execution_count": 38,
     "metadata": {},
     "output_type": "execute_result"
    }
   ],
   "source": [
    "tiburones2.Country.unique() "
   ]
  },
  {
   "cell_type": "code",
   "execution_count": 39,
   "id": "1de3b3da",
   "metadata": {},
   "outputs": [
    {
     "name": "stdout",
     "output_type": "stream",
     "text": [
      "<class 'pandas.core.frame.DataFrame'>\n",
      "Int64Index: 6303 entries, 0 to 25722\n",
      "Data columns (total 17 columns):\n",
      " #   Column                  Non-Null Count  Dtype  \n",
      "---  ------                  --------------  -----  \n",
      " 0   casenumber              6302 non-null   object \n",
      " 1   Date                    6302 non-null   object \n",
      " 2   Year                    6300 non-null   float64\n",
      " 3   Type                    6298 non-null   object \n",
      " 4   Country                 6252 non-null   object \n",
      " 5   Area                    5847 non-null   object \n",
      " 6   Location                5762 non-null   object \n",
      " 7   Activity                5758 non-null   object \n",
      " 8   Name                    6092 non-null   object \n",
      " 9   Sex                     5737 non-null   object \n",
      " 10  Age                     3471 non-null   object \n",
      " 11  Injury                  6274 non-null   object \n",
      " 12  Fatal (Y/N)             5763 non-null   object \n",
      " 13  Time                    2948 non-null   object \n",
      " 14  Species                 3464 non-null   object \n",
      " 15  Investigator or Source  6285 non-null   object \n",
      " 16  yearnuevo               6300 non-null   float64\n",
      "dtypes: float64(2), object(15)\n",
      "memory usage: 1015.4+ KB\n"
     ]
    }
   ],
   "source": [
    "tiburones2.info()"
   ]
  },
  {
   "cell_type": "code",
   "execution_count": 40,
   "id": "42afaf51",
   "metadata": {},
   "outputs": [
    {
     "data": {
      "text/plain": [
       "array(['California', 'Georgia', 'Hawaii', 'New South Wales', 'Colima',\n",
       "       'Pernambuco', 'Florida', 'Queensland', 'South Carolina',\n",
       "       'Cornwall', 'Westerm Australia', 'Eastern Cape Province',\n",
       "       'Hua Hin', 'Cocos Island', 'Western Australia',\n",
       "       'Alifu Alifu Atoll', 'Western Cape Province', 'New Providence',\n",
       "       'Alagoas', nan, 'Victoria', 'KwaZulu-Natal',\n",
       "       'Boi Island, Victoria', 'Galapagos Islands', 'Fernando de Noronha',\n",
       "       'Sepang', 'Holquin Province', 'Pamplemousses ', 'South Australia',\n",
       "       'North Island', 'New York', 'Canary Islands', ' Upolu Island',\n",
       "       'Shizuoka Prefecture', 'Texas', 'Castellón', 'Massachusetts',\n",
       "       'Red Sea Protectorate', 'New Providence District',\n",
       "       '40 miles off Grand Bahama Island', 'Ascension Island',\n",
       "       'New Jersey', 'Majorca', 'Washington', 'Tabasco', 'Anjouan',\n",
       "       'Ibiza Island', 'Marquesas', 'South Devon', 'New Providence ',\n",
       "       'Sharjah, ', 'Baja California Sur', 'Saint-Leu', 'South Island',\n",
       "       'Luzon Island', 'Great Exuma', 'Saint-Andre', 'Bimini', 'Bali',\n",
       "       'Tuamotos', 'Oregon', 'North Province', 'New Providence Island',\n",
       "       'Alicante Province', 'Hong Kong', 'Kochi Prefecture', 'Tasmania',\n",
       "       'Abaco Islands', 'Alabama', 'North Carolina', 'Isla Provedencia',\n",
       "       'Suez', 'Grand Terre', 'Boa Vista Island', 'Vanua Levu',\n",
       "       'Santa Catarina State', 'South Province', 'Altagracia Province',\n",
       "       'Grand Cayman', 'Balneário Camboriú', 'Fujairah Emirate',\n",
       "       'Grand Canary Island', 'Inhambane Province', 'Phuket', 'Alicante',\n",
       "       'Guanacaste', 'Bora Bora', 'Grand Bahama Island', 'Le Port',\n",
       "       'Rangiroa', 'Saint-Gilles-les-Bains', 'Sardinia', 'Sinaloa',\n",
       "       'Central Tuamotu', 'd\\x92Étang-Salé', 'Granada',\n",
       "       'Cargados Carajos Shoals (St. Brandon)', 'Moorea', 'Catalonia',\n",
       "       'Maryland', 'Louisiana', 'West End', 'Delaware',\n",
       "       'Atsumi peninsula', 'Palmyra Atoll', 'Wallis and Futuna',\n",
       "       'Baie de Sainte-Marie', 'Society Islands', 'Trinidad',\n",
       "       'Okinawa Prefecture', '740 miles SE of Tarawa Atoll',\n",
       "       'Southern District', 'Bay of Biscay', 'Quintana Roo',\n",
       "       'Exuma Islands', 'Saint-Paul', 'Taitung ', 'Kingston Parish',\n",
       "       'Santa Cruz Island', 'Saint-Gilles', 'Tuamotus', 'Eleuthera',\n",
       "       'St. Catherine', 'Palawan', 'Mercury Islands', 'Delta', \"Vava'u\",\n",
       "       'Inner Hebrides', 'Saint Leu', 'Trois-Bassins', 'British Colombia',\n",
       "       'Guerrero', 'Saint-Benoit', 'Tabuk Province',\n",
       "       'Antofagasta Province', \"St John's\", 'Santa Elena',\n",
       "       'East New Britain', 'Bois-Blanc ', 'Moray', 'Puerto Rico',\n",
       "       'Samaná Province', 'Coast Province', 'Central Province',\n",
       "       'Primorsky Krai',\n",
       "       'Peter the Great Bay, Khasan, Primorsky Krai (Far East)',\n",
       "       'Telyakovsky Bay, Khasan,  Primorsky Krai (Far East)', 'Praslin',\n",
       "       'Sucre', 'Middle Caicos', 'Caicos Bank', 'San Andrés archipelago',\n",
       "       'Kedah', 'Umm al Qaywayan Province', 'Vitu Levu',\n",
       "       'South Sinai Peninsula', ' Loyalty Islands', 'Saint Gilles ',\n",
       "       'Maine', 'Virginia', \"Ha'api \", 'Western Province',\n",
       "       'Jeju Province', 'Binh Dinh Province', 'Antsiranana Province',\n",
       "       'Sinai Peninsula', 'Off Vanua Levu', 'Merizo', 'Rio Grande Do Sul',\n",
       "       'Dubai', 'Torres Strait', 'Eastern Province',\n",
       "       'Eastern Cape  Province', 'Maputo Province', 'Bocas', 'Fife',\n",
       "       'Devon', 'Makira-Ulawa Province', 'Mombasa', 'Catalunya',\n",
       "       'St. Johns Reef', 'Off Green Island', 'North Region',\n",
       "       'Batangas province', 'Strait of Malacca', 'Guantanamo Province',\n",
       "       'Maranhão', 'Red Sea', 'Batanes Provine', 'Luzon',\n",
       "       'Northern Territory', ' Split-Dalmatia Count,', 'North Devon',\n",
       "       'US Virgin Islands', 'San Carlos', 'Cabo San Lucas', 'Sussex',\n",
       "       'Bahia', 'Easter Ross', 'Guerro', 'Yasawa Islands',\n",
       "       'Northern Bahamas', 'Tokyo Bay', 'Baja California', 'Green Bay',\n",
       "       'Loyalty Islands', 'Marovo Lagoon',\n",
       "       'Territory of Cocos (Keeling) Islands', 'Oslo Fjord', 'Kent',\n",
       "       'Bird Island', 'Providenciales', 'Bimini Islands',\n",
       "       'Muhafazat Hadramawt', 'Cook islans', 'Surigao del Norte',\n",
       "       'Between Somalia & Yemen', 'Ambergris Caye', 'Saint-Pierre',\n",
       "       'Kentucky', 'Andros Islands', 'Guam', 'Western Area',\n",
       "       '300 miles from Antigua', '800 miles from land',\n",
       "       '600 nm west of the Canary Islands', 'Simpson Bay', 'East Wall',\n",
       "       'Inner Islands', 'Shanghai', 'Malampa Province',\n",
       "       \"South Ch'ungch'ong Province\", 'Bay Islands', 'New Mexico',\n",
       "       'Santa Isabel Province', 'Santiago de Cuba Province',\n",
       "       'Camaguey Province', 'Conservatória District', 'South Carolina ',\n",
       "       'Kuril Islands in the Pacific', 'Wakayama Prefecture',\n",
       "       \"Nuku'alofa\", 'Saint-Benoît',\n",
       "       'South Island, near Karitane north of Dunedin', 'Rocha',\n",
       "       'Northlands', 'Anzoategui', 'Cook Islands', 'Tamil Nadu',\n",
       "       'Pearl Islands', 'Taveuni', 'Johnston Atoll', 'Baatan',\n",
       "       'Rio de Janeiro', 'Nueva Esparta', 'Southland',\n",
       "       'North Pacific coast', 'Caroline Islands', 'Cheshire',\n",
       "       'Louisiade Archipelago',\n",
       "       'KwaZulu-Natal between Port Edward and Port St Johns',\n",
       "       'Milne Bay Province', 'Cikobia Island (north of Vanua Levu)',\n",
       "       'Rayong Province', 'Zamboanga del Sur Province',\n",
       "       'Rio Grande de Norte',\n",
       "       'Off the western coast of peninsular Malaysia', 'New Brunswick',\n",
       "       'Miyako Island', 'Alaska', 'Minerva Reef', 'Madang Province',\n",
       "       'Worcestershire', 'Phang nga Province', 'Alinglaplap Atoll',\n",
       "       'Adriatic Sea', 'Ralik Chain', 'Grand Baie',\n",
       "       \"L' Etang Salé-les-Bains\", 'Southern Japan', 'Cap Vert Peninsula',\n",
       "       'Marches region', 'Berry Islands', 'Transvaal', 'Gaza',\n",
       "       \"Grand'Anse\", 'Beaufonds', 'Miyako', \"L'Etang-Sale\",\n",
       "       'Chatham Islands ', 'South Sinai, Gulf of Aqaba', 'Cat Cay',\n",
       "       'Missouri', '12 miles off the north coast', 'Saint-Paul ',\n",
       "       'Chatham Islands, east of New  Zealand', 'Saint-Denis',\n",
       "       'Vava\\x92u', 'Mississippi', 'Clearwater Bay', 'New Territories',\n",
       "       'Aichi Prefecture', 'Tafea Province', 'Kagoshima Prefecture',\n",
       "       'Saint-Joseph', 'Banaadir Region', 'La Libertad', 'Costa Blanca',\n",
       "       'Walkers Cay', 'On the Kowloon penisula, south of Sai Kung',\n",
       "       'Ehime Prefecture', 'Tongapatu Group', 'West Africa',\n",
       "       'Wakaya Island', 'North Carolina ', 'Mexico / Caribbean Sea',\n",
       "       'Antarctic Ocean', 'La Saline-les-Bains', 'Sea of Japan',\n",
       "       'Tavenui', 'Ligurian Sea', \"L'Etang-Salé\", 'Kowloon Peninsula',\n",
       "       'Port Shelter', 'Laucala Island', 'Sainte-Marie',\n",
       "       'Great Exuma Island', 'Sainte-Suzanne', 'Tuscany',\n",
       "       'Tyrrhenian Sea', 'New Ireland', 'Valpariso Province',\n",
       "       'Viscayan Sea', 'Manfredonia ', 'Tokyo Prefecture', 'Saint-Louis',\n",
       "       'Mindoro', 'Between DR and Puerto Rico',\n",
       "       'Between Honiara & Isabel Island', 'Florida Straits',\n",
       "       'Gulf of Lyons', 'Cádiz', 'Sicily', 'Andikira Fokithes',\n",
       "       'Central Philippines', 'Rhode Island', 'Northwest Italy',\n",
       "       'English Channel', 'North & South Carolina', 'Kumamoto Prefecture',\n",
       "       'Biserta', 'Saint-Philippe', 'Chungnam', 'Eronogo Region',\n",
       "       'Coquimbo', 'Pagasitikos Gulf', \"St. Mary's Parish\",\n",
       "       'Romblon Province', 'Lamu Archipelago', 'Los Vilos',\n",
       "       'Island of Kos', \"Ha'api\", 'Madeira Islands',\n",
       "       'Ho Ha Wan Marine Park', 'Southern Thailand', 'Golfo de Venezia',\n",
       "       'Ralik Archipelago', 'South China Sea 200 miles from Hong Kong',\n",
       "       'Reggio Calabria Province', 'Mirs Bay ', 'Genoa Province',\n",
       "       'Ganges-Brahmaputra delta', ' Split-Dalmatia County', 'Florida ',\n",
       "       'Primorje-Gorski Kotar County ', 'Aulong Island',\n",
       "       'Western Caroline Islands', 'Upolu Island', 'Antibes',\n",
       "       'Illeginni Atoll', 'Istria County', 'Between Beira & Maputo',\n",
       "       'Khuzestan Province', 'Inhambe Province', 'Namonuito Atoll',\n",
       "       'Eastern Caroline Islands',\n",
       "       'Western Caroline Islands (North Pacific Ocean)', 'Caribbean Sea',\n",
       "       'St. Andrew Parish', '200 nm southeast of Manila', 'Limpopo River',\n",
       "       'New Ireland Province', 'Zadar County', 'Basrah', 'Clarendon',\n",
       "       'Moro Gulf', 'Johor', 'Magdalena Department', 'Mafia Island',\n",
       "       'Gulf Province', 'Morobe Province', 'Limón Province',\n",
       "       'Rombion Province', 'Veracruz', 'Brindisi Province',\n",
       "       'Kagawa Prefecture', 'Liguria', 'Hamilton', 'Out Islands',\n",
       "       'Mugla Province', 'Gibraltar', 'New Britain', 'Bay of Maputo',\n",
       "       'Duke of York Islands', 'Taranto province', 'Northern Taiwan',\n",
       "       'Admiralty Islands, Manus Province', 'North Sumatra',\n",
       "       \"250 miles southwest of O'ahu, Hawaii\", 'West coast', 'East Sepik',\n",
       "       'Near Bougainville (North Solomons)', 'East of the Gulf of Aqaba',\n",
       "       'Bougainville (North Solomons)', 'Victoria ', 'Okayama Prefecture',\n",
       "       'San Blas', 'Connecticut', 'Lau Group', 'Caribbean Coast',\n",
       "       'Vita Levu', 'San Blas Islands', 'Puntarenas Province',\n",
       "       'Lomaloma, Lau', 'Between Southampton & Canary Islands',\n",
       "       'South Coast, East New Britain', ' Lau Province', 'Ysabel Island',\n",
       "       'Santo Domingo', 'San Blas coast', 'Thessaly',\n",
       "       'Lomaiviti  Island Group', 'Rodrigues', 'Manus Island',\n",
       "       'Pinas Bay', 'Grand Turk Island', 'Off coast of West Africa',\n",
       "       'Sharon', 'Antalya Province', 'Northern District',\n",
       "       'New Ireland Province, Bismarck Archipelago', 'Cyclades',\n",
       "       'Viti Levu', 'Off the Coromandel Peninsula, North Island',\n",
       "       'Madang', 'Guadalcanal Province', '10ºS, 142ºE', 'Kwajalein Atoll',\n",
       "       'East Flores', 'Guerrrero', 'Western Luzon Island',\n",
       "       'Shefa Province', '165  miles from Bermuda',\n",
       "       '25 km off the coast of Iran & 483km from mouth of Persian Gulf',\n",
       "       'Venice Province', 'Sandaun Province', 'Anatolia',\n",
       "       'East New Britain Province', 'United Arab Emirates',\n",
       "       'Wake Island (EnenKio)', '19S, 178?E', 'Pennsylvania',\n",
       "       '9.35N 79.35W', 'Roncador Bank', 'Western District',\n",
       "       'Enroute from Suez to Aden (Yemen)',\n",
       "       '180 miles southeast of Okinawa', 'Eniwetok Atoll',\n",
       "       'Cap-Vert Peninsula', 'Delagoa Bay', 'In the English Channel ',\n",
       "       'Cook Strait', 'Unknown, treated at Wick, SCOTLAND',\n",
       "       'Corregidor Island', 'Paget', '33N, 68W', 'Casamance',\n",
       "       'Madang (WO)', 'Between Timor & Darwin, Australia',\n",
       "       'Pacific coast', 'St. Georges ', 'Eastern  Province',\n",
       "       'Northwest of Viti Levu', 'West New Britain Province',\n",
       "       'Rigo subdistrict', 'Masbate', '400 miles southeast of Sri Lanka',\n",
       "       'Lomaiviti Province', 'Kadavu', 'Leyte Island', 'Orissa',\n",
       "       'Hokkaido Prefecture', 'North Palawan', 'Queaon', 'Istria',\n",
       "       'PANAMA', 'In the Gulf Stream ', 'Mersin Province', 'Guyamas',\n",
       "       'Between England & South Africa', 'Mindanao',\n",
       "       ' Kikori River mouth', 'South Chungcheong Province',\n",
       "       'Ahirkapi coast', 'Tutuila Island', 'Primorje-Gorski Kotar County',\n",
       "       'Between Hawaii & Wake Island', 'Taipei Hsien',\n",
       "       'Ibaraki Prefecture', 'South Pacific Ocean', 'Canal Zone',\n",
       "       '1,000 miles east of Hawaii', 'Honiara', 'Yucatan Channel',\n",
       "       'Havana Province', 'Karun River',\n",
       "       'Abau Subdistrict,Central Province',\n",
       "       'New Britain, Bismarck Archipelago', 'Estuaire Province',\n",
       "       'Near Dakar, Cap Vert Peninsula',\n",
       "       'Near the Andaman & Nicobar Islands', 'Mozambique Channel',\n",
       "       'Tyrrenian Sea', 'Congreve Channel', 'St. Thomas Bay', 'Madeira',\n",
       "       'Between Comores & Madagascar', 'Corfu Island',\n",
       "       '1000 miles west of Hawaii', 'Izo Islands',\n",
       "       ' Primorje-Gorski Kotar County', 'Open sea', 'Aden',\n",
       "       'New Ireland, Bismarck Archipelago', '18S / 50E', 'Illinois',\n",
       "       'Isles del Rosario', 'Wake Island', 'Isle of Man',\n",
       "       'Nagasaki Prefecture', 'Liguaria', 'Slovenia', 'South shore ',\n",
       "       'Buenos Aires Province', '330 to 350 miles east of Wake Island',\n",
       "       'Nova Scotia', 'Gulf of Panama', 'Genoa  Province',\n",
       "       'Abau Sub District, Central Province', 'Teramo', 'Red Sea State',\n",
       "       'Curacao', 'Port Louis Province', 'Montserrado', 'Bay of Maputu',\n",
       "       'Sofala Province', 'Salerno', 'Salerno Province', 'Taranto',\n",
       "       'Naples Province', ' La Libertad', 'Sago Prefecture', 'Savona',\n",
       "       'Southern Province', 'Jakarta Harbour', 'Singapore Harbor',\n",
       "       'Calabria', 'Shatt-el-Arab River', 'Shatt-al-Arab River',\n",
       "       'Tamaulipas', 'Calvados Archipelago', 'Shat-Al-Arab River',\n",
       "       'Between Kwajalein Atoll & Johnston Island', 'Attica',\n",
       "       'Adana Province', 'Bandar Ma\\x92shur sea inlet', 'Saipan',\n",
       "       'Carpathian Sea', 'Kwajalein', 'Dar-es-Salaam ',\n",
       "       '\"Head of the Gulf\"', 'Ryukyu', ' North Carolina',\n",
       "       'In transit between Tinian and Leyte', 'Northern Java', 'Tel Aviv',\n",
       "       'Colon Province', '300 miles east of Luzon',\n",
       "       'Bernardino Strait near Gulf of Leyte',\n",
       "       'Off Samar Island in the Gulf of Leyte',\n",
       "       'Lake Nicaragua (fresh water)', 'Pacific Ocean',\n",
       "       'Near the Fiji Islands', '40 miles south of Naples ',\n",
       "       'Northwest of Papua New Guinea', 'Between Hawaii and U.S.A.',\n",
       "       'Off South American coast', 'Makora-Ulawa Province',\n",
       "       '04.05N-13.23W', 'Midway Atoll',\n",
       "       '300 miles east of St. Thomas (Virgin Islands)',\n",
       "       'West of Ceylon (Sri  Lanka)', 'East Java', 'Camiguin Island',\n",
       "       'Cay Sal Bank', '(Southwestern Pacific)', 'Panama City',\n",
       "       'Off Libya', 'North of Pernambuco, Brazil', 'Off coast of Ecuador',\n",
       "       'Trelawney Province', 'In Convoy OB 274', 'New Georgia',\n",
       "       'Panama Bay (Pacific Ocean)', 'Bwagaoia', 'Western Papuan Gulf',\n",
       "       'Torres Strait ', 'Carabobo', 'Ascension Bay', 'North China',\n",
       "       'Lower San Juan River', 'Nicoya Peninsula', 'Basrah City',\n",
       "       'West Bengal', 'Queensland ', 'Argyllshire', 'Arran', 'Argyll',\n",
       "       'Fishing Grounds', 'Newfoundland', 'Isle of Wight',\n",
       "       'Makira-Uluwa Province', 'Northern (Oro) Province', 'Herzliyah',\n",
       "       'Elqui Province', 'Istanbul', 'St Michael Parish',\n",
       "       'Barlavento Islands', 'Viti Levu Island', 'Bay of Fundy', 'Manila',\n",
       "       'French Southern Territories', 'Niua ', 'Black River',\n",
       "       'Phoenix Islands', 'Cienfuegos Province', 'Valencia',\n",
       "       'Santiago Island', 'Near Puntarenas', 'Porto Seguro',\n",
       "       'Salinas Bay', 'Golfo di Genova in the Ligurian Sea',\n",
       "       'Sants-Montjic', 'South of the Equator ', 'Bay of Monaco',\n",
       "       'Valencia ', 'Vancouver',\n",
       "       '2 to 3 miles off Taboguilla Island, Pacific Ocean', 'Dorset',\n",
       "       '150 miles offshore', 'Galica', 'Demerara County', 'Vera Cruz',\n",
       "       ' Manila Bay', 'Lucy', 'East Yorkshire', 'Westmoreland Parish',\n",
       "       'Cavite Province, Luzon', 'Cape Haitien', 'Leyte', 'Halifax',\n",
       "       'Turtle Bogue', '60 miles north of San Domingo in the West Indies',\n",
       "       'Colon', 'Off Ireland', 'Mediterranean Sea', 'Gran Canaria',\n",
       "       'Apolima Strait', 'Essequibo', 'Lagos ', 'Trieste', '5aint-Denis',\n",
       "       'Viti Levu group', 'Balearics', 'Málaga ', 'Chatham Islands',\n",
       "       'Georges Bank', 'Zambesi River', 'Colón Province',\n",
       "       '30 nm from Singapore', 'Andalucia', 'Sfax',\n",
       "       'South Atlantic Ocean', 'Galicia', 'Gulf of Suez', 'Java',\n",
       "       'Tiburon Peninsula', 'Oaxaca', 'Harare Province',\n",
       "       'Khánh Hòa Province', 'Maluku Province', 'Suez Canal',\n",
       "       ' Nusa Tenggara', 'Between Noumea & Sydney',\n",
       "       'Villa Clara Province', 'Ancona Province', 'Quezon',\n",
       "       'Rio San Juan', 'Southern Cyprus', 'Syracuse', 'Western Viscayas',\n",
       "       'Mindoro Occidental', 'Negros ', 'Imperia Province', 'Muala',\n",
       "       'East coast', 'Ratak ', 'Socotra Islands', 'Off Cape Haitien',\n",
       "       'Moluccas', 'Bocas del Toro', 'Provence', 'Bay of Campeche',\n",
       "       'Rangoon', 'Bay of Bengal', 'Bayelsa State', 'South Island?',\n",
       "       'Norfolk Island', 'Brittany', 'Line Islands', 'Woodlark Islands',\n",
       "       'Munxar Reef', 'Northern Peloponnese', 'Between Perth & Colombo',\n",
       "       'Gujarat', 'Lukovo', 'Cortés', 'Gulf of California',\n",
       "       'Somewhere between Philadelphia and Hiogo, Japan', ' New Jersey',\n",
       "       \"Côte d'Azur  \", 'Maldonado coast', 'Western Banks',\n",
       "       'Andaman Islands', 'Off the coast of West Africa',\n",
       "       'Misamis Oriental', 'Strait of Messina', 'Hoogly River',\n",
       "       'Cyclades archipelago', 'Mount Lebanon',\n",
       "       'Between Hastings & Fairlight, Sussex', 'Veracruz ',\n",
       "       'Gilbert Islands', 'Lomaiviti Provine',\n",
       "       'Off the coast of South America', '22ºN, 88ºE',\n",
       "       'Matanzas Province (north coast)', 'Alpes Maritime', 'Edinburgh',\n",
       "       'Eastern Catalona', '300 miles east of Mauritius',\n",
       "       'Foveaux Strait', 'Sumatra', 'Conakry Region', 'Corfu', 'Malaga',\n",
       "       'Bonin Islands', 'Fernando Po Island', 'Mangaia Island',\n",
       "       'New York ', 'Corfu ', 'Between Australia & USA', 'Tongatapu',\n",
       "       'Norfolk', 'Island of St. Thomas', 'Cumberland', 'Sanma Province',\n",
       "       \"35º39 : 165º8'\", 'CUBA', 'Western Area ', 'Paraiba', 'Cape Coast',\n",
       "       'Rivers State', 'Maharashtra', 'St. Anne', 'St Helena',\n",
       "       \"Côte d'Azur \", 'Skagerrak arm of the North Sea',\n",
       "       'Las Perlas archipelago', 'Bardestrand', 'Southwest coast',\n",
       "       'Kerala', 'Nice & Marseilles', 'Magarita or Cubagua Islands',\n",
       "       'Ionian Sea', 'Piraeus', 'Off Thessaly', 'Bocas del Toro Province',\n",
       "       'Rocha ', 'Gulf of Tadjoura', 'Cyrenaica', 'Northern Province',\n",
       "       'Los Roques  Islands', 'Dodecanese Islands', 'Malaita Province',\n",
       "       'South Korea', 'Milne Bay  Province', 'Island of Volos',\n",
       "       'Amirante Islands', 'Kadavu Island Group', 'Toamasina Province',\n",
       "       'Riau Province', 'Bikini Atoll',\n",
       "       'Between New Ireland & New Britain', 'Ba Ria-Vung Tau  Province',\n",
       "       'Moala Island'], dtype=object)"
      ]
     },
     "execution_count": 40,
     "metadata": {},
     "output_type": "execute_result"
    }
   ],
   "source": [
    "tiburones2.Area.unique() #exploramos los tipos de datos de cada variable"
   ]
  },
  {
   "cell_type": "code",
   "execution_count": 41,
   "id": "2c39f627",
   "metadata": {},
   "outputs": [
    {
     "data": {
      "text/plain": [
       "array(['Oceanside, San Diego County', 'St. Simon Island, Glynn County',\n",
       "       'Habush, Oahu', ..., 'Ocracoke Inlet', 'Panama Bay 8ºN, 79ºW',\n",
       "       'Below the English fort, Trincomalee'], dtype=object)"
      ]
     },
     "execution_count": 41,
     "metadata": {},
     "output_type": "execute_result"
    }
   ],
   "source": [
    "tiburones2.Location.unique() "
   ]
  },
  {
   "cell_type": "code",
   "execution_count": 42,
   "id": "2524a3a6",
   "metadata": {},
   "outputs": [
    {
     "data": {
      "text/plain": [
       "array(['F', 'M', nan, 'M ', 'lli', 'N', '.'], dtype=object)"
      ]
     },
     "execution_count": 42,
     "metadata": {},
     "output_type": "execute_result"
    }
   ],
   "source": [
    "tiburones2[\"Sex \"].unique() #no entiendo porqué no sale el sexo, pero no la priorizamos tampoco"
   ]
  },
  {
   "cell_type": "code",
   "execution_count": 43,
   "id": "d80f886c",
   "metadata": {},
   "outputs": [
    {
     "data": {
      "text/plain": [
       "array(['Paddling', 'Standing', 'Surfing', ...,\n",
       "       'Crew swimming alongside their anchored ship',\n",
       "       '4 men were bathing', 'Wreck of  large double sailing canoe'],\n",
       "      dtype=object)"
      ]
     },
     "execution_count": 43,
     "metadata": {},
     "output_type": "execute_result"
    }
   ],
   "source": [
    "tiburones2.Activity.unique() "
   ]
  },
  {
   "cell_type": "code",
   "execution_count": 44,
   "id": "b1119a23",
   "metadata": {},
   "outputs": [
    {
     "data": {
      "text/plain": [
       "array(['No injury to occupant, outrigger canoe and paddle damaged',\n",
       "       'Minor injury to left thigh',\n",
       "       'Injury to left lower leg from surfboard skeg', ...,\n",
       "       'FATAL, leg stripped of flesh  ',\n",
       "       'FATAL, knocked overboard by tail of shark & carried off by shark ',\n",
       "       'FATAL. \"Shark bit him in half, carrying away the lower extremities\" '],\n",
       "      dtype=object)"
      ]
     },
     "execution_count": 44,
     "metadata": {},
     "output_type": "execute_result"
    }
   ],
   "source": [
    "tiburones2.Injury.unique() "
   ]
  },
  {
   "cell_type": "code",
   "execution_count": 45,
   "id": "0704a2de",
   "metadata": {},
   "outputs": [
    {
     "data": {
      "text/plain": [
       "array(['R. Collier, GSAF', 'K.McMurray, TrackingSharks.com',\n",
       "       'B. Myatt, GSAF', ..., 'F. Schwartz, p.23; C. Creswell, GSAF',\n",
       "       'The Sun, 10/20/1938', 'S.W. Baker'], dtype=object)"
      ]
     },
     "execution_count": 45,
     "metadata": {},
     "output_type": "execute_result"
    }
   ],
   "source": [
    "tiburones2[\"Investigator or Source\"].unique() "
   ]
  },
  {
   "cell_type": "code",
   "execution_count": 46,
   "id": "6931e315",
   "metadata": {},
   "outputs": [
    {
     "data": {
      "text/plain": [
       "array(['N', 'Y', nan, 'M', 'UNKNOWN', '2017', ' N', 'N ', 'y'],\n",
       "      dtype=object)"
      ]
     },
     "execution_count": 46,
     "metadata": {},
     "output_type": "execute_result"
    }
   ],
   "source": [
    "#vamos a priorizar las variables más homogéneas y con menos Nan\n",
    "#Las mejores opciones para seguir con nuestro análisis son:\n",
    "tiburones2[\"Fatal (Y/N)\"].unique() "
   ]
  },
  {
   "cell_type": "code",
   "execution_count": 47,
   "id": "6cbd6f04",
   "metadata": {},
   "outputs": [
    {
     "data": {
      "text/plain": [
       "N          4293\n",
       "Y          1388\n",
       "UNKNOWN      71\n",
       " N            7\n",
       "M             1\n",
       "2017          1\n",
       "N             1\n",
       "y             1\n",
       "Name: Fatal (Y/N), dtype: int64"
      ]
     },
     "execution_count": 47,
     "metadata": {},
     "output_type": "execute_result"
    }
   ],
   "source": [
    "tiburones2[\"Fatal (Y/N)\"].value_counts() "
   ]
  },
  {
   "cell_type": "code",
   "execution_count": 48,
   "id": "02dce3c7",
   "metadata": {},
   "outputs": [
    {
     "data": {
      "text/plain": [
       "Unprovoked      4595\n",
       "Provoked         574\n",
       "Invalid          547\n",
       "Sea Disaster     239\n",
       "Boating          203\n",
       "Boat             137\n",
       "Questionable       2\n",
       "Boatomg            1\n",
       "Name: Type, dtype: int64"
      ]
     },
     "execution_count": 48,
     "metadata": {},
     "output_type": "execute_result"
    }
   ],
   "source": [
    "tiburones2[\"Type\"].value_counts() "
   ]
  },
  {
   "cell_type": "code",
   "execution_count": 49,
   "id": "a88d44bd",
   "metadata": {},
   "outputs": [
    {
     "data": {
      "text/html": [
       "<div>\n",
       "<style scoped>\n",
       "    .dataframe tbody tr th:only-of-type {\n",
       "        vertical-align: middle;\n",
       "    }\n",
       "\n",
       "    .dataframe tbody tr th {\n",
       "        vertical-align: top;\n",
       "    }\n",
       "\n",
       "    .dataframe thead th {\n",
       "        text-align: right;\n",
       "    }\n",
       "</style>\n",
       "<table border=\"1\" class=\"dataframe\">\n",
       "  <thead>\n",
       "    <tr style=\"text-align: right;\">\n",
       "      <th></th>\n",
       "      <th>casenumber</th>\n",
       "      <th>Date</th>\n",
       "      <th>Year</th>\n",
       "      <th>Type</th>\n",
       "      <th>Country</th>\n",
       "      <th>Area</th>\n",
       "      <th>Location</th>\n",
       "      <th>Activity</th>\n",
       "      <th>Name</th>\n",
       "      <th>Sex</th>\n",
       "      <th>Age</th>\n",
       "      <th>Injury</th>\n",
       "      <th>Fatal (Y/N)</th>\n",
       "      <th>Time</th>\n",
       "      <th>Species</th>\n",
       "      <th>Investigator or Source</th>\n",
       "      <th>yearnuevo</th>\n",
       "    </tr>\n",
       "  </thead>\n",
       "  <tbody>\n",
       "    <tr>\n",
       "      <th>0</th>\n",
       "      <td>2018.06.25</td>\n",
       "      <td>25-Jun-2018</td>\n",
       "      <td>2018.0</td>\n",
       "      <td>Boating</td>\n",
       "      <td>USA</td>\n",
       "      <td>California</td>\n",
       "      <td>Oceanside, San Diego County</td>\n",
       "      <td>Paddling</td>\n",
       "      <td>Julie Wolfe</td>\n",
       "      <td>F</td>\n",
       "      <td>57</td>\n",
       "      <td>No injury to occupant, outrigger canoe and pad...</td>\n",
       "      <td>N</td>\n",
       "      <td>18h00</td>\n",
       "      <td>White shark</td>\n",
       "      <td>R. Collier, GSAF</td>\n",
       "      <td>2018.0</td>\n",
       "    </tr>\n",
       "    <tr>\n",
       "      <th>1</th>\n",
       "      <td>2018.06.18</td>\n",
       "      <td>18-Jun-2018</td>\n",
       "      <td>2018.0</td>\n",
       "      <td>Unprovoked</td>\n",
       "      <td>USA</td>\n",
       "      <td>Georgia</td>\n",
       "      <td>St. Simon Island, Glynn County</td>\n",
       "      <td>Standing</td>\n",
       "      <td>Adyson McNeely</td>\n",
       "      <td>F</td>\n",
       "      <td>11</td>\n",
       "      <td>Minor injury to left thigh</td>\n",
       "      <td>N</td>\n",
       "      <td>14h00  -15h00</td>\n",
       "      <td>NaN</td>\n",
       "      <td>K.McMurray, TrackingSharks.com</td>\n",
       "      <td>2018.0</td>\n",
       "    </tr>\n",
       "  </tbody>\n",
       "</table>\n",
       "</div>"
      ],
      "text/plain": [
       "   casenumber         Date    Year        Type Country        Area  \\\n",
       "0  2018.06.25  25-Jun-2018  2018.0     Boating     USA  California   \n",
       "1  2018.06.18  18-Jun-2018  2018.0  Unprovoked     USA     Georgia   \n",
       "\n",
       "                         Location  Activity             Name Sex  Age  \\\n",
       "0     Oceanside, San Diego County  Paddling      Julie Wolfe    F  57   \n",
       "1  St. Simon Island, Glynn County  Standing  Adyson McNeely     F  11   \n",
       "\n",
       "                                              Injury Fatal (Y/N)  \\\n",
       "0  No injury to occupant, outrigger canoe and pad...           N   \n",
       "1                         Minor injury to left thigh           N   \n",
       "\n",
       "            Time     Species           Investigator or Source  yearnuevo  \n",
       "0          18h00  White shark                R. Collier, GSAF     2018.0  \n",
       "1  14h00  -15h00          NaN  K.McMurray, TrackingSharks.com     2018.0  "
      ]
     },
     "execution_count": 49,
     "metadata": {},
     "output_type": "execute_result"
    }
   ],
   "source": [
    "tiburones2.head(2)"
   ]
  },
  {
   "cell_type": "code",
   "execution_count": 50,
   "id": "646b50c6",
   "metadata": {},
   "outputs": [],
   "source": [
    "renombrarsexyspecies = {\"Sex \": \"Sex\", \"Species \": \"Species\"} #había 1 espacio detrás del nombre de estas columnas"
   ]
  },
  {
   "cell_type": "code",
   "execution_count": 51,
   "id": "a32b96ff",
   "metadata": {},
   "outputs": [],
   "source": [
    "tiburones2.rename(columns=renombrarsexyspecies, inplace=True)"
   ]
  },
  {
   "cell_type": "code",
   "execution_count": 52,
   "id": "a2859010",
   "metadata": {},
   "outputs": [],
   "source": [
    "#voy a quedarme con una tabla con los casos, los typos, country, activity, fatal y year nuevo"
   ]
  },
  {
   "cell_type": "code",
   "execution_count": 53,
   "id": "48e1eb31",
   "metadata": {},
   "outputs": [
    {
     "data": {
      "text/plain": [
       "pandas.core.frame.DataFrame"
      ]
     },
     "execution_count": 53,
     "metadata": {},
     "output_type": "execute_result"
    }
   ],
   "source": [
    "type(tiburones2)"
   ]
  },
  {
   "cell_type": "code",
   "execution_count": 54,
   "id": "74a6e2a1",
   "metadata": {},
   "outputs": [],
   "source": [
    "tiburones2.drop([\"Area\",\"Year\",\"Location\",\"Name\",\"Sex\",\"Age\",\"Injury\",\"Time\",\"Investigator or Source\"], axis=1, inplace=True)"
   ]
  },
  {
   "cell_type": "markdown",
   "id": "034556e9",
   "metadata": {},
   "source": [
    "# Primera fase de la limpieza\n",
    "Hemos conseguido limpiar hasta el momento los valores nulos generales, registros donde las filas completas son nan y filas de las que no vamos a sacar información. Podríamos decir que la primera fase de la limpieza está completada, ahora vamos con el tema de cada una de las columnas y los datos que hay en ellas"
   ]
  },
  {
   "cell_type": "code",
   "execution_count": 55,
   "id": "927222c4",
   "metadata": {},
   "outputs": [
    {
     "data": {
      "text/html": [
       "<div>\n",
       "<style scoped>\n",
       "    .dataframe tbody tr th:only-of-type {\n",
       "        vertical-align: middle;\n",
       "    }\n",
       "\n",
       "    .dataframe tbody tr th {\n",
       "        vertical-align: top;\n",
       "    }\n",
       "\n",
       "    .dataframe thead th {\n",
       "        text-align: right;\n",
       "    }\n",
       "</style>\n",
       "<table border=\"1\" class=\"dataframe\">\n",
       "  <thead>\n",
       "    <tr style=\"text-align: right;\">\n",
       "      <th></th>\n",
       "      <th>casenumber</th>\n",
       "      <th>Date</th>\n",
       "      <th>Type</th>\n",
       "      <th>Country</th>\n",
       "      <th>Activity</th>\n",
       "      <th>Fatal (Y/N)</th>\n",
       "      <th>Species</th>\n",
       "      <th>yearnuevo</th>\n",
       "    </tr>\n",
       "  </thead>\n",
       "  <tbody>\n",
       "    <tr>\n",
       "      <th>0</th>\n",
       "      <td>2018.06.25</td>\n",
       "      <td>25-Jun-2018</td>\n",
       "      <td>Boating</td>\n",
       "      <td>USA</td>\n",
       "      <td>Paddling</td>\n",
       "      <td>N</td>\n",
       "      <td>White shark</td>\n",
       "      <td>2018.0</td>\n",
       "    </tr>\n",
       "    <tr>\n",
       "      <th>1</th>\n",
       "      <td>2018.06.18</td>\n",
       "      <td>18-Jun-2018</td>\n",
       "      <td>Unprovoked</td>\n",
       "      <td>USA</td>\n",
       "      <td>Standing</td>\n",
       "      <td>N</td>\n",
       "      <td>NaN</td>\n",
       "      <td>2018.0</td>\n",
       "    </tr>\n",
       "  </tbody>\n",
       "</table>\n",
       "</div>"
      ],
      "text/plain": [
       "   casenumber         Date        Type Country  Activity Fatal (Y/N)  \\\n",
       "0  2018.06.25  25-Jun-2018     Boating     USA  Paddling           N   \n",
       "1  2018.06.18  18-Jun-2018  Unprovoked     USA  Standing           N   \n",
       "\n",
       "       Species  yearnuevo  \n",
       "0  White shark     2018.0  \n",
       "1          NaN     2018.0  "
      ]
     },
     "execution_count": 55,
     "metadata": {},
     "output_type": "execute_result"
    }
   ],
   "source": [
    "tiburones2.head(2)"
   ]
  },
  {
   "cell_type": "markdown",
   "id": "c378ec70",
   "metadata": {},
   "source": [
    "# Hipótesis:\n",
    "\n",
    "1. Los  los ataques que se han provocado más, han sido pescando\n",
    "\n",
    "2. Los ataques que más acaban en muerte son los de los surfistasa\n",
    "\n",
    "3. En australia hay más ataques que en el resto del mundo porque el agua está más caliente, sobre todo en diciembre porque hay más turistas en navidad"
   ]
  },
  {
   "cell_type": "markdown",
   "id": "55fb3db5",
   "metadata": {},
   "source": [
    "\n",
    "Estamos investigando variable a variable de qué está compuesta y cómo poder alinear los valores"
   ]
  },
  {
   "cell_type": "code",
   "execution_count": 56,
   "id": "153555fd",
   "metadata": {},
   "outputs": [],
   "source": [
    "tiburones2.yearnuevo.fillna(1700, inplace=True)"
   ]
  },
  {
   "cell_type": "code",
   "execution_count": 57,
   "id": "ee98feab",
   "metadata": {},
   "outputs": [
    {
     "data": {
      "text/plain": [
       "array([2018., 2017., 1700., 2016., 2015., 2014., 2013., 2012., 2011.,\n",
       "       2010., 2009., 2008., 2007., 2006., 2005., 2004., 2003., 2002.,\n",
       "       2001., 2000., 1999., 1998., 1997., 1996., 1995., 1984., 1994.,\n",
       "       1993., 1992., 1991., 1990., 1989., 1969., 1988., 1987., 1986.,\n",
       "       1985., 1983., 1982., 1981., 1980., 1979., 1978., 1977., 1976.,\n",
       "       1975., 1974., 1973., 1972., 1971., 1970., 1968., 1967., 1966.,\n",
       "       1965., 1964., 1963., 1962., 1961., 1960., 1959., 1958., 1957.,\n",
       "       1956., 1955., 1954., 1953., 1952., 1951., 1950., 1949., 1948.,\n",
       "       1848., 1947., 1946., 1945., 1944., 1943., 1942., 1941., 1940.,\n",
       "       1939., 1938., 1937., 1936., 1935., 1934., 1933., 1932., 1931.,\n",
       "       1930., 1929., 1928., 1927., 1926., 1925., 1924., 1923., 1922.,\n",
       "       1921., 1920., 1919., 1918., 1917., 1916., 1915., 1914., 1913.,\n",
       "       1912., 1911., 1910., 1909., 1908., 1907., 1906., 1905., 1904.,\n",
       "       1903., 1902., 1901., 1900., 1899., 1898., 1897., 1896., 1895.,\n",
       "       1894., 1893., 1892., 1891., 1890., 1889., 1888., 1887., 1886.,\n",
       "       1885., 1884., 1883., 1882., 1881., 1880., 1879., 1878., 1877.,\n",
       "       1876., 1875., 1874., 1873., 1872., 1871., 1870., 1869., 1868.,\n",
       "       1867., 1866., 1865., 1864., 1863., 1862., 1861., 1860., 1859.,\n",
       "       1858., 1857., 1856., 1855., 1853., 1852., 1851., 1850., 1849.,\n",
       "       1847., 1846., 1845., 1844., 1842., 1841., 1840., 1839., 1837.,\n",
       "       1836., 1835., 1834., 1832., 1831., 1830., 1829., 1828., 1827.,\n",
       "       1826., 1825., 1823., 1822., 1819., 1818., 1817., 1816., 1815.,\n",
       "       1812., 1811., 1810., 1808., 1807., 1805., 1804., 1803., 1802.,\n",
       "       1801., 1800., 1797., 1792., 1791., 1788., 1787., 1786., 1785.,\n",
       "       1784., 1783., 1780., 1779., 1776., 1771., 1767., 1764., 1758.,\n",
       "       1753., 1751., 1749., 1755., 1748., 1742., 1738., 1733., 1723.,\n",
       "       1721., 1703.])"
      ]
     },
     "execution_count": 57,
     "metadata": {},
     "output_type": "execute_result"
    }
   ],
   "source": [
    "tiburones2[\"yearnuevo\"].unique() "
   ]
  },
  {
   "cell_type": "code",
   "execution_count": 58,
   "id": "aef95013",
   "metadata": {},
   "outputs": [],
   "source": [
    "tiburones2[\"yearnuevo\"] = tiburones2[\"yearnuevo\"].apply(fl.convierteaint)"
   ]
  },
  {
   "cell_type": "code",
   "execution_count": 59,
   "id": "f05f371e",
   "metadata": {},
   "outputs": [
    {
     "data": {
      "text/plain": [
       "array([2018, 2017, 1700, 2016, 2015, 2014, 2013, 2012, 2011, 2010, 2009,\n",
       "       2008, 2007, 2006, 2005, 2004, 2003, 2002, 2001, 2000, 1999, 1998,\n",
       "       1997, 1996, 1995, 1984, 1994, 1993, 1992, 1991, 1990, 1989, 1969,\n",
       "       1988, 1987, 1986, 1985, 1983, 1982, 1981, 1980, 1979, 1978, 1977,\n",
       "       1976, 1975, 1974, 1973, 1972, 1971, 1970, 1968, 1967, 1966, 1965,\n",
       "       1964, 1963, 1962, 1961, 1960, 1959, 1958, 1957, 1956, 1955, 1954,\n",
       "       1953, 1952, 1951, 1950, 1949, 1948, 1848, 1947, 1946, 1945, 1944,\n",
       "       1943, 1942, 1941, 1940, 1939, 1938, 1937, 1936, 1935, 1934, 1933,\n",
       "       1932, 1931, 1930, 1929, 1928, 1927, 1926, 1925, 1924, 1923, 1922,\n",
       "       1921, 1920, 1919, 1918, 1917, 1916, 1915, 1914, 1913, 1912, 1911,\n",
       "       1910, 1909, 1908, 1907, 1906, 1905, 1904, 1903, 1902, 1901, 1900,\n",
       "       1899, 1898, 1897, 1896, 1895, 1894, 1893, 1892, 1891, 1890, 1889,\n",
       "       1888, 1887, 1886, 1885, 1884, 1883, 1882, 1881, 1880, 1879, 1878,\n",
       "       1877, 1876, 1875, 1874, 1873, 1872, 1871, 1870, 1869, 1868, 1867,\n",
       "       1866, 1865, 1864, 1863, 1862, 1861, 1860, 1859, 1858, 1857, 1856,\n",
       "       1855, 1853, 1852, 1851, 1850, 1849, 1847, 1846, 1845, 1844, 1842,\n",
       "       1841, 1840, 1839, 1837, 1836, 1835, 1834, 1832, 1831, 1830, 1829,\n",
       "       1828, 1827, 1826, 1825, 1823, 1822, 1819, 1818, 1817, 1816, 1815,\n",
       "       1812, 1811, 1810, 1808, 1807, 1805, 1804, 1803, 1802, 1801, 1800,\n",
       "       1797, 1792, 1791, 1788, 1787, 1786, 1785, 1784, 1783, 1780, 1779,\n",
       "       1776, 1771, 1767, 1764, 1758, 1753, 1751, 1749, 1755, 1748, 1742,\n",
       "       1738, 1733, 1723, 1721, 1703])"
      ]
     },
     "execution_count": 59,
     "metadata": {},
     "output_type": "execute_result"
    }
   ],
   "source": [
    "tiburones2[\"yearnuevo\"].unique() "
   ]
  },
  {
   "cell_type": "code",
   "execution_count": 60,
   "id": "6f453af0",
   "metadata": {},
   "outputs": [
    {
     "data": {
      "text/plain": [
       "array(['N', 'Y', nan, 'M', 'UNKNOWN', '2017', ' N', 'N ', 'y'],\n",
       "      dtype=object)"
      ]
     },
     "execution_count": 60,
     "metadata": {},
     "output_type": "execute_result"
    }
   ],
   "source": [
    "tiburones2[\"Fatal (Y/N)\"].unique() "
   ]
  },
  {
   "cell_type": "code",
   "execution_count": 61,
   "id": "746cf340",
   "metadata": {},
   "outputs": [],
   "source": [
    "tiburones2[\"Fatal (Y/N)\"] = tiburones2[\"Fatal (Y/N)\"].apply(fl.homogeneizarfatal)"
   ]
  },
  {
   "cell_type": "code",
   "execution_count": 62,
   "id": "b09d28a9",
   "metadata": {},
   "outputs": [
    {
     "data": {
      "text/plain": [
       "0             N\n",
       "1             N\n",
       "2             N\n",
       "3             N\n",
       "4             N\n",
       "          ...  \n",
       "6298          Y\n",
       "6299          Y\n",
       "6300          Y\n",
       "6301          Y\n",
       "25722    Unkown\n",
       "Name: Fatal (Y/N), Length: 6303, dtype: object"
      ]
     },
     "execution_count": 62,
     "metadata": {},
     "output_type": "execute_result"
    }
   ],
   "source": [
    "tiburones2[\"Fatal (Y/N)\"].fillna(\"Unkown\")"
   ]
  },
  {
   "cell_type": "code",
   "execution_count": 63,
   "id": "ae407bd6",
   "metadata": {},
   "outputs": [
    {
     "data": {
      "text/plain": [
       "array(['N', 'Y', 'Unkown'], dtype=object)"
      ]
     },
     "execution_count": 63,
     "metadata": {},
     "output_type": "execute_result"
    }
   ],
   "source": [
    "tiburones2[\"Fatal (Y/N)\"].unique() "
   ]
  },
  {
   "cell_type": "code",
   "execution_count": 64,
   "id": "e5f163bd",
   "metadata": {},
   "outputs": [
    {
     "data": {
      "image/png": "[encoded data removed]",
      "text/plain": [
       "<Figure size 864x432 with 1 Axes>"
      ]
     },
     "metadata": {},
     "output_type": "display_data"
    }
   ],
   "source": [
    "sns.countplot(x=tiburones2[\"Fatal (Y/N)\"]);"
   ]
  },
  {
   "cell_type": "code",
   "execution_count": 65,
   "id": "212f8b28",
   "metadata": {},
   "outputs": [
    {
     "name": "stdout",
     "output_type": "stream",
     "text": [
      "['Paddling', 'Standing', 'Surfing', 'Free diving', 'Kite surfing', 'Swimming', 'Fishing', 'Walking', 'Feeding sharks', 'Boogie boarding', 'Scuba diving', 'Paddle-skiing', 'Body boarding', 'Windsurfing', 'Stand-Up Paddleboarding', 'Wading', 'Scuba Diving', 'Kayak fishing for sharks', 'Cleaning fish', 'Snorkeling', 'Spearfishing', nan, 'Diving', 'Fishing / Wading', '2 boats capsized', 'Night bathing', 'Surfing ', 'Kayaking / Fishing', 'Kayaking', 'Body surfing', 'Swimming, poaching abalone', 'Canoeing', 'SUP', 'Skimboarding', 'Touching a shark', 'Fishing ', 'Attempting to lasso a shark', 'Photo shoot', 'Paddle boarding', 'Kakaying', 'Washing hands', 'Grabbing shark for a selfie', 'Kayak fishing', 'Tagging sharks', 'Surf skiing ', 'Surf fishing', 'Floating', 'Cage Diving', 'Surfng', 'SUP Foil boarding', 'Lobstering', 'Fishing in Alabama Deep Fishing Rodeo', 'Fishing for squid', 'Fishing for sharks', 'Floating in tube', 'Teasing a shark', 'Surf-skiing', 'Diving for beche-de-mer', 'Feeding stingrays?', 'Kayak Fishing', 'Sea disaster', 'Lobster fishing', 'Swimming / Wading', 'Fishing for shrimp', 'Photographing fish', 'Scallop diving on hookah', 'Treading water', 'Body boarding ', 'Playing in the water', 'Body Boarding', 'Body surfing?', 'Playing', 'Attempting to rescue a shark', 'Photographing the shark', 'Standing / Snorkeling', 'Hand feeding sharks', 'Sitting in the water', 'Transatlantic Rowing', 'Bodysurfing', 'Rowing', 'Shark fishing', 'Surfing & filming dolphins', 'Filming', 'Swimming after falling overboard', 'Diving / Filming', 'Fishing for blue sharks', 'Standing in inner tube', 'Body surfing or Boogie boarding', 'Kayaking ', 'Feeding fish', 'Playing with an air mattress', 'Kite boarding', 'Shark diving', 'Petting a shark', 'Kneeling in the water', 'Fell into the water', 'Shark watching', 'Diving for lobsters', 'Kite Surfing', 'Scuba diving / culling lionfish', 'Kitesurfing', 'Sailing', 'Spearfishing / Free diving', 'Free diving / Photographing pilot whales', 'Filming a documentary', 'Attempting to remove fishing net from submerged object', 'Kiteboarding', 'Diving for crayfish', 'Diving ', 'Swimming / snorkeling', 'Diving for Abalone', 'Casting a net', 'Marathon swimming', 'Longline fishing for sharks', 'Wrangling a shark', 'Attempting to free the shark', 'Walking in surf', 'Swimming ', 'Swimming & snorkeling', 'Boogie Boarding', 'Playing in the surf', 'Fly fishing', \"Fishing - 'tag & release'\", 'Swimming to shore with floatioon devices after boat engine conked out', 'Dragging stranded shark into deeper water', 'Bathing', 'Bodyboarding', 'Swimming or boogie boarding', 'Wading or swimming', 'Free diving ', 'Attempting to rescue an injured & beached shark', 'Free diving / spearfishing', 'Crayfishing', 'Diving, feeding sharks', 'Attempting to Kite surf from Egypt to Saudi Arabia', 'Fishing (illegally)', 'Diving, photographing sharks', 'Wade fishing', 'Jumping in the waves', 'Wade Fishing', 'Standing, collecting sea stars', 'Floating ', 'Swimming or Snorkeling', 'Kayaking or Wave skiing', 'Jet skiing', 'Standing or boogie boardin', 'Kite Boarding', 'Washing sand off a speared fish', 'Standing, holding shark pup', 'Diving / fishing', 'Wakeboarding', 'Diving for abalone', 'Shark fishing on the Ricardo Astorga', 'Shark fishing on the Don Agustín-VI. ', 'Attempting to fix motor', 'Swimming /  Whale Watching', 'Swimming after boat became disabled', 'Rescuing', 'Measuring sharks', 'Swimming / treading water', 'Surf fishing / wading', 'Spearfishing (free diving)', 'Paddling on kneeboard', 'Swimming to shore from capsized kayak', 'Paddle-boarding', 'Swimming, attempting to rescue a girl  believed to be drowning', 'Washing his feet', 'Paddle-surfing', 'Crawling', 'Diving, but on the surface when bitten by the shark', 'Air Disaster', 'Crabbing', 'Yacht race', 'Sinking of the cargo ship Mark Jason', 'Fishing boat swamped in storm', 'Swimming, towing surfboard', 'Swimming or surfing', 'Rowing an inflatable dinghy', 'Sea Disaster', 'Night diving', 'Free-diving', 'Walking out of the water after surfing', 'Fishing from surfski', \"Accidentally stood on hooked shark's tail before attempting to gut it \", 'Attempting to chase shark out to sea', 'Fishing for snapper', 'Removing fish from a trap', 'The 426-ton cargo ship Mia, laden with cement, capsized in heavy seas ', 'Wading?', 'Jumping', 'Floating near boat & observing bioluminesce', 'Jumped into the water', 'Surf paddling', 'Murder', 'Removing hook from shark', 'Reviving a sedated shark', 'Shark tagging', 'Swimming / jumping off a jetty', 'Playing on a sandbar', 'Shrimping', 'Swimming / Body Surfing', 'Playing soccer in the water', 'Free diving / modeling', 'Diving / Kissing the shark', 'Lifesaving drill', 'Touching sharks', 'Competing in the Woodvale Atlantic Rowing Race', 'Night Surfing', 'Standing / Surfing', 'Treading water/ Surfing', 'Removing shark from net', 'Boogie boarding, kicked at object in the water', 'Scuba diving in aquarium tank', 'Holding onto an inflatable boat', 'Swimming with boogie board', 'Spearfishing (Free diving)', \"Crouching in 2' of water\", 'SCUBA Diving', 'Diving in aquarium display tank', 'Attempting to drive shark away from sailing regatta', 'Fishing from a kayak', 'Swept out to sea by the tsunami, she clung  to a log for 24 hours', 'Scurfing (surfboard being  towed behind a boat)', 'Chumming for white sharks', 'Spearfishing/ filming', 'Diving & fishing with net', 'Wading / fishing & carrying a bag of fish', 'Fishing for squid aboard the trawler Shikishima-Maru when the shark leapt into the boat', 'In water with diving seabirds', 'Swimming, poaching perlemoen', 'Boogie-boarding / swimming', 'Free diving & spearfishing', 'Tandem surfing', 'Five men on makeshift raft after their 10 m fishing boat  capsized and sank in rough seas. Survivors rescued after  7.5 hours in the water', 'Surf skiing', 'Kayaking (returning from spearfishing)', 'Air disaster. Flash Airlines Boeing 737 crashed into the Red Sea', 'Swimming / shipwreck', 'Surfing amid a shoal of sharks', 'Swimming to shore from boat or kayak', 'Sitting on surfboard', 'Wading near a fishing net', 'Wading to shore from his boat', 'Standing, stepped on shark', 'Wade-fishing', 'Swimming, wearing black wetsuit & swim fins', 'Walking, carrying surfboard & stepped on shark', 'Swimming with pod of dolphins', 'Killing  sharks', 'Swimming (using a float)', 'Petting captive sharks', 'Unknown', \"Fishing, standing in 2' of water\", 'Fishing from Surfboard', 'Boogie boarding or Surfing', 'Wading, when he stepped on the shark', 'Shark Fishing', 'Attempting to retreive a dinghy', 'Snorkeling (filming the sardine run)', 'Floating on a raft', 'Fishing, removing the shark from his line', 'Playing in the surf with his 2 dogs', 'Collecting beche-de-mer', 'Fishing from prawn trawler', 'Scallop diving (using surface-supplied air & a POD) ', 'Fishing (Drowned 2-Apr-2002)', 'Surfing, but standing in water alongside board', 'Body-boarding', 'Swimming /  boogie boarding', 'Capsized fishing boat', 'Kite-Boarding', 'Surfing, fell off surfboard & stepped on the shark.', 'Wreck / Technical diving', 'Walking in shallows', 'Fell off banana boat', 'Floating face-down in knee-deep water', 'Hiking on the beach', 'Spearfishing, carrying his catch', 'Standing alongside surfboard', 'Batin', 'Attempting to catch a crocodile', \"Sinking of the 40' Esperanza off St. Maartin with 36 refugees on board\", 'Fishing for whiting', 'Swimming back from anchored sailboat', 'Diving for sea urchins', 'Diving (shell maintenance)', 'Shipwrecked', 'Fell onto dead shark', 'Standing / surfing', 'Swimming / Body surfing', 'Conducting research', 'Swimming out to porpoises ', 'Windsurfing, but sitting on his board', 'Surfing / Wading', 'Attempting to illegally enter the USA', 'Spearfishing, holding mesh bag with speared fish', 'Air Disaster - Piper aircraft crashed into the sea, killing all on board', 'Boogie boarding / wading', 'Feeding prawns to captive sharks', 'Canoe with 3 men onboard sank', 'Fishing for tarpon', 'Surfing (sitting on his board)', 'Spearfishing, but swimming at surface', 'Surfing, lying on surfboard', 'Wading to shore after surfing', 'Wading with surfboard', \"Lying prone in 2' of water\", 'Spearfishing & holding catch', 'Swimming with dolphins', 'Wading in school of baitfish', 'Adrift in a life jacket', 'Splashing / wading', 'Swimming after being swept into sea by a large wave', 'Spearfishing & diving for paua', \"Scientific research (Dr. Sonny Gruber's student)\", 'Swimming, towing a kayak', 'Body surfing or body boarding', 'Swimming near pod of whales', 'Cruising', 'Paddle Skiing', 'Inflatable boat', 'Splashing', 'Fishing for tuna', 'Fishing / washing bait off hands', 'Moving a shark in a net ', 'Surfing (or body boarding)', 'Free diving for abalone', 'Swimming / surfing', 'Towing rubber dinghy', 'Surfing (lying prone on his board)', 'Snorkeling \\x96 hunting crayfish and abalone', 'Swimming or paddle boarding', 'Spearfishing on scuba & transferring fish onto a stringer', 'Scuba diving (submerged riding a scooter)', 'Body boarding or surfing', 'Fishingat', 'Walking / surfing', 'SCUBA diving', 'Floating on raft', 'Wading / Surfing', 'Fishing for octopus', 'Spearfishing / night diving', 'Body surfing, stood up on sandbar', 'Rowing ', 'Watching seals', 'Attempting to attract dolphins', 'Swimming or snorkeling', 'Surfing / Swimming', 'Free diving with a pod of dolphins', 'Tech diving ', 'Shell Diving', 'Swimming breast stoke', 'Fishing in knee-deep water', 'Dived naked into the water on a bet', 'Swimming in fish tank', 'Boeing 757 enroute from Porta Plata plunged into the sea', 'Swimming with mask & snorkel', 'Chumming for sharks', 'Diving, gathering shellfish', 'Fell off aircraft carrier', 'Playing / standing', 'Abalone diving using Hookah (near calving whales)', 'Abalone diving using Hookah (resting on the surface)', 'On a float', '\"Riding waves on a board\"', 'Jumped off surfboard & landed on the shark', 'Scuba diving (ascending using scooter)', 'Playing / jumping', 'Sleeping in anchored boat', 'Scuba diving for bivalves', 'Wind surfing', 'Surfing, sitting on board', 'Murder victim', 'Commercial diver (submerged or treading water)', 'Surfing, paddling seawards', 'Adrift on refugee raft', 'Jumped off rocks into white water', 'Freediving for seashells', 'Swimming alongside NOAA research vessel Discoverer', 'Removing shark from tank in nightclub ', 'Swimming, after falling off towed kneeboard', 'Playing volleyball with friends', 'Hookah diving', 'Surfing, paddling shorewards', 'Stamding', 'Watching the shark feeding on a dead pinniped', 'Riding floatation device', 'Free diving for abalone (ascending)', 'Fishing for lobsters', 'Oyster fishing', 'Paddling on surfboard or body board', 'Scuba diving at seal colony', 'Floating on his back', 'Paddling on surfboard', 'Free diving & spearfishing (ascending)', '   ', 'Standing in waist-deep water, helping his father tend a gill net containing dead fish', 'Lying on surfboard', 'Spearfishing / free diving', 'Scuba diving (submerged)', 'Hookah diving for sea urchins', 'Snorkeling, carrying a speared fish in her hand', 'Fell from cliff while fishing & disappeared in strong current', 'Fisherman', \"Zosimo & his son, Jeffrey Popa, failed to return from overnight fishing trip in a 14' boat, Boat apparently sank, debris recovered but his son & boat were never found\", 'Preparing to fish for jack-mackerel', 'Scuba diving ', 'Scuba diving & filming', 'Hookah diving for pen shells ', 'Fishing for yellowtail, Seriola quinqueradiata', 'Diving for pen shells', 'Fishing from rocks, swept out to sea by large wave & treading water', 'Finning the shark that bit him', 'Swimming from makeshift raft  to life vest after fishing boat sank', 'Swimming behind sailboat', 'Surfing, collided with shark', 'Surfing (or sailboarding)', 'Scuba diving (but on surface)', 'Free diving / spearfishing, from paddleboard & floating on the surface', 'Snorkeling, possibly holding a fish', 'Resting on surfboard', 'Lying on surfboard & paddling', 'Free diving for trochus', 'Scuba diving & spearfishing', 'Board sailing', \"On board 51' fishing vessel One Ki\", 'Wading, knocked down & swept away by large waves', 'Swimming in canal', \"Fishing, stepped on hooked shark's head\", 'Observing a shark feeding on a carcass of a humpback whale', 'Hookah diving for abalone (descending)', \"Filming 5' blue shark\", 'Playing ', \"Fell off surfboard 20' from shore\", 'Windsurfing (urinating on his board)', 'Scuba diving, but swimming on surface', 'Swimming in strong current with 3 others when he disappeared', 'Surfing with dolphins', 'Scuba diving, hand feeding sharks', 'Spearfishing using scuba & trailing a string of bleeding fish', 'Skindiving', 'The Christie V sank on 11/6/1988, survivors were adrift on a dinghy', 'The MV Dona Marilyn sank in Typhoon Unsang with the loss of 389 lives', \"Diving in Sharkey's Reef restaurant\\x92s aquarium\", 'Free diving & spearfishing ', 'Spearfishing on scuba', 'Sittting in water with his child', 'Shell diving', 'Surfing / treading water', 'pêcheur de bichiques', \"Onboard 21' powerboat that capsized in rough seas\", 'Standing ', 'Lying atop surfboard', 'Drift fishing', 'Fell overboard  from the Taiwanese fishing trawler Lien Cheng Feu ', \"Attempting to lasso shark's tail\", 'Returning to shore, collided with shark', 'Ferry boat Dona Paz with 4431 passengers exploded & caught fire when she collided with an  oil tanker ', 'Vessel caught fire & capsized, survivors in the water', 'Scuba Diving for scallops', 'Dropping anchor', 'Swimming from shore to anchored sailboat', 'The inter-island ferry Vula sank in heavy weather', 'Jumped into the water from a cliff', 'Boat', 'Adrift after ditching plane in the sea', 'Free diving  & spearfishing (submerged)', 'NSB Meshing', 'Racing ski', 'Fishing, fell from rocks & disappeared', 'Hookah diving for abalone', 'Floating on inner tube after diving for lobster', 'Free diving & spearfishing (descending)', 'Bottom fishing for lingcod & had hooked a fish', 'Playing in knee-deep water', 'Surfing, but lying prone on his board', 'Free diving for scallops', 'Scuba Diving for lobster (at surface)', 'Investigating shark sighting', 'Sailing on catamaran & fell into the water', 'Surfing or body surfing', 'Free diving , but surfacing', 'Boat capsized?', 'Sea disaster, foundering of the cargo vessle M/V Dorolonda', \"During a shark fishing tournament, the 18' Boatem was capsized by waves, throwing 3 men into the water \", 'Towing her sister on plastic ski board', 'Steinhart Aquarium', 'Scuba diving for abalone', 'Ferry boat sank', 'Swimming from the New Venture ', '14 m prawn trawler New Venture capsized  & sank in heavy seas Three people in the water', 'Floating on air mattress', 'Surfing & dangling foot in water amid baitfish', 'Water-skiing', 'Paddleskiing', 'Ran into the water', 'In waist-deep water', 'Free diving for abalone from Zodiac (submerged)', 'Paddle Boarding', 'Spearfishing ', 'Sailboarding, fell into water 100 yards outside the breakwater', 'Fishing on a boat', 'Spearfishing, but swimming on surface', 'Inspecting teeth of supposedly dead (hooked & shot) shark', \"Diving to untangle a crab trap line from boat's propeller\", \"16' catamaran capsized previous night, occupants stayed with wreckage until morning, then attempted to swim ashore\", 'Snorkeling on surface', 'Catching sardines', 'Scuba diving, reportedly also spearfishing', 'Foundering of the Israeli freighter Mezada', 'Standing / Wading', 'Free diving Spearfishing', 'Exercising his dog in the shallows', 'Commercial spearfishing', 'Free diving / spearfishing, ', 'Diving in tuna net', 'Resting on body board', 'Skin diving', 'Sinking of the ferryboat Don Juan', 'Sinking of the ferryboat Bongbong 1', 'Hookah Diving', 'Gaffing netted shark', 'Freedom swimming', 'Murdered by Thai pirates', 'Floating with life preserver after his boat foundered', 'Floating on inner tube raft', \"Explosion destroyed 28' boat, survivors in the water \", 'Fishing for mackerel', 'Swimming, after single-engine aircraft went down in the sea', 'Fishing for bottom fish', 'Floating on an inflatable raft', 'Free diving for abalone (surfacing)', \"40' fishing boat sank\", 'Spearfishing / Scuba diving', 'Collecting fish from net', 'Fishing for yellowtail', 'Their 9 m launch was run down by a 25,000-ton Japanese freighter  on the night of 3-11-1977 & they drifted, clinging to an icebox for 2 days', \"Pushed surfmat of a young girl out of the shark's path, drawing shark's attention to his own board\", 'Hookah diving for abalone (submerged)', 'Thrashing the water / imitating the shark victim from \"Jaws\"', 'Fishing for white shark', 'Shipwreck', 'Skindiving,', '3,909-ton Panamanian freighter Chieh Lee sank in a typhoon', 'Surfing, fell off surfboard', \"Sitting in bow of her father's 5 m boat\", 'Competing in a light tackle game fishing', 'Fishing for snoek & yellowtail', 'Spearfishing / scuba diving', 'Attempting to drive shark away from the beach', 'Filming & feeding captive sharks', 'Floating on a small orange raft ', 'Scuba diving for abalone (at surface)', 'Swimming near his boat', 'Spearfishing Competition', 'Floating in inner tube', 'Diving & force-feeding the shark', 'Attempting to drag hooked shark ashore by its tail', 'Ferry capsized', 'Swimming underwater from crayfish cage to a fishing bait', '3.3 m fishing boat sank. Treveluwe & Peter Hodgson (wearing lifejackets) were drifting in the current', 'Freedom Swimming', 'Free diving for abalone (submerged)', 'Adrift after the sinking of the motor yacht Princess Dianne', 'Free diving (but on surface)', 'Fishing boat swamped in a storm', 'Fishing for kob', 'Fishing for red fish', 'Sitting', 'Swimming alongside yacht Mexico Fiesta', 'Being pulled to shore from wreck of 25-ton fishing vessel Alan S', 'Free diving, Spearfishing', 'Crabbing (spearing crabs)', 'Fishing from paddleski', 'Scuba diving & U/W photography', 'Sitting in shallows', 'Free diving, collecting shells', 'Scuba diving & feeding fish', 'Hookah diving (submerged)', 'Wreck of the 1689-ton Portuguese  coaster Angoche', 'Fishing for prawns', 'Sea Disaster Sinking of ferryboat Christina', 'Motor launch Baby Princesa capsized with 22 people on board', 'Freediving', 'Air disaster', 'Attempted to return injured shark to the sea', 'Spearfishing / freediving', 'Washing cooking pans', 'Washing clothes on stairs', 'Fishing, trying to catch the end of his fishing line', 'Scuba diving for lobsters', 'Freediving for abalone (at surface)', 'Surf-fishing', 'Netting pilchards', 'Hard hat diving', 'Sight-seeing', 'Feeding mullet to sharks', 'Wreck of the Storm King', 'Spearfishing using Scuba', 'Sinking of the ferryboat Dumaguete ', 'Playing with a frisbee in the shallows', 'Leaving the water', 'Dynamite fishing', 'Small boat with 2 men onboard hit a submerged coral formation. Men began swimming to shore', 'Clamming', 'Schooner sank during a storm', 'Diving. Shark \\x93swallowed\\x92 his hand, so he threw his other around the shark and went \\x93shark-back riding\\x94 for 30 yards until the shark opened its jaws', 'Wading & pushing dinghy toward  the shallows', 'Picking up shark by the tail', 'Swimming after his canoe capsized', 'Sinking of the M/V Mindoro during a typhoon', 'Standing on sandbar', \"Boat capsized between O'ahu & Molokai\", 'Pulling shark from the water', 'Spearfishing on Scuba', 'Spearfishing, dived to pick up a float line', 'Anti-sabotage night dive exercise alongside destroyer (Scuba diving)', 'Photographing sharks underwater using Scuba', 'Beach seine netting', 'Fishing boat', 'Feeding a shark', 'Vehicle plunged over cliff into the water', 'The shrimper Loless Maurine capsized in heavy seas & the men were swimming ashore  ', 'Fishing for rock lobster', 'Swimming in the channel', 'A father bathing his smallest daughter when the shark bumped her out of his arms and carried her into deep water', 'Free diving, carrying speargun', 'Hunting crayfish ', 'Diving / UW photography', 'Netting sharks', 'Diving into water', 'Lobster diving using Scuba', 'Attacked shark with fists', 'Diving for sand dollars', 'Killing a shark', 'Sinking of the dredge World Atlas', 'The passenger ship Pioneer Cebu  capsized & sank in Typhoon Irma', 'Overturned skiff', 'Fishing (big game)', 'The World Liberty and the tanker Mosli collided. The  Halcyon Breeze sent a lifeboat to the rescue, but it was smashed, throwing 6 men in the  water.', 'Helping men land a shark', 'wreck of the State Oil Company ship Permina', 'Free diving / spearfishing (resting on the surface)', 'Colombian  (Avianca) DC-4 airliner plunged into the sea 5 minutes after takeoff', 'Body surfing ', 'Spearfishing, but standing in knee-deep water', \"Fishing from 34' boat when pulled overboard by hooked shark\", 'Hauling dead shark aboard, when another shark leapt out of the water & bit him', 'Argentine Air Force C-54', 'The boat Caribou II sank', 'Sunbathing on beach when he saw child being attacked by the shark', 'Spearfishing, shot a turtle', 'Spearing fish', 'Fishing (rod & line)', 'Arsinoe, a French tanker', 'Attempting to anesthetize shark', 'Diving, retrieving film package from Titan 3C rocket', 'Walking on reef', 'Aircraft exploded', 'Motor boat Rebel Belle lost', 'Paddling rescue ski', 'Dangling feet in the water', 'Collecting marine specimens', 'Standing in waist-deep water', 'Spearfishing, but standing in the water', 'Bather', 'Canoe swamped, swimming back to canoe', 'Fishing with hand line tied to wrist & was pulled into the water', 'Free diving with seals', 'Swimming out to rescue swimmers in difficulty', 'Filming underwater, carrying powerhead', 'Longline fishing', 'Boat Miss Becky  sank 12 miles from shore', 'Surfing, but swimming to his board', 'Floating on his back in an inner tube', 'Spearfishing using scuba', 'Free diving / Spearfishingat edge of reef', 'Searching for remains of  Dr. Marais', 'Yacht Gooney Bird foundered, 4 survivors on raft', 'Standing / fishing', 'canoeing', 'Conducting a promotional film project for the Gemini space program (a practice astronaut recovery)', 'Attempting to swim across the Atlantic Ocean', 'Canoe capsized with 10 occupants, 8 survived,  Hamilton swam off to seek help', 'Skin diving ', 'Free diving for shell', 'Diving for trochus shell', 'preparing to go skin diving', 'Lying in 2 feet of water', 'Spearfishing / Scuba diving (at surface)', 'Diving for sinkers', 'Sitting on gunwale of boat', 'Greek steamship Lakonia caught fire, 98 of her 646 passengers, and 30 of her crew of 376 perished', 'Helping friend land hooked shark', 'Splashing in surf', 'Treading water while alongside capsized yacht', 'Fishing / standing in waist deep water', 'Catching sharks under government contract', 'Testing anti-shark cage', 'Surf fishing, wading ', 'Commercial fishing vessel, Ev-nn, struck object & sank. Ken Crosby and  Jame & Ann Dumas adrift on makeshift raft.', 'Spearfishing, pulled shark\\x92s tail', 'Swimming, when caught in heavy seas', 'Fishing, on charter boat Silver Dollar', \"63' fishing boat Sno' Bay foundered\", 'Seining for bait, standing in chest-deep water', 'Boat, with 42 passengers onboard, capsized in rough seas', 'Surfing on \"chest board\" (boogie board?)', 'Washed into sea while picking opihi', 'The 500-ton coastal trader Polurrian foundered ', 'S.S. Marine Sulphur Queen, laden with molten sulphur was bound from Beaumont, Texas for Norfolk, VA, when she disappeared with 39 on board', 'Free diving, hunting crayfish', 'Fishing for turtles', 'Spearfishing, Scuba diving', 'Abandoning burning ship Captain George in raging seas', 'Adrift after wave swamped engine', \"Overcome by CO fumes, fell overboard from 36' fishing cruiser & prop slashed arm\", 'When  a deckhand  jumped overboard, McIver dived after him with a rescue line.', 'Spearfishing with Scuba gear', 'Surf fishing in waist-deep water', 'Finning the shark', 'Fishing for albacore', 'Playing in surf with his child  (9)', 'Dived from inner-tube', 'U.S. Airforce crewman reported missing after bailing out of jet', 'On a \"shark hunt\"', 'Rolled off raft', 'Escaping from Alacatraz', 'Washing', 'Scuba diving, attempting to catch a captive shark', '25-foot cabin cruiser Happy Jack sank in heavy seas', 'Fishing & spearfishing', 'Swimming along a row of nets', 'Fishing for snappers & cleaning mullet. Put mullet over side of boat to wash it', 'Swimming outside fishing net', 'Splashing ', 'Fishing, slipped on rocks & fell into sea', \"Fishing with hand net in 2' of water\", 'Fishing, hauling in a 5-lb snapper', 'Surfing, pushing board ashore', 'Swimming with other crew near wharf', 'Gathering shells', 'Paddling outrigger canoe', 'Survived US Naval aircraft crash, climbing onboard rescue vessel when he fell back into sea ', 'Free diving, surveying a pipeline & examing cathodes under jetty', 'Attaching a line at sea', 'Net fishing, picking catch from the net', 'Fishing, two large sharks passed. He speared one and it bit him', 'Fishing (trolling)  from canoe', 'Scuba diving & spearfishing ', 'Fishing, speared shark upset canoe & man fell in water', 'Collecting dynamited fish', 'Walking in chest-deep water', 'Checking fish traps, fell into the water', 'Swimming, using bundles of sticks as raft', 'Cargo ship Dara sank after collision with another ship during a severe storm', 'Fishing from dinghy', 'Floating on back', 'Cleaning a tank', 'Spearfishing, shark grabbed his white t-shirt and towed him ', 'Collecting crayfish', 'Collecting aquarium specimens', 'Pacific Seafarer of US Navy', 'Ocean racing', 'Taking boat from California to Florida when it ran aground & he was swimming back to boat', 'Free diving for molluscs', 'Light aircraft ditched at sea', 'Swept out to sea while net fishing', 'Fishing, when line became snagged on rock & he dived into water to free it ', 'Fell overboard, prop slashed arm', 'Chasing shark out of bathing area while riding on a surf-ski', 'Spearfishing, speared fish retreated to cave where shark grabbed his arm', 'Hand lining for shad', 'Ejected from F3H-2 aircraft ', 'Fishing for rock lobsters', 'Collecting shells', 'Cargo ship El Gamil entroute Suez to Yemen (Aden) when her cargo shifted and she sank. 19 Egyption sailors jumped into the water and swam for several hours before being bitten by sharks', 'Free diving / photography, kneeling on sand', 'Fishing inside net', 'R5D aircraft went down with 29 on board', 'Free diving / Spearfishing', 'Swimming 3 miles offshore', 'Air disaster: crash of Air France Super Constellation ', 'Aircraft crashed into sea', 'Standing in knee-deep water', 'boat with 46 people on board capsized', 'Holding shark on leader & dangling it above the water', 'Helping angler land a shark', 'Fishing, Struck by another shark when removing shark from line', 'Swimming from camp', 'Pulling raft out to ride to shore', 'Fishing, tossing netted shark onboard', 'Testing classified underwater electronic gear for Raytheon Corporation, vessel torn apart by explosion', 'Diving for shells, saw shark circling wife near the surface, intercepted shark & it pulled him beneath the water', 'Spearfishing, free diving, possibly ascended into path of cruising shark', 'Free diving but treading water at surface', 'Skindiving for abalone (but at surface)', 'Fishing, hauling in a set line', 'Spearfishing, shot a sandtiger shark. Cord to spear tangled round his legs & a wave washed him onto a reef.', 'Speared a grouper, saw shark but it came for him instead of the fish so he fired spear into shark\\x92s mouth. Then shark took grouper but unable to swallow because of the spear in its mouth.', 'Fishing in shoulder-deep water', 'Fishing, hooked shark towed boat out to sea, storm swamped boat', 'Spearfishing, carrying fish on belt', 'Wading, fishing for flounder', 'S2F-1 airplane crashed immediately after carrier take-off', 'Portuguese Airliner with 9 people aboard went down. ', 'Fishing, lifting shark out of craypot', 'Setting crayfish pots', 'Standing, watching seine netters', 'Collecting ornamental fish', 'Spear fishing, removing fish from spear', 'Swimming underneath house on pilings', 'Dived from dinghy to retrieve oar in heavy seas', 'ship M.V. Rizal sank during typhoon', 'Spearfishing, Smith  & Walker touched shark with tip of their guns', '17 Maldivians adrift in open boat for 31 days', 'Standing in chest-deep water', 'Trailing the field in a surf race', 'National Airlines DC7B enroute from Miami to Los Angeles with 42 or 46 people on board went down in heavy fog', 'Fishing for tunny', \"Swimming at surface through school of feeding 2.5' to 5\\x92 sharks\", 'Spearfishing, shot shark, hauled it onto boat', 'Dived overboard to retrieve dinghy', \"Adrift, hanging onto cushion, after his 17' skiff ran out of gas & capsized 3 miles from shore\", 'Gigging for flounder', 'Pulling hooked salmon to boat', 'On inflatable raft', 'The 240-ton motor vessel Pilar II with 100 people on board capsized in high winds & rough seas', 'Fishing boat capsized ', 'Spearfishing with Joe Turner (24). Shark attracted to speared halibut on belt of one diver, tried to bite Ide\\x92s speargun & he shot it in the mouth', 'Pulling anchor', 'Spearfishing (but on surface)', 'Dragging stranded shark ashore', 'Columbian petrol barge Rio Atrato burned and sank', 'Swimming ashore from capsized boat', 'Jumped overboard to rescue a man', 'Diving for pearl shell', 'Lifeboat capsized', 'On boat, preparing to dive', 'Fell into water while attempting to boat a swordfish', 'Bathing with sister', 'Working prawn net', 'Washed overboard into school of fish', 'Swimming with motor tube', 'In deep water about 100 yards from his ship', 'Surfing, but treading water', 'Dragging banana seeds through the shallows', 'Swimming ashore from fishing boat swamped and sunk by a squall', 'Paddling & sailing from Buenos Aires to Miami', 'Spear fishing', 'Surfing on air mattress', 'Cleaning hull of ship ', 'Swimming near jetty', 'Slapped shark on tail as it swam by', '\"Climbing up to ship after repairing the stern in water\"', 'Boat stopped to repair electric pump', 'Swimming, ducking for shells in water 0.9 m deep', 'U.S. Airforce C124 enroute from Hickham Air Base to Japan went down. The 3 survivors fashioned raft from mailbags  & were rescued 3 days after the crash.', 'Spearfishing, had fish on his spear', 'Swimming, towing the shark', 'Paddling in knee-deep water', 'Swimming with goggles', 'Fishing, holding fish in his left hand', 'Spearfishing / swimming on surface', 'Placed hand in disemboweled shark\\x92s jaws', 'Fishing, holding fish', 'Fishing (trolling)', 'Fishing, walking in river to cast', 'Air/Sea Disaster Pan-American Airlines Stratocruiser with 44 people onboard crashed into the sea', 'Attempting to net shark in shark channel', 'Diving for trochus', 'M.V. Tropical sank. Sole survivor rode oil drums for 8 days without food or water.', 'Competing in spearfishing championship & towing dead fish', '3 men & 2 boys picked up wearing life jackets and with inner tube', 'Swimming between  anchored  pearling luggers', 'Diving from canoe', 'Skindiving for specimens', 'Helmet diving in Miami Seaquarium', 'Dynamiting fish', 'Free diving for sinkers', \"Spearfishing, holding 5' speared fish\", 'Skindiving, fish at belt', 'Climbing back on ship', 'Swimming near pier', 'Free diving for crayfish', 'Attempting to kill a shark with explosives', 'Line fishing from Lakotoi, saw shoal of fish, dived overboard, had speared second fish & surfaced for air', 'Longling fishing', 'Air/Sea Disaster', 'Free diving, working on U/W scenes for motion picture', 'Boating', 'Swimming, attacked at  surf carnival', 'Attempting to set underwater endurance record', 'Swimming off yacht', 'Removing shark from net ', 'Fishing for pompano', 'Spearfishing & lassoed shark', '\"Flying Tiger\" transport plane went down with 5 men onboard', 'Hunting turtle', 'Swimming near breakwater', 'Spearfishing or fishing', 'Fishing from boat, Kaimamla', 'Swimming with speared fish', \"Competing in U/W endurance record, standing beside drum in 10' of water\", 'Rowing toward snapper grounds', 'Hunting lobsters in 2.4 m of water', 'Crossing the bay at the ford', 'Dived overboard & was swimming near stern of trawler', 'Swimming near canoe', 'American freighter Mormackite, bound from Buenos Aires for Baltimore, capsized & sank in heavy seas', 'Fishing  (trawling)', 'Spearfishing, hunting crayfish', 'Tuna fishing, standing on stern platform that was submerged by waves', 'Closed circuit diving (submerged). Diving to recover jettisoned packets of opium for police', 'Fishing trawler Flavio Gioia ', 'Grabbed shark & threw it on deck', 'Pearl diving from lugger Whyalla', 'Bathing alongside ship', 'Fishing / cleaning fish, dived into water to retrieve a lost fish', 'Fishing from shore', 'Crouching in the water', 'Swimming or wading out  to warn bathers that a shark had been seen', 'Aircaft exploded', 'Fishing from market fishboat Sea Spray', 'Royal Hawaiian skymaster DC-6B aircraft went down with  58 passenger & crew', 'Accidentally dragged overboard from the sampan Holokahana into school of yellowfin tuna', 'Retrieving bait box that had fallen overboard', 'Landing hooked shark in boat', 'Swimming in midriver near sewage outlet & 400 m from a slaughterhouse', \"Adrift on a 4'  raft for 32 days\", 'Went over side of boat at trochus ground', 'Bitten while cutting shark from net', 'Lying prone on surfboard', 'Fishing, setting nets', 'Body surfing & treading water', 'Swimming from fishing boat setting nets', 'Fishing for trout ', 'Boat exploded', 'Spearfishing, carrying fish on spear', 'Swimming on surface', 'Fishing, standing in water washing fish', 'Fishing, standing in water next to purse net', 'Fishing for white sharks', 'Went to aid of child being menaced by the shark', 'Spearfishing, speared a small shark', 'Diving, recovering fish killed by dynamite', 'Shipwrecked; adrift on raft for 2 days & 2 nights', 'cargo ship Southern Isle sank at 04h00', 'Body found on deserted luxury yacht, 38\\x92 Christine', 'Diving (Hookah)', 'Fell overboard', 'Swept out to sea while fishing', 'Fell off surf ski', 'Fishing, casting in the surf', 'Spearfishing (but treading water on the surface)', 'Paddling a surfboat', 'Paddling a canoe', 'Body surfing / treading water', 'Jerked overboard while pole fishing for tuna', 'Swept off deck of S.S.Frontenac enroute from West Indies to US', 'Goggle-diving for seaweeds, but standing in water', 'Survived crash of two-engine  C-46 transport plane carrying 62 migrant workers from Puerto Rico to USA ', 'Sea Disaster, sinking of the fishing  launch Mavis', 'Fishing, sitting in stern of small boat, feet dangling in the water', 'Suicide', 'Fishing, one of three fishermen swept into the sea by a large wave ', 'Sitting on side of dinghy mending a net', 'Defecating in water beneath the docks', 'Bending over', 'Bathing ', 'Diving for coins', 'Spearfishing, but walking carrying fish on end of speargun', 'Helmet diving, collecting trochus shell', 'Sea Disaster, sinking of the motorship Wingate', \"Lying on the bottom of a 16' dinghy\", 'Free diving or wading back to shore', 'No details', 'Swimming near shore', 'A 75-ton  Japanese fishing ship was sunk by  Chinese Nationalist gunboat, shipwrecked men were clinging to debris', 'Examining netted shark, that had been shot', 'Bathing in water 0.9 m deep', 'Lifesaving exhibition', 'Fishing, on a boat', 'Swimming close to wharf', 'Treading water, waiting for a wave', '2 messboys (Jeppsen) & Tony Latona (13) were playing on the afterdeck of the Danish ship Grete Maersk. Jeppsen fell overboard, Latona threw a lifebelt then jumped in to help him. Ship didn\\x92t notice they were missing', 'Air/Sea Disaster involving C-54 Air Force Transport No. 2686 with 37 on board', 'Pearl diving', 'Leicester abandoned in a hurricane', 'Bathing or washing', 'Spearing a shark', 'Fishing, shark caught in his net', 'Bringing hooked, harpooned shark onboard boat', 'C47 aircraft carrying 5,000 lbs of ice ditched in the sea', 'Underwater photography', 'Fishing, holding fish in right hand', 'Fishing / diving', 'Fishing from surf ski', 'Fishing in waist-deep water', 'Jumped overboard ', 'Moving shark from tuna vessel when boat rolled, placing both man & shark in chest-deep water', 'Attempting to ride a shark', \"Swimming near jetty with 2' piece of wood\", 'Pearl diving from lugger', 'Swimming after a tennis ball', 'Fishing, probably with a net', 'Jumping in swells', 'Bitten after dhow shipwrecked', 'American minesweeper USS YMS-472 foundered in a typhoon - swimming to shore', 'American minesweeper USS YMS-350 lost in a typhoon - swimming to shore', 'American cruiser Indianapolis torpedoed & sunk by the Japanese submarine I-58', '90 European civilians, many women & children, were placed on the deck of a Japanese submarine that submerged when it was well offshore', 'Playing on rock, slipped & fell into the water', 'Bathing with her mother', 'Swimming near life raft', 'USS Gambier Bay CVE-73  shelled & sunk  at 09h57 on 10/24/1944, by Japanes fleet enroute to attack the Allied landing force at Leyte.', 'USS Hoel DD 533 sunk on 10/24/1944 in the Battle off Samar. 2 crewmen were swimmng alongside a floater net &', 'USS Johnston DD 557 sunk on 10/24/1944 in the Battle off Samara. Crewmen were swimming beside a raft.', 'Parachuted into Pacific', 'Japanese POW ship Arisan Maru with 1800 American prisoners of war on board bound for slave labor camps was torpedoed by an American submarine', 'Fell overboard from US Navy PC boat', 'Washed overboard by swell', 'Adrift on raft', 'B-24 aircraft crashed  into the sea', 'Fell overboard from USS Ward', 'The Cuban freighter Libertad was torpedoed and sunk by the German submarine U-129', 'Swimming with board', 'The 6711-ton American freighter & troop transport Cape San Juan was torpedoed by the Japanese submarine I-21', 'Dived overboard to check propeller of US Navy motor torpedo boat', 'Flying Fortress bomber aircraft went down after daytime raid on Naples. He was swimming on the surface', 'Treading water after survivng crash of the US Navy airship K-74 that was hit by the German submarine U-134', 'Fishing for cod', 'B-24 crashed during a search mission. Survivors in raft for 47 days ', 'S2N Navy scout plane went down, E.H. Almond & Lieut A.G. Reading in water', 'Hospital Ship Centaur torpedoed & sunk by the Japanese submarine I-177', 'ship torpedoed 400 miles off the African coas. Man was clinging to hatch cover', 'Small boat swamped, 4  people swimming to shore but he fell behind the other 3 and vanished', 'The 21,516-ton troopship Empress of Canada torpedoed and sunk by the Italian submarine Leonardo da Vinci', 'The 3540-ton Alfonso Penna was torpedoed & sunk by the Italian submarine Barbarigo', 'Known as The Battle of the Bismarck Sea :  8 Japanese destroyers guarding a convoy of 8 transports were attacked by 129 Allied fighters, 207 bombers & 3 squadrons of the Royal Australian Air Force. ', 'The USS Wahoo torpedoes & sank the Japanese troop transport Buyo Maru', 'Dog paddling or standing', 'U-177 torpedoed & sank the troopship Nova Scotia', 'Thrown from destroyer when shell hit', 'On 6-Nov-1942, the German submarine U-68 sank the City of Cairo 5 days from Cape Town, survivors took to lifeboats & rafts. On the 15th day, a fireman jumped over the stern & was taken by sharks', 'Anti-Aircraft cruiser USS Atlanta (CL,-05) travelling in convoy after the Battle of Midway, encountered a Japanese flotilla  (Battle of Guadalcanal) &, heavily damaged by gunfire, she was lost off Lunga Point. Victim was swimming when bitten.', 'Explosion & sinking of the USS Juneau after being torpedoed by the submarine  I-85', 'In rubber dinghy with Captain Eddie Rickenbacker for 21 days. ', 'Dutch merchant ship Zaandam torpedoed  by the U-174 amidships, sank & dozens of survivors took to rafts & boats. One man, Izzi, who drifted 83 days on a raft related that sharks attacked many men in the water when the ship went down', 'His ship, the US destroyer Duncan DD 485, had been  sunk by crossfire from Japanese warships. He was wearing a kapok lifejacket & using 2 aluminum powder tins for floatation  ', 'The 6015-ton British ship Empire Avocet was torpedoed by the German submarine U-125. ', 'The Pacquebot Laconia, enroute to Liverpool with 600 Italian prisoners onboard, was torpedoed by the German submarine  U-156 and only 2 rafts were launched before the ship went down. Unable to board an overcrowded raft, he was swimming.', 'Adrift on life raft', 'Japanese aircraft shot down. He was one of two survivors rescued by the U.S. destroyer Mugford', 'The SS Potlach was torpedoed & sunk by the U-153 on 27-Jun-1942. ', 'Sculling', 'A 210-ton brig was sunk by a Japanese submarine. Some of the survivors were machine-gunned & some were taken by sharks', 'boat capsized during filming', 'Plane crashed in water, men in life raft', 'On life raft tethered to lifeboat. A seaman put hand over side to rinse a cup', 'Diving from lugger', 'H.M.S. Cornwall & H.M.S.Dorsetshire sunk by Japanese dive bombers. Officers & men in the water formed a circle with 60 of their dead in the center for 36 hours', 'Esso Bolivar was torpedoed & shelled by the German submarine U-126', \"Captured Allied soldiers were squeezed into 3' bamboo pig baskets & fed to waiting sharks\", 'Fishing for perch', 'Sailing from Gingood, Misamis Oriental to Sagay (normally a 2-day voyage) capsized with 6 on board, three men were taken by sharks when they attempted to swim to shore.', 'Swimming along side N.E.L. vessel Saluda', 'Jumped overboard from torpedoed Panamanian freighter', 'Plane forced down, 3 men on rubber life raft. Put hand over side to feel drift of boat ', 'Ditched plane in the sea & were adrift on a rubber life raft. ', \"Days before the surrender of Singapore, the 3 men escaped to Sumatra where they acquired a 17' dinghy. After 125 days at sea they drifted back to Sumatra\", 'Torpedoed & burning British  light cruiser with a crew of 450 men', 'HMAS Parramatta torpedoed & sunk by the U-559', 'British cruiser Dunedin torpedoed & sunk by the U-124', 'German raider Kormoran was sunk in an engagement with HMAS Sydney', 'SS Ethel Skakel foundered in Central America Hurricane of 1941', 'Swimming at edge of channel', \"Fishing from 32' boat\", 'Ditched aircraft, 3 men in the water. Swam for 31 hours', 'The troopship Britannia was sunk by the German raider Thor', 'Seine netting', 'Rescuing seaman after ship sunk by German raider', 'Adrift on raft after their ship was sunk by an Axis raider ', 'Slipped off rocks and fell into the water', 'Standing on sandbank', 'Collecting fish in military trap when bitten by captured shark that had been shot by soldiers with Garten', 'Free diving for lobster', 'Dived into the water', 'male', 'Standing in water with child in her arms', 'Free diving for trochus shell, swimming to dinghy', 'Spearfishing & had just speared a ulua', 'Japanese freighter Bokuyo Maru burned & sank', 'Dress diving, filming shark & pulling it through the water for a motion picture scene', 'Washed off freighter Huncliff by a freak wave', 'Dived for a coin', 'Bathing/Swimming', 'Scooping prawns', 'She was on a ship that was torpedoes & was in the water awaiting rescue', 'Swimming to anchored boat', 'Swimming alongside warship   Tsingt-ao', \"Fishing, removing gaff from shark's mouth\", 'Hardhat diving from Japanese pearling lugger, Reiyo Maru', 'The schooner Elizabeth, bound from Bluefields, Nicaragua to the river port of San Carlos foundered', 'Hardhat diving', 'Swimming, naked', 'Canoe capsized by shark', 'Watching seine netters with friends, one of whom picked up a netted shark', 'Diving off jetty', 'Sponge diving', 'Tzenny Chandris, a Greek freighter laden with scrap iron, foundered in heavy weather', 'Two canoes with 14 aboard blown to sea in a storm. While adrift for 3 week, one person fell overboard and was killed by a shark', 'Pleasure boating', 'Diving from the lugger San, operated by the Protector of the Aborigines', 'Fishing from launch, fell into net with shark', 'Refused permission to cross on the ferry, he was swimming across the river', 'Swimming ashore after launch capsized', \"12 of the Penang's crew were returning to the ship when their 12' dinghy capsized\", \"Holding shark's tail \", 'Diving, attempting to retrieve body of drowning victim wedged between rocks', 'Fishing for the shark that killed George Lundberg', 'Wreck of a sampam', 'Trochus diving, but floating on surface', 'Swept overboard', 'Swimming crawl stroke', 'Fishing for bluefish', 'Fishing, catching snoek, Thyrsites atun', 'Diving for trochus , but swimming on surface', 'Among 31 survivors of crew from the sampan Fukulya Maru (which reached Thursday Island in rowing boat) was a man whose arm had been bitten off by shark. The sampan wrecked west of McArthur island ', 'Touching the mouth of a supposedly dead shark', 'Swimming. Passer-by, Len Bedford, heard him shriek , saw shark leap from the water & swimmer disappeared', 'Diving?', 'Fell overboard, hanging onto lifebuoy', 'Diving for beche-de-mer from lugger', 'fishing boat exploded & sank', 'Fishing with dynamite, afterwards in water retrieving catch', 'Fishing for bluefish, shark leapt into dory', 'Put foot inside a landed & supposedly dead shark', 'Disappeared 11 days earlier, probable homicide victim', 'Diving from dinghy for trochus shell', 'Put foot inside mouth of supposedly dead shark', 'Pearl diving, but standing in the water', 'Hauling in net with shark in it', 'Surfing (pneumatic surfboard)', 'Swimming (lead swimmer in race)', 'Taken as he dived into the water', 'Swimming & splashing', 'Freediving for trochus shell (submerged)', 'Dived into sea from launch & bitten immediately', 'Swimming in waist-deep water ', 'Swimming in hip-deep water', 'Splashing in water ', 'Swimming outside the safety enclosure attempting to retrieve a tennis ball drifting toward midstream ', 'Swimming on sandbar adjacent to channel', 'Free diving for trochus ', \"Fishing, caught a 15' shark & took it onboard\", \"Sitting in 3' of water\", 'Yacht of Michael Howell capsized', 'Swimming to shore from capsized sailboat', 'Standing on his hands', \"Diving for trochus  from dinghy when seized by shark 6' below the surface\", 'Hurricane & Tidal Wave', 'Catching a turtle', 'On expedition filming a feature movie & standing on tripod', 'Fishing, hauling in fishing gear', 'Free diving with goggles', 'Fishing with dynamite', 'Working near fish traps', 'Collecting fish by lamplight in gully', 'Diving for trochus from lugger', 'Diving off wharf', 'Swimming a quarter mile offshore', 'Fell overboard?', 'Fishing, had just speared a ulua', 'Gaffing & attempting to bring onboard a harpooned shark', 'Fishing, boat capsized', 'Fishing with a cast net', 'Fishing, hauling in net, shark in net', 'Swimming, carrying tin can with mail to steamer', 'Thrown into water from fishing dinghy', 'Swimming / floating', 'Diving off pier & treading water', 'Removing shark from a trap', 'Fishing schooner Jose Luis foundered', 'Swimming to shore after a squall  capsized their motorized shark fishing boat', 'Diving by wharf', 'Bathing or body surfing ', 'Sea Disaster, wreck of the  SS Norwich City', 'Fell from wharf into water & attacked immediately', 'Diving for trepang', 'Swimming between boats', 'Launching rowboat through the surf', 'Diving for coins thrown from ship S.S. Moeraki', 'Wading, netting fish', 'Hardhat diving ', 'Sea Disaster, sinking of the  SS Vestris', 'Retrieving meat from a cage in the water', 'Jumped overboard and swimming', 'The steamer Tahiti collided with the ferry Greycliffe', 'Italian liner Principessa Mafalda sank', 'Riding horseback across the creek', 'Standing, collecting bananas', 'Feeling the shark\\x92s teeth', 'Attempting to rescue drowning man', 'British patrol boat 1250-ton HMS  Valerian foundered in a hurricane', 'Jumped out of canoe', 'Swimming with dog near canning factory', 'Fell overboard from SS Ripley Castle', 'Shark hoisted on board liner Tahiti', 'Dived onto shark from floating stage', 'Swimming to mail boat', 'Bathing in waist-deep water', \"Diving, repairing water main at depth of 90'\", 'Diving for coins tossed from passenger ship', 'The Ward liner Esperanza stranded during a gale & she leapt overboard to rescue her dog which had been swept overboard.', 'Inebriated, woke from sleep and fell off deck into the water ', 'Removing shark from a net', 'Fishing, fell in water & swimming strongly to shore', 'Floating, after falling or jumping off the Standard Oil tanker Frederick W. Weller', \"Bathing in 5' of water\", 'Had just dived into water & was swimming', 'Fishing, standing in waist-deep water', 'Dry shelling', 'Diving for pearl', 'After rowing skiff was holed by shark, he was attempting to swim ashore', 'Dismantling cable buoys of the cable ship All America', 'seaplane Columbus ditched in the sea', 'Hoisting shark aboard fishing boat', \"Bathing in 3' to 4' of water\", 'Freediving, inspecting Kaunakakai wharf construction after blasting & dredging ', 'Bathing in knee-deep water', \"Fell from his father's back into the water\", 'Wading to dinghy, carrying his son', 'Diving for beche-de-mer ', 'Dived into a school of baitfish', 'The coastwise steamer San Basilio capsized in a typhoon', 'Harpooned shark', 'Boat capsized, swimming to shore', 'Floating face down', 'Jumped overboard', 'Sitting in a boat', 'Small vessel with 13 men on board capsized crossing the bar and 6 men drowned.  The 7 survivors were swimming to shore', '\"Swimming vigorously\"', 'Knocked into the water', 'Cutter capsized', 'Wading (shrimping)', 'Steamer Una wrecked with 75 laborers onboard. Survivors took to rafts & lifeboats.', 'Wreck of the tug Magellan', 'Swimming, towing an empty barrel', 'Stuffing a shark into an automobile', 'Swimming to shore from the Medic', 'Ship Mariston torpedoed & sunk', 'Swimming beside launch', 'Diving for pearls', 'Diving for sponges', 'Taking wife to beach & about 1 m from the shore', 'Swimming 10 m from shore', 'Fishing, attempted to take a netted shark', 'Netting shrimp', 'Swimming (recovering remains of Stilwell) ', 'S.S. Ramos foundered in a hurricane. Captain & 14 crew in water-logged lifeboats. ', 'Jumped overboard from Norwegian steamship Venator', 'Clinging to overturned rowing boat', 'Skin diving for trepang but at surface next to the boat', 'Copra vessel with 19 on board was wrecked in a squall', 'Washing clothes', 'Swimming ashore from swamped 13-ft boat', 'Boat swamped', 'Washed into sea while picking opihi & attacked by 2 large sharks ', 'Hauling in net', 'Swimming after his hat', 'Swimming from foundered vessel', 'Washed overboard', 'Fell overboard from steamship Rio Grande', 'Jumped overboard to rescue companion', 'Fell overboard & swimming', '3-masted steel barque Glenbank foundered during a cyclone', 'Shipwrecked pearling schooner', 'Steamer Durao struck rock & filled, boats capsized, passengers & crew tried to swim to shore', 'Unknown, their unoccupied yawlboat was recovered', 'Fell overboard from USS cruiser Tacoma', 'Hard hat diving, laying some charge of powder', 'Surf bathing', 'Fishing, thrown into water by heavy sea, clinging to rocks at the water line', 'The 2379-ton French steamer La Seyne collied with British steamer Onda & sank in minutes. Passengers jumped overboard expecting to be picked up by Onda\\x92s boats', 'Fell overboard from fishing schooner Halycon', 'Fell overboard while fishing for sharks', '1446-ton Norwegian barque Errol, bound from Peru to Newcastle with 22 on board wrecked. Survivors shelterd on the wreck of the Annasona. Subsequently the Master, his wife & 4 children perished along with several crew. Survivors (5) were rescued 7/12/1909', 'Reported swept away by waves while gathering opihi', 'Diving (Helmet) for sponges', 'Wreck of the 1308-ton Norwegian ship Auckland', 'On December 28, 1908, an earthquake, followed by tsunamis, destroyed coastal towns in Silcily and southern Italy, killing more than 100,000 people', 'Fell from the jetty', 'On fishing boat & trailing hand in the water', 'Fell overboard from P&O steamship Arabia', 'The 168-ton Belmore foundered in heavy seas', 'The British steamer Caribbee foundered', '.', 'native boats sunk in storm', 'Gathering fish stunned by dynamite', 'Reached out to disentangle rope & fell overboard', 'Diving, retrieving fish caught in net ', 'Floating in creek', 'Fishing,  tarpon being chased by shark  leapt across his skiff, breaking it in half & Larkin became tangled in the net', 'Row boat (from the gunboat Elcano) was sinking, put finger in hole', 'Net fishing, fell into the water', 'Diving around anchored liner', 'Shooting sharks ', 'The schooner Tahitienne foundered in a hurricane', 'Washing horses', 'Floating or standing', 'Human head found in shark caught by British steamer Syria', 'Swimming from naptha launch after a day of fishing', 'Jumped or fell overboard', 'Harpooning turtles', 'Bathing alongside US Naval ship', 'Lost his footing & fell overboard', \"Ship's boat capsized in squall, captain & 2 sailors clinging onto hull\", 'Diving on a wreck', 'Swimming, after falling overboard', 'Catching crabs', 'Standing on ship deck', 'Taking catch from a fish weir in which the shark was snared', 'Hunting seashells', ' ', 'Standing, gathering oysters', 'Hunting sharks', 'Fell overboard ', 'Attempting to land a boat from the Hinemoa', 'Hunting crayfish', 'Fell oveboard', 'Swimming after their boat capsized', 'Swimming at side of small boat', 'boat from City of Naples capsized', 'The cutter Francis Adams foundered', 'Sponge divers', 'Fishing (Seining)', '13 men in the water after sailboat capsized & sank', 'Trailing hand in the water', 'Attempting to escape by swimming to shore', 'Loss of the schooner Nomad', 'Angling', 'Wading after stray fish from seine netter\\x92s catch', 'Wreck of the steamship Sultan of Bombay', 'Swimming ashore from a \"filibuster\"', 'Hunting seals', 'Sea Disaster : Wreck of the Carrie E. Long', '\"Boat accident\"', '\"Crossing the river\"', 'Swimming, after sailboat capsized', 'Swimming / floating on his back', 'Swimming after harpooned whale capsized boat', 'Fell from yardarm of British ship Rover', 'small boat', 'Abandoning burning steamship Don Juan', 'A barque wrecked', 'HMS Victoria collided with the HMS Camperdown', 'Canoe swamped', 'His balloon crashed in the harbor', 'Swimming after falling overboard from the sealing ship Vesper', 'Boat capsized, swimming ashore', 'Murdered', 'Riding a horse', 'Fell overboard from sponge vessel', ' a canoe was pursuing a schooner that had forcibily abducted 5 young girls', 'Dress diving', 'Swimming, after boat swamped', 'Attempting to rescue shipmate', 'Sea Disaster, canoes capsized in storm', 'Knocked overboard', 'Fishing for sharks when he became entangled in net & fell overboard', 'Fleeing across a river', 'boat capsized', 'Swimming to shore after boat capsized by a squall', 'Thrown overboard', 'Treading for clams', 'Fishing boat with 4 men on board was rammed & capsized by  a shark, throwing all occupants into the water', 'Parachuted from balloon', 'Cleaning the side of a ship', 'Working on the bridge when he fell into the river', 'The steamships Thingvalla and Geiser collided', 'Probabable drowning', 'The Dwarka foundered', 'The cutter yacht Cutty Sark sank', 'Crossing the river mouth', 'Fell oveboard from steamer Wanderer', 'Crossing inlet in a boat, seen fighting sharks with his oar, sharks smashed boat', 'Sea disaster, wreck of the Alfred Watts', 'Sea disaster, wreck of the sloop Sara', 'Rowing a dinghy', 'The passenger ship Kapuna was run down the ore carrier Ada Melmore', 'British ship Macedon was thrown on her beam ends by a sudden squall', 'Netting menhaden, sharks caught in net', 'Swimming after being washed overboard', 'Fishing from shore, washed into the sea', 'Oystering', 'Sea disaster : Wreck of the Taiaroa', 'He drowned when boat capsized', 'Diving alongsidethe steamship Ranelagh ', 'Fell or jumped overboard from the liner Rhynland', 'Wreck of the schooner Pohoiki ', 'yachting accident', 'Fell overboard from the steamship Chala', 'Fell overboard & rescuer', 'Swimming / escaping imprisonment ', 'Restraining a beached shark', 'Clinging to shipwrecked junk', 'Fell overboard from the Selim', 'During \"an exhibition\" he was tied in sack & thrown overboard ', 'Floating, holding onto an oar after dory capsized', 'Traveling by boat', 'Swimming to retrieve a flannel', 'Bathing in river', 'The steamship Bonnie Dundee lost in collision', 'Floating with life buoy after pilot launch capsized', 'Jumped overboard after murdering 2 shipmates', 'Boat with 5 men capsized while returning to the Amerique', 'Wreck of the Union Steamship Company 982-ton iron steamer Kafir', 'Washed off raft', 'Bathing in 2 feet of water', 'Washed overboard from the barque Mary Eady', 'Body found floating next to his ship', 'Escaping from blackbirding vessel', 'Salvaging a shipwreck', 'Boat of the Resolution capsized in the breakers', 'Fleet of canoes caught by a squall and charged by sharks.', 'Swimming to avoid capture', 'Burning of the S.S. Missouri', 'Wreck of the 150-ton brig Maria', 'Adrift on a raft ', 'Bathing / standing', 'Net fishing', 'A junk foundered', 'Bathing close inshore', 'boat from the Austrian ship Elizabeth', 'boat from ship Josephine capsized in squall', 'Painting a ship', 'Swimming alongside the schooner Catherine Wilcox', 'Boarding a ship', 'Wreck of the Aphrodite', 'Dragging a shark', 'Coming ashore on a hawser', 'Standing / Bathing', 'Reaching for life preserver', 'Bathing near whaling ship (bark A. R. Tucker of New Bedford, Massachusetts)', 'Launching a boat', 'Swimming, caught in strong backwash & disappeared', 'Trying to catch a wounded bird', 'Swimming alongside the SS Kearsarge', 'Boat of a Hawaiian brig was stove in by  whale', 'Bathing alongside the American ship Thomas W. Sears', 'Deserting the bark Nazarene', 'Gloucester fishing schooner run down', '43-ton schooner Irene capsized & sank', 'In boat being towed by ship, Karnak', 'Jumped overboard while intoxicated', 'ship William Penn grounded & broke apart', 'Fell overboard from the Malacca', 'Fell overboard from the Sobella', 'Commercial Salvage Diving', 'He was fighting a shark when his boat capsized & he disappeared', 'Swimming from capsized boat', 'Wreck of the steamship Birkenhead', 'Vessel capsized, wading ashore carrying an oar', 'Attempting to rescue woman seized by shark', 'Hilo', 'Wreck of the Sovereign', 'Wreck of the Tweed', 'Wreck of the USS Somers', 'Jumped into river', 'Boat capsized', 'Harassing a shark', 'Washed off catamaran in the surf', 'Unknown, but it was said to be the \"First known attack in Sydney Harbour\"', 'Accidentally thrown overboard & treading water while awaiting rescue', 'Attempting to rescue crew after whale upset their boat', 'Hooking into a whale', 'American schooner Orator capsized  ', 'Boat capsized, clinging to line', 'Fishing from dory, shark upset boat & he fell into the water', 'Washing a dog', 'Fell overboard from the ship Gem', 'Wreck of the schooner Driver', 'British ship, Britannia,  was loading lumber. He was bathing', 'HBM Magpie foundered in a squall', 'Conch diver', \"Standing on landed shark's tail\", \"a corsair's boat was overturned\", 'Dropped overboard', 'Washing himself', 'Fell overboard from a frigate & was swallowed by a shark. The captain fired a gun at the shark, and \"the creature cast the man out of his throat.\"', 'Went overboard', 'Ship lay at anchor & man was working on its rudder', 'Man fell overboard from ship. Those on board threw a rope to him with a wooden block & were pulling him to the ship', 'Ascending from a dive', 'Washing his pig in preparation for a religious ceremony', 'Shipwrecked Persian Fleet', 'Swimming/', 'Swimming to canoe', 'Fishing for basking sharks', 'Collecting fish ', 'A dhow capsized', 'Net-fishing', 'Fishing?', 'Free diving for sponges', 'Helmet diving', 'yachtsman in a zodiac', 'Attempting to drive shark from area', \"Skin diving. Grabbed shark's tail; shark turned & grabbed diver's ankle & began towing him to deep water\", 'Crossing river on a raft', 'Free diving, collecting sand dollars', 'Swimming from capsized pirogue', 'Fishing from a small boat & put his hand in the water while holding a dead fish', 'Swimming naked near a date palm where many dates fell into the water', 'Swimming in section of river used for washing clothes & cooking utensils', 'Swimming with fish attached to  belt', 'Testing movie camera in full diving dress', 'Swimming near anchored ship', 'Lashing logs together when he fell into the water', 'Shark fishing, knocked overboard', 'Fishing, wading with string of fish', 'A group of survivors on a raft for 17-days', 'Fishing in ankle-deep water', 'Standing, washing rear wheels of his ambulance in ankle-deep water', 'Carrying a supposedly dead shark by its mouth', 'Spent 8 days in dinghy', 'Aircraft ditched in the sea, swimming ashore', 'Wooden fishing boat', 'Swimming in pool formed by construction of a wharf', 'Swimming around anchored ship', 'Crew swimming alongside their anchored ship', '4 men were bathing', 'Wreck of  large double sailing canoe']\n"
     ]
    }
   ],
   "source": [
    "a = list(tiburones2.Activity.unique())\n",
    "print(a)"
   ]
  },
  {
   "cell_type": "code",
   "execution_count": 66,
   "id": "e65c109c",
   "metadata": {},
   "outputs": [
    {
     "data": {
      "text/plain": [
       "Surfing                                   971\n",
       "Swimming                                  869\n",
       "Fishing                                   431\n",
       "Spearfishing                              333\n",
       "Bathing                                   162\n",
       "                                         ... \n",
       "Playing with a frisbee in the shallows      1\n",
       "Sinking of the ferryboat Dumaguete          1\n",
       "Wreck of the Storm King                     1\n",
       "Feeding mullet to sharks                    1\n",
       "Wreck of  large double sailing canoe        1\n",
       "Name: Activity, Length: 1532, dtype: int64"
      ]
     },
     "execution_count": 66,
     "metadata": {},
     "output_type": "execute_result"
    }
   ],
   "source": [
    "tiburones2[\"Activity\"].value_counts()"
   ]
  },
  {
   "cell_type": "markdown",
   "id": "9f8bd575",
   "metadata": {},
   "source": [
    "\n",
    "# Utilizamos Country y Actividad\n",
    "Para poder tener en cuenta las actividades y los países, hemos decidio quedarnos con los 5 valores más comunes que salen en el Value_counts, el resto lo llevaremos a otros y crearemos grupos sin tenerlos en cuenta"
   ]
  },
  {
   "cell_type": "code",
   "execution_count": 67,
   "id": "669381d0",
   "metadata": {},
   "outputs": [],
   "source": [
    "tiburones2[\"Activity\"] = tiburones2[\"Activity\"].apply(fl.homogeneizarActivity)"
   ]
  },
  {
   "cell_type": "code",
   "execution_count": 68,
   "id": "a5698ed3",
   "metadata": {},
   "outputs": [
    {
     "data": {
      "text/plain": [
       "array(['Other', 'Surfing', 'Swimming', 'Fishing', 'Spearfishing',\n",
       "       'Bathing'], dtype=object)"
      ]
     },
     "execution_count": 68,
     "metadata": {},
     "output_type": "execute_result"
    }
   ],
   "source": [
    "tiburones2[\"Activity\"].unique() "
   ]
  },
  {
   "cell_type": "code",
   "execution_count": 69,
   "id": "8a5069a8",
   "metadata": {},
   "outputs": [
    {
     "data": {
      "image/png": "[encoded data removed]",
      "text/plain": [
       "<Figure size 864x432 with 1 Axes>"
      ]
     },
     "metadata": {},
     "output_type": "display_data"
    }
   ],
   "source": [
    "sns.countplot(x=tiburones2[\"Activity\"]);"
   ]
  },
  {
   "cell_type": "code",
   "execution_count": 70,
   "id": "0f02d0b7",
   "metadata": {},
   "outputs": [
    {
     "data": {
      "text/plain": [
       "USA                       2229\n",
       "AUSTRALIA                 1338\n",
       "SOUTH AFRICA               579\n",
       "PAPUA NEW GUINEA           134\n",
       "NEW ZEALAND                128\n",
       "                          ... \n",
       "MALDIVE ISLANDS              1\n",
       "NICARAGUA                    1\n",
       "NORTH SEA                    1\n",
       "RED SEA / INDIAN OCEAN       1\n",
       "CEYLON (SRI LANKA)           1\n",
       "Name: Country, Length: 212, dtype: int64"
      ]
     },
     "execution_count": 70,
     "metadata": {},
     "output_type": "execute_result"
    }
   ],
   "source": [
    "tiburones2.Country.value_counts()"
   ]
  },
  {
   "cell_type": "code",
   "execution_count": 71,
   "id": "f8588000",
   "metadata": {},
   "outputs": [],
   "source": [
    "tiburones2[\"Country nuevo\"] = tiburones2[\"Country\"].apply(fl.homogeneizarpaises)"
   ]
  },
  {
   "cell_type": "code",
   "execution_count": 72,
   "id": "b0b7fcb6",
   "metadata": {},
   "outputs": [
    {
     "data": {
      "text/plain": [
       "USA                 2229\n",
       "AUSTRALIA           1338\n",
       "SOUTH AFRICA         579\n",
       "PAPUA NEW GUINEA     134\n",
       "NEW ZEALAND          128\n",
       "Name: Country nuevo, dtype: int64"
      ]
     },
     "execution_count": 72,
     "metadata": {},
     "output_type": "execute_result"
    }
   ],
   "source": [
    "tiburones2[\"Country nuevo\"].value_counts()"
   ]
  },
  {
   "cell_type": "code",
   "execution_count": 73,
   "id": "0dfae5be",
   "metadata": {},
   "outputs": [],
   "source": [
    "#Vamos a ver si hay algún nan por ahí, por confirmar "
   ]
  },
  {
   "cell_type": "code",
   "execution_count": 74,
   "id": "8619c34d",
   "metadata": {},
   "outputs": [],
   "source": [
    "tiburones2['Country nuevo'].fillna('OTHER', inplace=True)"
   ]
  },
  {
   "cell_type": "code",
   "execution_count": 75,
   "id": "efc20550",
   "metadata": {},
   "outputs": [
    {
     "data": {
      "text/plain": [
       "Index(['casenumber', 'Date', 'Type', 'Country', 'Activity', 'Fatal (Y/N)',\n",
       "       'Species', 'yearnuevo', 'Country nuevo'],\n",
       "      dtype='object')"
      ]
     },
     "execution_count": 75,
     "metadata": {},
     "output_type": "execute_result"
    }
   ],
   "source": [
    "tiburones2.columns"
   ]
  },
  {
   "cell_type": "code",
   "execution_count": 76,
   "id": "894f4923",
   "metadata": {},
   "outputs": [
    {
     "data": {
      "text/plain": [
       "1"
      ]
     },
     "execution_count": 76,
     "metadata": {},
     "output_type": "execute_result"
    }
   ],
   "source": [
    "tiburones2.Date.isna().sum()"
   ]
  },
  {
   "cell_type": "code",
   "execution_count": 77,
   "id": "f95ebdf1",
   "metadata": {},
   "outputs": [],
   "source": [
    "tiburones2['Date'].fillna('OTHER', inplace=True)"
   ]
  },
  {
   "cell_type": "code",
   "execution_count": 78,
   "id": "f68cc66f",
   "metadata": {},
   "outputs": [
    {
     "data": {
      "text/plain": [
       "0"
      ]
     },
     "execution_count": 78,
     "metadata": {},
     "output_type": "execute_result"
    }
   ],
   "source": [
    "tiburones2.Date.isna().sum()"
   ]
  },
  {
   "cell_type": "code",
   "execution_count": 79,
   "id": "7f9b27ab",
   "metadata": {},
   "outputs": [
    {
     "data": {
      "text/plain": [
       "5"
      ]
     },
     "execution_count": 79,
     "metadata": {},
     "output_type": "execute_result"
    }
   ],
   "source": [
    "tiburones2.Type.isna().sum()"
   ]
  },
  {
   "cell_type": "code",
   "execution_count": 80,
   "id": "ddcd65e4",
   "metadata": {},
   "outputs": [],
   "source": [
    "tiburones2['Type'].fillna('Questionable', inplace=True)"
   ]
  },
  {
   "cell_type": "code",
   "execution_count": 81,
   "id": "eea0e142",
   "metadata": {},
   "outputs": [
    {
     "data": {
      "text/plain": [
       "0"
      ]
     },
     "execution_count": 81,
     "metadata": {},
     "output_type": "execute_result"
    }
   ],
   "source": [
    "tiburones2.Type.isna().sum()"
   ]
  },
  {
   "cell_type": "code",
   "execution_count": 82,
   "id": "5c4005aa",
   "metadata": {},
   "outputs": [
    {
     "data": {
      "text/plain": [
       "0"
      ]
     },
     "execution_count": 82,
     "metadata": {},
     "output_type": "execute_result"
    }
   ],
   "source": [
    "tiburones2.Activity.isna().sum()"
   ]
  },
  {
   "cell_type": "code",
   "execution_count": 83,
   "id": "186ace48",
   "metadata": {},
   "outputs": [
    {
     "data": {
      "text/plain": [
       "0"
      ]
     },
     "execution_count": 83,
     "metadata": {},
     "output_type": "execute_result"
    }
   ],
   "source": [
    "tiburones2['Fatal (Y/N)'].isna().sum()"
   ]
  },
  {
   "cell_type": "code",
   "execution_count": 84,
   "id": "ce850d86",
   "metadata": {},
   "outputs": [
    {
     "data": {
      "text/plain": [
       "0"
      ]
     },
     "execution_count": 84,
     "metadata": {},
     "output_type": "execute_result"
    }
   ],
   "source": [
    "tiburones2['yearnuevo'].isna().sum()"
   ]
  },
  {
   "cell_type": "code",
   "execution_count": 85,
   "id": "b4ddc14c",
   "metadata": {},
   "outputs": [
    {
     "data": {
      "text/plain": [
       "0"
      ]
     },
     "execution_count": 85,
     "metadata": {},
     "output_type": "execute_result"
    }
   ],
   "source": [
    "tiburones2['Country nuevo'].isna().sum()"
   ]
  },
  {
   "cell_type": "markdown",
   "id": "59740c7c",
   "metadata": {},
   "source": [
    "# Quitamos los \"otros\"\n",
    "Para que no nos salgan los cajones desastre de cada categoría, hacemos un grupo no teniendo en cuenta estas categorías"
   ]
  },
  {
   "cell_type": "code",
   "execution_count": 86,
   "id": "df558c52",
   "metadata": {},
   "outputs": [],
   "source": [
    "activities = tiburones2[tiburones2[\"Activity\"] != 'Other'] #haciendo este grupo nos quitamos los others"
   ]
  },
  {
   "cell_type": "code",
   "execution_count": 87,
   "id": "0180a3e8",
   "metadata": {},
   "outputs": [
    {
     "data": {
      "image/png": "[encoded data removed]",
      "text/plain": [
       "<Figure size 864x432 with 1 Axes>"
      ]
     },
     "metadata": {},
     "output_type": "display_data"
    }
   ],
   "source": [
    "sns.countplot(x=activities[\"Activity\"]);"
   ]
  },
  {
   "cell_type": "code",
   "execution_count": 88,
   "id": "3b69bef8",
   "metadata": {},
   "outputs": [],
   "source": [
    "countries = activities[activities[\"Country nuevo\"] != 'OTHER'] #de esta manera nos quitamos también los other de countries"
   ]
  },
  {
   "cell_type": "code",
   "execution_count": 89,
   "id": "d9251b1d",
   "metadata": {},
   "outputs": [
    {
     "data": {
      "image/png": "[encoded data removed]",
      "text/plain": [
       "<Figure size 864x432 with 1 Axes>"
      ]
     },
     "metadata": {},
     "output_type": "display_data"
    }
   ],
   "source": [
    "sns.countplot(x=countries[\"Country nuevo\"]);"
   ]
  },
  {
   "cell_type": "code",
   "execution_count": 90,
   "id": "eb0d9325",
   "metadata": {},
   "outputs": [
    {
     "data": {
      "text/plain": [
       "array(['Invalid', 'Unprovoked', 'Questionable', 'Boating', 'Provoked',\n",
       "       'Boat', 'Boatomg', 'Sea Disaster'], dtype=object)"
      ]
     },
     "execution_count": 90,
     "metadata": {},
     "output_type": "execute_result"
    }
   ],
   "source": [
    "countries[\"Type\"].unique() "
   ]
  },
  {
   "cell_type": "code",
   "execution_count": 91,
   "id": "b7fa5398",
   "metadata": {},
   "outputs": [
    {
     "name": "stderr",
     "output_type": "stream",
     "text": [
      "<ipython-input-91-85c188919e25>:1: SettingWithCopyWarning: \n",
      "A value is trying to be set on a copy of a slice from a DataFrame.\n",
      "Try using .loc[row_indexer,col_indexer] = value instead\n",
      "\n",
      "See the caveats in the documentation: https://pandas.pydata.org/pandas-docs/stable/user_guide/indexing.html#returning-a-view-versus-a-copy\n",
      "  countries[\"Type\"] = countries[\"Type\"].apply(fl.homogeneizarType)\n"
     ]
    }
   ],
   "source": [
    "countries[\"Type\"] = countries[\"Type\"].apply(fl.homogeneizarType)"
   ]
  },
  {
   "cell_type": "code",
   "execution_count": 92,
   "id": "944ed696",
   "metadata": {},
   "outputs": [
    {
     "data": {
      "text/plain": [
       "array(['Questionable', 'Unprovoked', 'Provoked'], dtype=object)"
      ]
     },
     "execution_count": 92,
     "metadata": {},
     "output_type": "execute_result"
    }
   ],
   "source": [
    "countries[\"Type\"].unique() "
   ]
  },
  {
   "cell_type": "code",
   "execution_count": 93,
   "id": "fa24554a",
   "metadata": {},
   "outputs": [
    {
     "name": "stderr",
     "output_type": "stream",
     "text": [
      "/home/mariadelas/anaconda3/envs/ironhack/lib/python3.8/site-packages/pandas/core/generic.py:6392: SettingWithCopyWarning: \n",
      "A value is trying to be set on a copy of a slice from a DataFrame\n",
      "\n",
      "See the caveats in the documentation: https://pandas.pydata.org/pandas-docs/stable/user_guide/indexing.html#returning-a-view-versus-a-copy\n",
      "  return self._update_inplace(result)\n"
     ]
    }
   ],
   "source": [
    "countries.Date.fillna('Unknown', inplace=True)"
   ]
  },
  {
   "cell_type": "markdown",
   "id": "2067f6f0",
   "metadata": {},
   "source": [
    "Aprovechamos para sacar partido a los meses ya que lo necesitaremos para saber si en australia los ataques se dan más en diciembre"
   ]
  },
  {
   "cell_type": "code",
   "execution_count": 94,
   "id": "73d91c13",
   "metadata": {},
   "outputs": [
    {
     "name": "stderr",
     "output_type": "stream",
     "text": [
      "<ipython-input-94-9551048a29fa>:1: SettingWithCopyWarning: \n",
      "A value is trying to be set on a copy of a slice from a DataFrame.\n",
      "Try using .loc[row_indexer,col_indexer] = value instead\n",
      "\n",
      "See the caveats in the documentation: https://pandas.pydata.org/pandas-docs/stable/user_guide/indexing.html#returning-a-view-versus-a-copy\n",
      "  countries[\"mes2\"] = countries[\"Date\"].apply(fl.mesBea)\n"
     ]
    }
   ],
   "source": [
    "countries[\"mes2\"] = countries[\"Date\"].apply(fl.mesBea)"
   ]
  },
  {
   "cell_type": "code",
   "execution_count": 95,
   "id": "f3da0ef5",
   "metadata": {},
   "outputs": [
    {
     "data": {
      "text/plain": [
       "array(['Juny', 'May', 'April', 'March', 'February', 'January', 'December',\n",
       "       'November', 'October', 'September', 'August', 'July', 'Other'],\n",
       "      dtype=object)"
      ]
     },
     "execution_count": 95,
     "metadata": {},
     "output_type": "execute_result"
    }
   ],
   "source": [
    "countries[\"mes2\"].unique() "
   ]
  },
  {
   "cell_type": "code",
   "execution_count": 97,
   "id": "5bbb4182",
   "metadata": {},
   "outputs": [],
   "source": [
    "countries.to_csv(\"data/countries.csv\")"
   ]
  }
 ],
 "metadata": {
  "kernelspec": {
   "display_name": "ironhack",
   "language": "python",
   "name": "ironhack"
  },
  "language_info": {
   "codemirror_mode": {
    "name": "ipython",
    "version": 3
   },
   "file_extension": ".py",
   "mimetype": "text/x-python",
   "name": "python",
   "nbconvert_exporter": "python",
   "pygments_lexer": "ipython3",
   "version": "3.8.5"
  }
 },
 "nbformat": 4,
 "nbformat_minor": 5
}
